{
 "cells": [
  {
   "cell_type": "markdown",
   "metadata": {},
   "source": [
    "# Outline of notebook and use of OSEMN framework:\n",
    "\n",
    "### Obtain\n",
    "The dataset provided for this study is a sample of residential houses from King County in the State of Washington, US.  Overall it is fairly easy and inuitive to understand the features, although some of the column descriptions provided are quite ambigous and need further investigation.\n",
    "\n",
    "### Scrub\n",
    "A number of columns contain null values, or placeholder values (such as '?'), so these need to be cleaned up before embarking on any significant EDA. In particular the waterfront column poses a problem because the number of null values amounts to almost 10% of the dataset, which is too many to delete.  The solution is found by using the lat/long data and plotting the homes with null waterfront values on a map in order to establish whether they are actually by the waterfront.\n",
    "\n",
    "More granular exploration of the data is possible through the use of the King County online property viewer available here:\n",
    "\n",
    "https://gismaps.kingcounty.gov/parcelviewer2/\n",
    "\n",
    "The ID of each entry in the dataset can be used to view the details of specific properties.  For example:\n",
    "https://blue.kingcounty.com/Assessor/eRealProperty/Detail.aspx?ParcelNbr=2402100895\n",
    "- it is clear that the value of 33 bedrooms for this house was a data entry error.\n",
    "\n",
    "This resource also clarifies that the column descriptions for view / sqft_living15 and sqft_lot15 are likely to be inaccurate and therefore the data can be disregarded. Email communication with the King County Deparment of Assessments has also been used to clarify the meaning of some aspects of the data.  (For example the float values for the bathrooms column is a result of a bathroom without a bathtub being given a value of 0.75, and a bathroom with just a toilet and sink 0.5).\n",
    "\n",
    "### Explore\n",
    "Exploration of the data is primarily acheived through side-by-side observations of scatterplots and histograms. It quickly becomes apparent that some features are not relevant to the target variable (price), while others will need to be incorporated as categorical rather than continuous variables.  Multi-collinearity is a major issue in the dataset, with almost all features that show a relationships to price being also correlated to eachother.  The work-around here is to use grade as a categorical feature and to incorporate zipcodes as a predictor using mean house prices for each zipcode.\n",
    "\n",
    "### Model\n",
    "Three models are created before ending up with the final model used for house-price prediciton.\n",
    "\n",
    "Model 1 is simply a base-line model including nearly all the features available and the entire dataset.  \n",
    "\n",
    "Model 2 removes all continuous variables that are highly correlated with eachother, as well as columns regarded as irrelevant. In addition the dataset is trimmed to remove non-typical houses based on a number of factors.  The model also includes categorical variables based on a number of features such as zipcode and grade.  \n",
    "\n",
    "The final model is created after running feature selection on Model 2 to establish the most significant features - in conjunction with an inuitive sense of what will make most sense when applying the model to real-world scenarios.  The performance of the final model is measured using k-fold cross validation and comparison of MSE values.\n",
    "\n",
    "Please see markdown below the final model for more detail.\n",
    "\n",
    "### Interpretation\n",
    "The regression model shows quite clearly that zipcode and grade are highly influential factors on the price of a home, alongiside square-footage of the total living area.  The model is in fact best understood and interpreted alongside other insights into the dataset - most notably the use of maps to plot where the zipcodes are located, and also the visualisation of house features using grade as the target variable.  Since it is clear that a higher grade increases house price,  it is then of course useful to see which factors have the strongest influence on grade - and to aim to find recommendations for homeowners based on those findings."
   ]
  },
  {
   "cell_type": "markdown",
   "metadata": {},
   "source": [
    "### Four meaningful questions answered during EDA:\n",
    "\n",
    "### <span style=\"color:blue\"> Are waterfront homes relevant to the analysis? </span>\n",
    "\n",
    "### <span style=\"color:blue\"> Do any of the continuous variable features display collinearity and if so which ones should be excluded from regression? </span>\n",
    "\n",
    "### <span style=color:blue>Which features are suitable for trimming the dataset to ensure it represents a broad but reasonably typical range of homes?</span>\n",
    "\n",
    "### <span style=color:blue>Are there any duplicate entries in the analysis and if so how should they be dealt with?</span>"
   ]
  },
  {
   "cell_type": "markdown",
   "metadata": {},
   "source": [
    "Note: some cells in the notebook have been set to not run with the # comment symbol.  This can removed to see the cell output that might clarify a particular step."
   ]
  },
  {
   "cell_type": "markdown",
   "metadata": {},
   "source": [
    "# Import libraries required for EDA, visualisation and regression:"
   ]
  },
  {
   "cell_type": "code",
   "execution_count": 1,
   "metadata": {},
   "outputs": [],
   "source": [
    "import pandas as pd\n",
    "import numpy as np\n",
    "import matplotlib.pyplot as plt\n",
    "import seaborn as sns; sns.set(style=\"ticks\", color_codes=True)\n",
    "import statsmodels.formula.api as smf\n",
    "\n",
    "import statsmodels.api as sm\n",
    "\n",
    "from sklearn.linear_model import LinearRegression\n",
    "linreg = LinearRegression()\n",
    "from sklearn.feature_selection import RFE\n",
    "from sklearn.model_selection import train_test_split\n",
    "\n",
    "from sklearn.metrics import mean_squared_error\n",
    "from sklearn.model_selection import cross_val_score"
   ]
  },
  {
   "cell_type": "markdown",
   "metadata": {},
   "source": [
    "# Import dataset and cross-check against feature descriptions provided - assess features for relevance based on descriptions:"
   ]
  },
  {
   "cell_type": "code",
   "execution_count": 2,
   "metadata": {},
   "outputs": [],
   "source": [
    "df = pd.read_csv('kc_house_data.csv')"
   ]
  },
  {
   "cell_type": "code",
   "execution_count": 3,
   "metadata": {},
   "outputs": [
    {
     "name": "stdout",
     "output_type": "stream",
     "text": [
      "This dataset contains 21597 entries and 21 columns\n"
     ]
    }
   ],
   "source": [
    "#short-hand for getting a count of a dataset (cod)\n",
    "def cod(df):\n",
    "    print('This dataset contains ' + str(df.shape[0]) + ' entries and ' + str(df.shape[1]) + ' columns')\n",
    "\n",
    "cod(df)"
   ]
  },
  {
   "cell_type": "code",
   "execution_count": 4,
   "metadata": {},
   "outputs": [
    {
     "data": {
      "text/plain": [
       "7700000.0"
      ]
     },
     "execution_count": 4,
     "metadata": {},
     "output_type": "execute_result"
    }
   ],
   "source": [
    "df.price.max()"
   ]
  },
  {
   "cell_type": "markdown",
   "metadata": {},
   "source": [
    "# CLEAN DATASET"
   ]
  },
  {
   "cell_type": "markdown",
   "metadata": {},
   "source": [
    "All columns are of the expected format except sqft_basement which should be a number.\n",
    "\n",
    "The NaN values for waterfront, view and yr_renovated need to be dealt with."
   ]
  },
  {
   "cell_type": "code",
   "execution_count": 5,
   "metadata": {},
   "outputs": [
    {
     "name": "stdout",
     "output_type": "stream",
     "text": [
      "<class 'pandas.core.frame.DataFrame'>\n",
      "RangeIndex: 21597 entries, 0 to 21596\n",
      "Data columns (total 21 columns):\n",
      "id               21597 non-null int64\n",
      "date             21597 non-null object\n",
      "price            21597 non-null float64\n",
      "bedrooms         21597 non-null int64\n",
      "bathrooms        21597 non-null float64\n",
      "sqft_living      21597 non-null int64\n",
      "sqft_lot         21597 non-null int64\n",
      "floors           21597 non-null float64\n",
      "waterfront       19221 non-null float64\n",
      "view             21534 non-null float64\n",
      "condition        21597 non-null int64\n",
      "grade            21597 non-null int64\n",
      "sqft_above       21597 non-null int64\n",
      "sqft_basement    21597 non-null object\n",
      "yr_built         21597 non-null int64\n",
      "yr_renovated     17755 non-null float64\n",
      "zipcode          21597 non-null int64\n",
      "lat              21597 non-null float64\n",
      "long             21597 non-null float64\n",
      "sqft_living15    21597 non-null int64\n",
      "sqft_lot15       21597 non-null int64\n",
      "dtypes: float64(8), int64(11), object(2)\n",
      "memory usage: 3.5+ MB\n"
     ]
    },
    {
     "data": {
      "text/plain": [
       "(None, id                  0\n",
       " date                0\n",
       " price               0\n",
       " bedrooms            0\n",
       " bathrooms           0\n",
       " sqft_living         0\n",
       " sqft_lot            0\n",
       " floors              0\n",
       " waterfront       2376\n",
       " view               63\n",
       " condition           0\n",
       " grade               0\n",
       " sqft_above          0\n",
       " sqft_basement       0\n",
       " yr_built            0\n",
       " yr_renovated     3842\n",
       " zipcode             0\n",
       " lat                 0\n",
       " long                0\n",
       " sqft_living15       0\n",
       " sqft_lot15          0\n",
       " dtype: int64)"
      ]
     },
     "execution_count": 5,
     "metadata": {},
     "output_type": "execute_result"
    }
   ],
   "source": [
    "df.info(), df.isna().sum()"
   ]
  },
  {
   "cell_type": "code",
   "execution_count": 6,
   "metadata": {},
   "outputs": [
    {
     "data": {
      "text/html": [
       "<div>\n",
       "<style scoped>\n",
       "    .dataframe tbody tr th:only-of-type {\n",
       "        vertical-align: middle;\n",
       "    }\n",
       "\n",
       "    .dataframe tbody tr th {\n",
       "        vertical-align: top;\n",
       "    }\n",
       "\n",
       "    .dataframe thead th {\n",
       "        text-align: right;\n",
       "    }\n",
       "</style>\n",
       "<table border=\"1\" class=\"dataframe\">\n",
       "  <thead>\n",
       "    <tr style=\"text-align: right;\">\n",
       "      <th></th>\n",
       "      <th>id</th>\n",
       "      <th>date</th>\n",
       "      <th>price</th>\n",
       "      <th>bedrooms</th>\n",
       "      <th>bathrooms</th>\n",
       "      <th>sqft_living</th>\n",
       "      <th>sqft_lot</th>\n",
       "      <th>floors</th>\n",
       "      <th>waterfront</th>\n",
       "      <th>view</th>\n",
       "      <th>...</th>\n",
       "      <th>grade</th>\n",
       "      <th>sqft_above</th>\n",
       "      <th>sqft_basement</th>\n",
       "      <th>yr_built</th>\n",
       "      <th>yr_renovated</th>\n",
       "      <th>zipcode</th>\n",
       "      <th>lat</th>\n",
       "      <th>long</th>\n",
       "      <th>sqft_living15</th>\n",
       "      <th>sqft_lot15</th>\n",
       "    </tr>\n",
       "  </thead>\n",
       "  <tbody>\n",
       "    <tr>\n",
       "      <th>484</th>\n",
       "      <td>2625069070</td>\n",
       "      <td>4/10/2015</td>\n",
       "      <td>1390000.0</td>\n",
       "      <td>4</td>\n",
       "      <td>3.25</td>\n",
       "      <td>4860</td>\n",
       "      <td>181319</td>\n",
       "      <td>2.5</td>\n",
       "      <td>0.0</td>\n",
       "      <td>0.0</td>\n",
       "      <td>...</td>\n",
       "      <td>9</td>\n",
       "      <td>4860</td>\n",
       "      <td>0.0</td>\n",
       "      <td>1993</td>\n",
       "      <td>0.0</td>\n",
       "      <td>98074</td>\n",
       "      <td>47.6179</td>\n",
       "      <td>-122.005</td>\n",
       "      <td>3850</td>\n",
       "      <td>181319</td>\n",
       "    </tr>\n",
       "    <tr>\n",
       "      <th>518</th>\n",
       "      <td>4386700135</td>\n",
       "      <td>11/14/2014</td>\n",
       "      <td>2250000.0</td>\n",
       "      <td>4</td>\n",
       "      <td>2.25</td>\n",
       "      <td>4760</td>\n",
       "      <td>8036</td>\n",
       "      <td>2.5</td>\n",
       "      <td>0.0</td>\n",
       "      <td>0.0</td>\n",
       "      <td>...</td>\n",
       "      <td>9</td>\n",
       "      <td>3390</td>\n",
       "      <td>1370.0</td>\n",
       "      <td>1916</td>\n",
       "      <td>0.0</td>\n",
       "      <td>98112</td>\n",
       "      <td>47.6415</td>\n",
       "      <td>-122.285</td>\n",
       "      <td>2950</td>\n",
       "      <td>9323</td>\n",
       "    </tr>\n",
       "    <tr>\n",
       "      <th>577</th>\n",
       "      <td>1526069135</td>\n",
       "      <td>12/11/2014</td>\n",
       "      <td>930000.0</td>\n",
       "      <td>4</td>\n",
       "      <td>4.00</td>\n",
       "      <td>6050</td>\n",
       "      <td>84942</td>\n",
       "      <td>2.5</td>\n",
       "      <td>0.0</td>\n",
       "      <td>2.0</td>\n",
       "      <td>...</td>\n",
       "      <td>9</td>\n",
       "      <td>4150</td>\n",
       "      <td>1900.0</td>\n",
       "      <td>2009</td>\n",
       "      <td>0.0</td>\n",
       "      <td>98077</td>\n",
       "      <td>47.7466</td>\n",
       "      <td>-122.029</td>\n",
       "      <td>2700</td>\n",
       "      <td>199504</td>\n",
       "    </tr>\n",
       "    <tr>\n",
       "      <th>759</th>\n",
       "      <td>770000045</td>\n",
       "      <td>10/24/2014</td>\n",
       "      <td>405600.0</td>\n",
       "      <td>5</td>\n",
       "      <td>1.50</td>\n",
       "      <td>2830</td>\n",
       "      <td>4000</td>\n",
       "      <td>2.5</td>\n",
       "      <td>0.0</td>\n",
       "      <td>0.0</td>\n",
       "      <td>...</td>\n",
       "      <td>8</td>\n",
       "      <td>2830</td>\n",
       "      <td>0.0</td>\n",
       "      <td>1918</td>\n",
       "      <td>0.0</td>\n",
       "      <td>98118</td>\n",
       "      <td>47.5132</td>\n",
       "      <td>-122.262</td>\n",
       "      <td>1480</td>\n",
       "      <td>4000</td>\n",
       "    </tr>\n",
       "    <tr>\n",
       "      <th>815</th>\n",
       "      <td>1421069208</td>\n",
       "      <td>12/23/2014</td>\n",
       "      <td>379000.0</td>\n",
       "      <td>3</td>\n",
       "      <td>3.25</td>\n",
       "      <td>2660</td>\n",
       "      <td>17852</td>\n",
       "      <td>2.5</td>\n",
       "      <td>0.0</td>\n",
       "      <td>0.0</td>\n",
       "      <td>...</td>\n",
       "      <td>8</td>\n",
       "      <td>2660</td>\n",
       "      <td>0.0</td>\n",
       "      <td>2014</td>\n",
       "      <td>0.0</td>\n",
       "      <td>98010</td>\n",
       "      <td>47.3077</td>\n",
       "      <td>-122.011</td>\n",
       "      <td>1320</td>\n",
       "      <td>11876</td>\n",
       "    </tr>\n",
       "  </tbody>\n",
       "</table>\n",
       "<p>5 rows × 21 columns</p>\n",
       "</div>"
      ],
      "text/plain": [
       "             id        date      price  bedrooms  bathrooms  sqft_living  \\\n",
       "484  2625069070   4/10/2015  1390000.0         4       3.25         4860   \n",
       "518  4386700135  11/14/2014  2250000.0         4       2.25         4760   \n",
       "577  1526069135  12/11/2014   930000.0         4       4.00         6050   \n",
       "759   770000045  10/24/2014   405600.0         5       1.50         2830   \n",
       "815  1421069208  12/23/2014   379000.0         3       3.25         2660   \n",
       "\n",
       "     sqft_lot  floors  waterfront  view     ...      grade  sqft_above  \\\n",
       "484    181319     2.5         0.0   0.0     ...          9        4860   \n",
       "518      8036     2.5         0.0   0.0     ...          9        3390   \n",
       "577     84942     2.5         0.0   2.0     ...          9        4150   \n",
       "759      4000     2.5         0.0   0.0     ...          8        2830   \n",
       "815     17852     2.5         0.0   0.0     ...          8        2660   \n",
       "\n",
       "     sqft_basement yr_built  yr_renovated  zipcode      lat     long  \\\n",
       "484            0.0     1993           0.0    98074  47.6179 -122.005   \n",
       "518         1370.0     1916           0.0    98112  47.6415 -122.285   \n",
       "577         1900.0     2009           0.0    98077  47.7466 -122.029   \n",
       "759            0.0     1918           0.0    98118  47.5132 -122.262   \n",
       "815            0.0     2014           0.0    98010  47.3077 -122.011   \n",
       "\n",
       "     sqft_living15  sqft_lot15  \n",
       "484           3850      181319  \n",
       "518           2950        9323  \n",
       "577           2700      199504  \n",
       "759           1480        4000  \n",
       "815           1320       11876  \n",
       "\n",
       "[5 rows x 21 columns]"
      ]
     },
     "execution_count": 6,
     "metadata": {},
     "output_type": "execute_result"
    }
   ],
   "source": [
    "df[df['floors']==2.5].head()"
   ]
  },
  {
   "cell_type": "markdown",
   "metadata": {},
   "source": [
    "# Clean sqft_basement column:"
   ]
  },
  {
   "cell_type": "code",
   "execution_count": 7,
   "metadata": {},
   "outputs": [],
   "source": [
    "#df.sqft_basement.unique()"
   ]
  },
  {
   "cell_type": "markdown",
   "metadata": {},
   "source": [
    "There are 454 entries where sqft_basement is set to '?'.  However, sqft_basement can be calculated by subtracting sqft_above from sqft_living, so a new column can be created where the '?' values are replaced with correct figures:"
   ]
  },
  {
   "cell_type": "code",
   "execution_count": 8,
   "metadata": {},
   "outputs": [],
   "source": [
    "df['basement_size'] = df['sqft_living'] - df['sqft_above']"
   ]
  },
  {
   "cell_type": "code",
   "execution_count": 9,
   "metadata": {},
   "outputs": [],
   "source": [
    "#df[df['sqft_basement']=='?'].head(10)"
   ]
  },
  {
   "cell_type": "code",
   "execution_count": 10,
   "metadata": {},
   "outputs": [
    {
     "data": {
      "text/html": [
       "<div>\n",
       "<style scoped>\n",
       "    .dataframe tbody tr th:only-of-type {\n",
       "        vertical-align: middle;\n",
       "    }\n",
       "\n",
       "    .dataframe tbody tr th {\n",
       "        vertical-align: top;\n",
       "    }\n",
       "\n",
       "    .dataframe thead th {\n",
       "        text-align: right;\n",
       "    }\n",
       "</style>\n",
       "<table border=\"1\" class=\"dataframe\">\n",
       "  <thead>\n",
       "    <tr style=\"text-align: right;\">\n",
       "      <th></th>\n",
       "      <th>id</th>\n",
       "      <th>date</th>\n",
       "      <th>price</th>\n",
       "      <th>bedrooms</th>\n",
       "      <th>bathrooms</th>\n",
       "      <th>sqft_living</th>\n",
       "      <th>sqft_lot</th>\n",
       "      <th>floors</th>\n",
       "      <th>waterfront</th>\n",
       "      <th>view</th>\n",
       "      <th>...</th>\n",
       "      <th>sqft_above</th>\n",
       "      <th>sqft_basement</th>\n",
       "      <th>yr_built</th>\n",
       "      <th>yr_renovated</th>\n",
       "      <th>zipcode</th>\n",
       "      <th>lat</th>\n",
       "      <th>long</th>\n",
       "      <th>sqft_living15</th>\n",
       "      <th>sqft_lot15</th>\n",
       "      <th>basement_size</th>\n",
       "    </tr>\n",
       "  </thead>\n",
       "  <tbody>\n",
       "    <tr>\n",
       "      <th>10074</th>\n",
       "      <td>7767000060</td>\n",
       "      <td>9/12/2014</td>\n",
       "      <td>1900000.0</td>\n",
       "      <td>5</td>\n",
       "      <td>4.25</td>\n",
       "      <td>6510</td>\n",
       "      <td>16471</td>\n",
       "      <td>2.0</td>\n",
       "      <td>0.0</td>\n",
       "      <td>3.0</td>\n",
       "      <td>...</td>\n",
       "      <td>3250</td>\n",
       "      <td>3260.0</td>\n",
       "      <td>1980</td>\n",
       "      <td>0.0</td>\n",
       "      <td>98040</td>\n",
       "      <td>47.5758</td>\n",
       "      <td>-122.242</td>\n",
       "      <td>4480</td>\n",
       "      <td>16471</td>\n",
       "      <td>3260</td>\n",
       "    </tr>\n",
       "    <tr>\n",
       "      <th>7245</th>\n",
       "      <td>6762700020</td>\n",
       "      <td>10/13/2014</td>\n",
       "      <td>7700000.0</td>\n",
       "      <td>6</td>\n",
       "      <td>8.00</td>\n",
       "      <td>12050</td>\n",
       "      <td>27600</td>\n",
       "      <td>2.5</td>\n",
       "      <td>0.0</td>\n",
       "      <td>3.0</td>\n",
       "      <td>...</td>\n",
       "      <td>8570</td>\n",
       "      <td>3480.0</td>\n",
       "      <td>1910</td>\n",
       "      <td>1987.0</td>\n",
       "      <td>98102</td>\n",
       "      <td>47.6298</td>\n",
       "      <td>-122.323</td>\n",
       "      <td>3940</td>\n",
       "      <td>8800</td>\n",
       "      <td>3480</td>\n",
       "    </tr>\n",
       "    <tr>\n",
       "      <th>15468</th>\n",
       "      <td>624069108</td>\n",
       "      <td>8/12/2014</td>\n",
       "      <td>3200000.0</td>\n",
       "      <td>4</td>\n",
       "      <td>3.25</td>\n",
       "      <td>7000</td>\n",
       "      <td>28206</td>\n",
       "      <td>1.0</td>\n",
       "      <td>1.0</td>\n",
       "      <td>4.0</td>\n",
       "      <td>...</td>\n",
       "      <td>3500</td>\n",
       "      <td>3500.0</td>\n",
       "      <td>1991</td>\n",
       "      <td>0.0</td>\n",
       "      <td>98075</td>\n",
       "      <td>47.5928</td>\n",
       "      <td>-122.086</td>\n",
       "      <td>4913</td>\n",
       "      <td>14663</td>\n",
       "      <td>3500</td>\n",
       "    </tr>\n",
       "    <tr>\n",
       "      <th>12764</th>\n",
       "      <td>1225069038</td>\n",
       "      <td>5/5/2014</td>\n",
       "      <td>2280000.0</td>\n",
       "      <td>7</td>\n",
       "      <td>8.00</td>\n",
       "      <td>13540</td>\n",
       "      <td>307752</td>\n",
       "      <td>3.0</td>\n",
       "      <td>0.0</td>\n",
       "      <td>4.0</td>\n",
       "      <td>...</td>\n",
       "      <td>9410</td>\n",
       "      <td>4130.0</td>\n",
       "      <td>1999</td>\n",
       "      <td>0.0</td>\n",
       "      <td>98053</td>\n",
       "      <td>47.6675</td>\n",
       "      <td>-121.986</td>\n",
       "      <td>4850</td>\n",
       "      <td>217800</td>\n",
       "      <td>4130</td>\n",
       "    </tr>\n",
       "    <tr>\n",
       "      <th>8085</th>\n",
       "      <td>1924059029</td>\n",
       "      <td>6/17/2014</td>\n",
       "      <td>4670000.0</td>\n",
       "      <td>5</td>\n",
       "      <td>6.75</td>\n",
       "      <td>9640</td>\n",
       "      <td>13068</td>\n",
       "      <td>1.0</td>\n",
       "      <td>1.0</td>\n",
       "      <td>4.0</td>\n",
       "      <td>...</td>\n",
       "      <td>4820</td>\n",
       "      <td>4820.0</td>\n",
       "      <td>1983</td>\n",
       "      <td>2009.0</td>\n",
       "      <td>98040</td>\n",
       "      <td>47.5570</td>\n",
       "      <td>-122.210</td>\n",
       "      <td>3270</td>\n",
       "      <td>10454</td>\n",
       "      <td>4820</td>\n",
       "    </tr>\n",
       "  </tbody>\n",
       "</table>\n",
       "<p>5 rows × 22 columns</p>\n",
       "</div>"
      ],
      "text/plain": [
       "               id        date      price  bedrooms  bathrooms  sqft_living  \\\n",
       "10074  7767000060   9/12/2014  1900000.0         5       4.25         6510   \n",
       "7245   6762700020  10/13/2014  7700000.0         6       8.00        12050   \n",
       "15468   624069108   8/12/2014  3200000.0         4       3.25         7000   \n",
       "12764  1225069038    5/5/2014  2280000.0         7       8.00        13540   \n",
       "8085   1924059029   6/17/2014  4670000.0         5       6.75         9640   \n",
       "\n",
       "       sqft_lot  floors  waterfront  view      ...        sqft_above  \\\n",
       "10074     16471     2.0         0.0   3.0      ...              3250   \n",
       "7245      27600     2.5         0.0   3.0      ...              8570   \n",
       "15468     28206     1.0         1.0   4.0      ...              3500   \n",
       "12764    307752     3.0         0.0   4.0      ...              9410   \n",
       "8085      13068     1.0         1.0   4.0      ...              4820   \n",
       "\n",
       "       sqft_basement  yr_built yr_renovated  zipcode      lat     long  \\\n",
       "10074         3260.0      1980          0.0    98040  47.5758 -122.242   \n",
       "7245          3480.0      1910       1987.0    98102  47.6298 -122.323   \n",
       "15468         3500.0      1991          0.0    98075  47.5928 -122.086   \n",
       "12764         4130.0      1999          0.0    98053  47.6675 -121.986   \n",
       "8085          4820.0      1983       2009.0    98040  47.5570 -122.210   \n",
       "\n",
       "       sqft_living15  sqft_lot15  basement_size  \n",
       "10074           4480       16471           3260  \n",
       "7245            3940        8800           3480  \n",
       "15468           4913       14663           3500  \n",
       "12764           4850      217800           4130  \n",
       "8085            3270       10454           4820  \n",
       "\n",
       "[5 rows x 22 columns]"
      ]
     },
     "execution_count": 10,
     "metadata": {},
     "output_type": "execute_result"
    }
   ],
   "source": [
    "df.sort_values('basement_size').tail()"
   ]
  },
  {
   "cell_type": "markdown",
   "metadata": {},
   "source": [
    "basement_size also has the advantage of being a number formatted column.  The original sqft_basement column can be dropped."
   ]
  },
  {
   "cell_type": "code",
   "execution_count": 11,
   "metadata": {},
   "outputs": [],
   "source": [
    "df.drop('sqft_basement', axis = 1, inplace = True)"
   ]
  },
  {
   "cell_type": "markdown",
   "metadata": {},
   "source": [
    "# Delete view column "
   ]
  },
  {
   "cell_type": "markdown",
   "metadata": {},
   "source": [
    "The meaning of this column is too ambiguous - it is described as 'has been viewed' but properties on the KC assessor site show views as relating to the panoramas visible from the home.\n",
    "\n",
    "https://blue.kingcounty.com/Assessor/eRealProperty/Detail.aspx?ParcelNbr=0624069108\n",
    "\n",
    "Plus there are only a small number of values.  For these reasons it can be deleted."
   ]
  },
  {
   "cell_type": "code",
   "execution_count": 12,
   "metadata": {},
   "outputs": [],
   "source": [
    "df.drop('view', axis =1, inplace = True)"
   ]
  },
  {
   "cell_type": "markdown",
   "metadata": {},
   "source": [
    "# Delete yr_renovated column:"
   ]
  },
  {
   "cell_type": "code",
   "execution_count": 13,
   "metadata": {},
   "outputs": [
    {
     "name": "stdout",
     "output_type": "stream",
     "text": [
      "The yr_renovated column has 3842 NaN values\n",
      "The yr_renovated column has 17011 values set to 0\n",
      "The yr_renovated column has 744 actual date values\n"
     ]
    }
   ],
   "source": [
    "print('The yr_renovated column has ' + str(df.yr_renovated.isna().sum()) + ' NaN values')\n",
    "print('The yr_renovated column has ' + str(len(df[df.yr_renovated == 0])) + ' values set to 0')\n",
    "print('The yr_renovated column has ' + str(len(df[df.yr_renovated > 0])) + ' actual date values')"
   ]
  },
  {
   "cell_type": "markdown",
   "metadata": {},
   "source": [
    "There are only 739 actual values for yr_renovated in the dataset, so this column can be excluded from the analysis."
   ]
  },
  {
   "cell_type": "code",
   "execution_count": 14,
   "metadata": {},
   "outputs": [],
   "source": [
    "df.drop('yr_renovated', axis =1, inplace=True)"
   ]
  },
  {
   "cell_type": "markdown",
   "metadata": {},
   "source": [
    "# <span style=\"color:blue\"> Are waterfront homes relevant to the analysis? </span>"
   ]
  },
  {
   "cell_type": "code",
   "execution_count": 15,
   "metadata": {},
   "outputs": [
    {
     "name": "stdout",
     "output_type": "stream",
     "text": [
      "There are 2376 NaN values in the Waterfront column\n"
     ]
    }
   ],
   "source": [
    "print('There are ' + str(df.waterfront.isna().sum()) + ' NaN values in the Waterfront column')"
   ]
  },
  {
   "cell_type": "markdown",
   "metadata": {},
   "source": [
    "The locations of houses with waterfront NAN values can be plotted on a map, using lat and long data\n",
    "\n",
    "This reveals that all the houses with NaN values are (with an extremely small minority) not near the waterfront.  Note: waterfront homes are literally on the edge of the waterfront - being close by does not qualify (see maps).\n",
    "\n",
    "So the NaN values can be set to 0 (not waterfront).<br>\n",
    "\n",
    "<img src=\"waterfront NANs both.png\">\n",
    "\n",
    "<img src=\"WF homes close1.png\" width= 40%, height= 40%>"
   ]
  },
  {
   "cell_type": "code",
   "execution_count": 16,
   "metadata": {},
   "outputs": [],
   "source": [
    "df['waterfront'].fillna(0, inplace=True)"
   ]
  },
  {
   "cell_type": "code",
   "execution_count": 17,
   "metadata": {},
   "outputs": [
    {
     "data": {
      "image/png": "[encoded data removed]",
      "text/plain": [
       "<Figure size 432x288 with 1 Axes>"
      ]
     },
     "metadata": {
      "needs_background": "light"
     },
     "output_type": "display_data"
    }
   ],
   "source": [
    "df.groupby('waterfront').mean()[['price']].round().plot.bar(title='Mean Price of homes not by waterfront vs homes by waterfront');"
   ]
  },
  {
   "cell_type": "code",
   "execution_count": 18,
   "metadata": {},
   "outputs": [
    {
     "data": {
      "text/plain": [
       "0.0    21451\n",
       "1.0      146\n",
       "Name: waterfront, dtype: int64"
      ]
     },
     "execution_count": 18,
     "metadata": {},
     "output_type": "execute_result"
    }
   ],
   "source": [
    "df.waterfront.value_counts()"
   ]
  },
  {
   "cell_type": "markdown",
   "metadata": {},
   "source": [
    "There are only 142 waterfront properties but their mean price is over 3 times higher than non-waterfront properties.  \n",
    "\n",
    "So it will make sense to drop the 142 waterfront properties from the dataset, and then drop the column, as they are not at all representative of the majoritity of the dataset."
   ]
  },
  {
   "cell_type": "code",
   "execution_count": 19,
   "metadata": {},
   "outputs": [],
   "source": [
    "drop_wf_houses = df[df['waterfront']==1]\n",
    "df.drop(drop_wf_houses.index, axis = 0, inplace=True)"
   ]
  },
  {
   "cell_type": "code",
   "execution_count": 20,
   "metadata": {},
   "outputs": [],
   "source": [
    "df.drop('waterfront', axis =1, inplace=True)"
   ]
  },
  {
   "cell_type": "code",
   "execution_count": 21,
   "metadata": {},
   "outputs": [],
   "source": [
    "df.reset_index(inplace=True, drop=True)"
   ]
  },
  {
   "cell_type": "code",
   "execution_count": 22,
   "metadata": {},
   "outputs": [
    {
     "name": "stdout",
     "output_type": "stream",
     "text": [
      "This dataset contains 21451 entries and 18 columns\n"
     ]
    },
    {
     "data": {
      "text/html": [
       "<div>\n",
       "<style scoped>\n",
       "    .dataframe tbody tr th:only-of-type {\n",
       "        vertical-align: middle;\n",
       "    }\n",
       "\n",
       "    .dataframe tbody tr th {\n",
       "        vertical-align: top;\n",
       "    }\n",
       "\n",
       "    .dataframe thead th {\n",
       "        text-align: right;\n",
       "    }\n",
       "</style>\n",
       "<table border=\"1\" class=\"dataframe\">\n",
       "  <thead>\n",
       "    <tr style=\"text-align: right;\">\n",
       "      <th></th>\n",
       "      <th>id</th>\n",
       "      <th>date</th>\n",
       "      <th>price</th>\n",
       "      <th>bedrooms</th>\n",
       "      <th>bathrooms</th>\n",
       "      <th>sqft_living</th>\n",
       "      <th>sqft_lot</th>\n",
       "      <th>floors</th>\n",
       "      <th>condition</th>\n",
       "      <th>grade</th>\n",
       "      <th>sqft_above</th>\n",
       "      <th>yr_built</th>\n",
       "      <th>zipcode</th>\n",
       "      <th>lat</th>\n",
       "      <th>long</th>\n",
       "      <th>sqft_living15</th>\n",
       "      <th>sqft_lot15</th>\n",
       "      <th>basement_size</th>\n",
       "    </tr>\n",
       "  </thead>\n",
       "  <tbody>\n",
       "    <tr>\n",
       "      <th>21446</th>\n",
       "      <td>263000018</td>\n",
       "      <td>5/21/2014</td>\n",
       "      <td>360000.0</td>\n",
       "      <td>3</td>\n",
       "      <td>2.50</td>\n",
       "      <td>1530</td>\n",
       "      <td>1131</td>\n",
       "      <td>3.0</td>\n",
       "      <td>3</td>\n",
       "      <td>8</td>\n",
       "      <td>1530</td>\n",
       "      <td>2009</td>\n",
       "      <td>98103</td>\n",
       "      <td>47.6993</td>\n",
       "      <td>-122.346</td>\n",
       "      <td>1530</td>\n",
       "      <td>1509</td>\n",
       "      <td>0</td>\n",
       "    </tr>\n",
       "    <tr>\n",
       "      <th>21447</th>\n",
       "      <td>6600060120</td>\n",
       "      <td>2/23/2015</td>\n",
       "      <td>400000.0</td>\n",
       "      <td>4</td>\n",
       "      <td>2.50</td>\n",
       "      <td>2310</td>\n",
       "      <td>5813</td>\n",
       "      <td>2.0</td>\n",
       "      <td>3</td>\n",
       "      <td>8</td>\n",
       "      <td>2310</td>\n",
       "      <td>2014</td>\n",
       "      <td>98146</td>\n",
       "      <td>47.5107</td>\n",
       "      <td>-122.362</td>\n",
       "      <td>1830</td>\n",
       "      <td>7200</td>\n",
       "      <td>0</td>\n",
       "    </tr>\n",
       "    <tr>\n",
       "      <th>21448</th>\n",
       "      <td>1523300141</td>\n",
       "      <td>6/23/2014</td>\n",
       "      <td>402101.0</td>\n",
       "      <td>2</td>\n",
       "      <td>0.75</td>\n",
       "      <td>1020</td>\n",
       "      <td>1350</td>\n",
       "      <td>2.0</td>\n",
       "      <td>3</td>\n",
       "      <td>7</td>\n",
       "      <td>1020</td>\n",
       "      <td>2009</td>\n",
       "      <td>98144</td>\n",
       "      <td>47.5944</td>\n",
       "      <td>-122.299</td>\n",
       "      <td>1020</td>\n",
       "      <td>2007</td>\n",
       "      <td>0</td>\n",
       "    </tr>\n",
       "    <tr>\n",
       "      <th>21449</th>\n",
       "      <td>291310100</td>\n",
       "      <td>1/16/2015</td>\n",
       "      <td>400000.0</td>\n",
       "      <td>3</td>\n",
       "      <td>2.50</td>\n",
       "      <td>1600</td>\n",
       "      <td>2388</td>\n",
       "      <td>2.0</td>\n",
       "      <td>3</td>\n",
       "      <td>8</td>\n",
       "      <td>1600</td>\n",
       "      <td>2004</td>\n",
       "      <td>98027</td>\n",
       "      <td>47.5345</td>\n",
       "      <td>-122.069</td>\n",
       "      <td>1410</td>\n",
       "      <td>1287</td>\n",
       "      <td>0</td>\n",
       "    </tr>\n",
       "    <tr>\n",
       "      <th>21450</th>\n",
       "      <td>1523300157</td>\n",
       "      <td>10/15/2014</td>\n",
       "      <td>325000.0</td>\n",
       "      <td>2</td>\n",
       "      <td>0.75</td>\n",
       "      <td>1020</td>\n",
       "      <td>1076</td>\n",
       "      <td>2.0</td>\n",
       "      <td>3</td>\n",
       "      <td>7</td>\n",
       "      <td>1020</td>\n",
       "      <td>2008</td>\n",
       "      <td>98144</td>\n",
       "      <td>47.5941</td>\n",
       "      <td>-122.299</td>\n",
       "      <td>1020</td>\n",
       "      <td>1357</td>\n",
       "      <td>0</td>\n",
       "    </tr>\n",
       "  </tbody>\n",
       "</table>\n",
       "</div>"
      ],
      "text/plain": [
       "               id        date     price  bedrooms  bathrooms  sqft_living  \\\n",
       "21446   263000018   5/21/2014  360000.0         3       2.50         1530   \n",
       "21447  6600060120   2/23/2015  400000.0         4       2.50         2310   \n",
       "21448  1523300141   6/23/2014  402101.0         2       0.75         1020   \n",
       "21449   291310100   1/16/2015  400000.0         3       2.50         1600   \n",
       "21450  1523300157  10/15/2014  325000.0         2       0.75         1020   \n",
       "\n",
       "       sqft_lot  floors  condition  grade  sqft_above  yr_built  zipcode  \\\n",
       "21446      1131     3.0          3      8        1530      2009    98103   \n",
       "21447      5813     2.0          3      8        2310      2014    98146   \n",
       "21448      1350     2.0          3      7        1020      2009    98144   \n",
       "21449      2388     2.0          3      8        1600      2004    98027   \n",
       "21450      1076     2.0          3      7        1020      2008    98144   \n",
       "\n",
       "           lat     long  sqft_living15  sqft_lot15  basement_size  \n",
       "21446  47.6993 -122.346           1530        1509              0  \n",
       "21447  47.5107 -122.362           1830        7200              0  \n",
       "21448  47.5944 -122.299           1020        2007              0  \n",
       "21449  47.5345 -122.069           1410        1287              0  \n",
       "21450  47.5941 -122.299           1020        1357              0  "
      ]
     },
     "execution_count": 22,
     "metadata": {},
     "output_type": "execute_result"
    }
   ],
   "source": [
    "cod(df)\n",
    "df.tail()"
   ]
  },
  {
   "cell_type": "markdown",
   "metadata": {},
   "source": [
    "# SQFT_LIVING15 & SQFT_LOT15"
   ]
  },
  {
   "cell_type": "markdown",
   "metadata": {},
   "source": [
    "There is significant ambiguity over the meaning of the sqft_living15 and sqft_lot15 features.  They appear to be on completely different scales as their maximum values do not correspond at all to the figures for sqft_living and sqft_lot."
   ]
  },
  {
   "cell_type": "code",
   "execution_count": 23,
   "metadata": {},
   "outputs": [
    {
     "data": {
      "text/html": [
       "<div>\n",
       "<style scoped>\n",
       "    .dataframe tbody tr th:only-of-type {\n",
       "        vertical-align: middle;\n",
       "    }\n",
       "\n",
       "    .dataframe tbody tr th {\n",
       "        vertical-align: top;\n",
       "    }\n",
       "\n",
       "    .dataframe thead th {\n",
       "        text-align: right;\n",
       "    }\n",
       "</style>\n",
       "<table border=\"1\" class=\"dataframe\">\n",
       "  <thead>\n",
       "    <tr style=\"text-align: right;\">\n",
       "      <th></th>\n",
       "      <th>sqft_living</th>\n",
       "      <th>sqft_living15</th>\n",
       "      <th>sqft_lot</th>\n",
       "      <th>sqft_lot15</th>\n",
       "    </tr>\n",
       "  </thead>\n",
       "  <tbody>\n",
       "    <tr>\n",
       "      <th>count</th>\n",
       "      <td>21451.000000</td>\n",
       "      <td>21451.000000</td>\n",
       "      <td>2.145100e+04</td>\n",
       "      <td>21451.000000</td>\n",
       "    </tr>\n",
       "    <tr>\n",
       "      <th>mean</th>\n",
       "      <td>2072.396485</td>\n",
       "      <td>1981.881777</td>\n",
       "      <td>1.502610e+04</td>\n",
       "      <td>12689.299753</td>\n",
       "    </tr>\n",
       "    <tr>\n",
       "      <th>std</th>\n",
       "      <td>906.042446</td>\n",
       "      <td>681.907132</td>\n",
       "      <td>4.138140e+04</td>\n",
       "      <td>27287.285949</td>\n",
       "    </tr>\n",
       "    <tr>\n",
       "      <th>min</th>\n",
       "      <td>370.000000</td>\n",
       "      <td>399.000000</td>\n",
       "      <td>5.200000e+02</td>\n",
       "      <td>651.000000</td>\n",
       "    </tr>\n",
       "    <tr>\n",
       "      <th>25%</th>\n",
       "      <td>1420.000000</td>\n",
       "      <td>1480.000000</td>\n",
       "      <td>5.035000e+03</td>\n",
       "      <td>5100.000000</td>\n",
       "    </tr>\n",
       "    <tr>\n",
       "      <th>50%</th>\n",
       "      <td>1910.000000</td>\n",
       "      <td>1830.000000</td>\n",
       "      <td>7.590000e+03</td>\n",
       "      <td>7601.000000</td>\n",
       "    </tr>\n",
       "    <tr>\n",
       "      <th>75%</th>\n",
       "      <td>2540.000000</td>\n",
       "      <td>2356.000000</td>\n",
       "      <td>1.057850e+04</td>\n",
       "      <td>10025.500000</td>\n",
       "    </tr>\n",
       "    <tr>\n",
       "      <th>max</th>\n",
       "      <td>13540.000000</td>\n",
       "      <td>6210.000000</td>\n",
       "      <td>1.651359e+06</td>\n",
       "      <td>871200.000000</td>\n",
       "    </tr>\n",
       "  </tbody>\n",
       "</table>\n",
       "</div>"
      ],
      "text/plain": [
       "        sqft_living  sqft_living15      sqft_lot     sqft_lot15\n",
       "count  21451.000000   21451.000000  2.145100e+04   21451.000000\n",
       "mean    2072.396485    1981.881777  1.502610e+04   12689.299753\n",
       "std      906.042446     681.907132  4.138140e+04   27287.285949\n",
       "min      370.000000     399.000000  5.200000e+02     651.000000\n",
       "25%     1420.000000    1480.000000  5.035000e+03    5100.000000\n",
       "50%     1910.000000    1830.000000  7.590000e+03    7601.000000\n",
       "75%     2540.000000    2356.000000  1.057850e+04   10025.500000\n",
       "max    13540.000000    6210.000000  1.651359e+06  871200.000000"
      ]
     },
     "execution_count": 23,
     "metadata": {},
     "output_type": "execute_result"
    }
   ],
   "source": [
    "df[['sqft_living', 'sqft_living15', 'sqft_lot', 'sqft_lot15']].describe()"
   ]
  },
  {
   "cell_type": "markdown",
   "metadata": {},
   "source": [
    "Detail on specific instances of properties can be investigated below:"
   ]
  },
  {
   "cell_type": "code",
   "execution_count": 24,
   "metadata": {},
   "outputs": [
    {
     "data": {
      "text/html": [
       "<div>\n",
       "<style scoped>\n",
       "    .dataframe tbody tr th:only-of-type {\n",
       "        vertical-align: middle;\n",
       "    }\n",
       "\n",
       "    .dataframe tbody tr th {\n",
       "        vertical-align: top;\n",
       "    }\n",
       "\n",
       "    .dataframe thead th {\n",
       "        text-align: right;\n",
       "    }\n",
       "</style>\n",
       "<table border=\"1\" class=\"dataframe\">\n",
       "  <thead>\n",
       "    <tr style=\"text-align: right;\">\n",
       "      <th></th>\n",
       "      <th>id</th>\n",
       "      <th>date</th>\n",
       "      <th>price</th>\n",
       "      <th>bedrooms</th>\n",
       "      <th>bathrooms</th>\n",
       "      <th>sqft_living</th>\n",
       "      <th>sqft_lot</th>\n",
       "      <th>floors</th>\n",
       "      <th>condition</th>\n",
       "      <th>grade</th>\n",
       "      <th>sqft_above</th>\n",
       "      <th>yr_built</th>\n",
       "      <th>zipcode</th>\n",
       "      <th>lat</th>\n",
       "      <th>long</th>\n",
       "      <th>sqft_living15</th>\n",
       "      <th>sqft_lot15</th>\n",
       "      <th>basement_size</th>\n",
       "    </tr>\n",
       "  </thead>\n",
       "  <tbody>\n",
       "    <tr>\n",
       "      <th>1698</th>\n",
       "      <td>1020069017</td>\n",
       "      <td>3/27/2015</td>\n",
       "      <td>700000.0</td>\n",
       "      <td>4</td>\n",
       "      <td>1.0</td>\n",
       "      <td>1300</td>\n",
       "      <td>1651359</td>\n",
       "      <td>1.0</td>\n",
       "      <td>4</td>\n",
       "      <td>6</td>\n",
       "      <td>1300</td>\n",
       "      <td>1920</td>\n",
       "      <td>98022</td>\n",
       "      <td>47.2313</td>\n",
       "      <td>-122.023</td>\n",
       "      <td>2560</td>\n",
       "      <td>425581</td>\n",
       "      <td>0</td>\n",
       "    </tr>\n",
       "    <tr>\n",
       "      <th>7192</th>\n",
       "      <td>6762700020</td>\n",
       "      <td>10/13/2014</td>\n",
       "      <td>7700000.0</td>\n",
       "      <td>6</td>\n",
       "      <td>8.0</td>\n",
       "      <td>12050</td>\n",
       "      <td>27600</td>\n",
       "      <td>2.5</td>\n",
       "      <td>4</td>\n",
       "      <td>13</td>\n",
       "      <td>8570</td>\n",
       "      <td>1910</td>\n",
       "      <td>98102</td>\n",
       "      <td>47.6298</td>\n",
       "      <td>-122.323</td>\n",
       "      <td>3940</td>\n",
       "      <td>8800</td>\n",
       "      <td>3480</td>\n",
       "    </tr>\n",
       "    <tr>\n",
       "      <th>12678</th>\n",
       "      <td>1225069038</td>\n",
       "      <td>5/5/2014</td>\n",
       "      <td>2280000.0</td>\n",
       "      <td>7</td>\n",
       "      <td>8.0</td>\n",
       "      <td>13540</td>\n",
       "      <td>307752</td>\n",
       "      <td>3.0</td>\n",
       "      <td>3</td>\n",
       "      <td>12</td>\n",
       "      <td>9410</td>\n",
       "      <td>1999</td>\n",
       "      <td>98053</td>\n",
       "      <td>47.6675</td>\n",
       "      <td>-121.986</td>\n",
       "      <td>4850</td>\n",
       "      <td>217800</td>\n",
       "      <td>4130</td>\n",
       "    </tr>\n",
       "    <tr>\n",
       "      <th>17186</th>\n",
       "      <td>3326079016</td>\n",
       "      <td>5/4/2015</td>\n",
       "      <td>190000.0</td>\n",
       "      <td>2</td>\n",
       "      <td>1.0</td>\n",
       "      <td>710</td>\n",
       "      <td>1164794</td>\n",
       "      <td>1.0</td>\n",
       "      <td>2</td>\n",
       "      <td>5</td>\n",
       "      <td>710</td>\n",
       "      <td>1915</td>\n",
       "      <td>98014</td>\n",
       "      <td>47.6888</td>\n",
       "      <td>-121.909</td>\n",
       "      <td>1680</td>\n",
       "      <td>16730</td>\n",
       "      <td>0</td>\n",
       "    </tr>\n",
       "  </tbody>\n",
       "</table>\n",
       "</div>"
      ],
      "text/plain": [
       "               id        date      price  bedrooms  bathrooms  sqft_living  \\\n",
       "1698   1020069017   3/27/2015   700000.0         4        1.0         1300   \n",
       "7192   6762700020  10/13/2014  7700000.0         6        8.0        12050   \n",
       "12678  1225069038    5/5/2014  2280000.0         7        8.0        13540   \n",
       "17186  3326079016    5/4/2015   190000.0         2        1.0          710   \n",
       "\n",
       "       sqft_lot  floors  condition  grade  sqft_above  yr_built  zipcode  \\\n",
       "1698    1651359     1.0          4      6        1300      1920    98022   \n",
       "7192      27600     2.5          4     13        8570      1910    98102   \n",
       "12678    307752     3.0          3     12        9410      1999    98053   \n",
       "17186   1164794     1.0          2      5         710      1915    98014   \n",
       "\n",
       "           lat     long  sqft_living15  sqft_lot15  basement_size  \n",
       "1698   47.2313 -122.023           2560      425581              0  \n",
       "7192   47.6298 -122.323           3940        8800           3480  \n",
       "12678  47.6675 -121.986           4850      217800           4130  \n",
       "17186  47.6888 -121.909           1680       16730              0  "
      ]
     },
     "execution_count": 24,
     "metadata": {},
     "output_type": "execute_result"
    }
   ],
   "source": [
    "df[(df['sqft_living']>10000) | (df['sqft_lot']>1150000)]"
   ]
  },
  {
   "cell_type": "markdown",
   "metadata": {},
   "source": [
    "https://blue.kingcounty.com/Assessor/eRealProperty/Dashboard.aspx?ParcelNbr=1225069038\n",
    "\n",
    "Clearly the lot size of this property did not decrease by almost 100,000 sqft, and living by almost 10,000 due to renovations.  It is more likely that the sqft_living15 and sqft_lot15 figures correspond so some other metric, and the description provided is wrong.  \n",
    "\n",
    "Furthermore correspondance with the KCGIS centre revealed they also had no record of those features in their database. \n",
    "\n",
    "For these reasons they can both be ignored and deleted."
   ]
  },
  {
   "cell_type": "code",
   "execution_count": 25,
   "metadata": {},
   "outputs": [],
   "source": [
    "df.drop('sqft_living15', axis =1, inplace=True)\n",
    "df.drop('sqft_lot15', axis =1, inplace=True)"
   ]
  },
  {
   "cell_type": "markdown",
   "metadata": {},
   "source": [
    "# GET A SENSE OF THE DATA USING SCATTER PLOTS & HISTOGRAMS"
   ]
  },
  {
   "cell_type": "markdown",
   "metadata": {},
   "source": [
    "The features of interest are one which are - at least in theory - subject to change by the homeowner.\n",
    "\n",
    "Other features can be used to create categories (e.g zipcode & yr_built)"
   ]
  },
  {
   "cell_type": "code",
   "execution_count": 26,
   "metadata": {},
   "outputs": [
    {
     "data": {
      "text/plain": [
       "Index(['id', 'date', 'price', 'bedrooms', 'bathrooms', 'sqft_living',\n",
       "       'sqft_lot', 'floors', 'condition', 'grade', 'sqft_above', 'yr_built',\n",
       "       'zipcode', 'lat', 'long', 'basement_size'],\n",
       "      dtype='object')"
      ]
     },
     "execution_count": 26,
     "metadata": {},
     "output_type": "execute_result"
    }
   ],
   "source": [
    "df.columns"
   ]
  },
  {
   "cell_type": "code",
   "execution_count": 27,
   "metadata": {},
   "outputs": [],
   "source": [
    "df_view = df.drop(['id', 'date', 'zipcode', 'lat', 'long'], axis=1)"
   ]
  },
  {
   "cell_type": "code",
   "execution_count": 28,
   "metadata": {
    "scrolled": false
   },
   "outputs": [
    {
     "data": {
      "image/png": "[encoded data removed]",
      "text/plain": [
       "<Figure size 1008x3744 with 20 Axes>"
      ]
     },
     "metadata": {
      "needs_background": "light"
     },
     "output_type": "display_data"
    }
   ],
   "source": [
    "#%%capture\n",
    "fig = plt.figure(figsize = (14,52))\n",
    "fig.suptitle('Features vs Price', fontsize=16)\n",
    "fig.tight_layout()\n",
    "fig.subplots_adjust(top=0.95)\n",
    "\n",
    "plot_pos = 1\n",
    "\n",
    "for i in df_view.columns:\n",
    "    if i != 'price':\n",
    "        ax = plt.subplot(13,2,plot_pos)\n",
    "        ax.scatter(df_view[[i]], df_view.price)\n",
    "        ax.set_xlabel(str(i) + ' count / value')\n",
    "        ax.set_ylabel('Price')\n",
    "        lm = smf.ols(formula = 'price ~ ' + str(i), data = df_view).fit()\n",
    "        X_new = pd.DataFrame({str(i): [df_view[i].min(), df_view[i].max()]})\n",
    "        preds = lm.predict(X_new)\n",
    "        ax.plot(X_new, preds, c='red', linewidth=2)\n",
    "        rmse = np.sqrt(np.mean(np.array(list(lm.resid))**2))\n",
    "        ax.set_title(str(i) + '\\n RMSE: ' + str(rmse))\n",
    "        #ax.set_title('Corr: ' + str(df_view[['price',i]].corr().iloc[0:1,1:]))\n",
    "        plt.subplots_adjust(hspace=0.5)\n",
    "        plot_pos += 1\n",
    "        ax = plt.subplot(13,2,plot_pos)\n",
    "        ax.hist(df_view[i], bins=20)\n",
    "        ax.set_title(str(i))\n",
    "        ax.set_xlabel(str(i) + ' count / value')\n",
    "        ax.set_ylabel('Price')\n",
    "        plt.subplots_adjust(hspace=0.5)\n",
    "        plot_pos += 1\n",
    "        \n",
    "#fig.savefig('Features vs Price')"
   ]
  },
  {
   "cell_type": "markdown",
   "metadata": {},
   "source": [
    "## Features that show no correlation with price can be ignored:"
   ]
  },
  {
   "cell_type": "markdown",
   "metadata": {},
   "source": [
    "condition\n",
    "\n",
    "sqft_lot\n",
    "\n",
    "yr_built"
   ]
  },
  {
   "cell_type": "markdown",
   "metadata": {},
   "source": [
    "# Model 1:"
   ]
  },
  {
   "cell_type": "code",
   "execution_count": 29,
   "metadata": {},
   "outputs": [],
   "source": [
    "model_1 = df.drop(['id', 'date', 'zipcode', 'lat', 'long', 'condition' ,'sqft_lot', 'yr_built'], axis=1)"
   ]
  },
  {
   "cell_type": "code",
   "execution_count": 30,
   "metadata": {},
   "outputs": [],
   "source": [
    "y_1 = model_1[['price']]\n",
    "X_1 = model_1.drop(['price'], axis = 1)\n",
    "#y = kcd_final[['price']]\n",
    "#X = kcd_final.drop(['price'], axis = 1)"
   ]
  },
  {
   "cell_type": "code",
   "execution_count": 31,
   "metadata": {},
   "outputs": [
    {
     "name": "stdout",
     "output_type": "stream",
     "text": [
      "-------\n",
      "Model 1\n",
      "-------\n",
      "The train mse is 52837211104.93444\n",
      "The test mse is  51112869958.20258\n",
      "\n",
      "The train rmse is 229863.46187451028\n",
      "The test rmse is 226081.55598854716\n",
      "\n",
      "The R-Squared is 0.5533622095055976\n"
     ]
    },
    {
     "data": {
      "text/html": [
       "<table class=\"simpletable\">\n",
       "<caption>OLS Regression Results</caption>\n",
       "<tr>\n",
       "  <th>Dep. Variable:</th>          <td>price</td>      <th>  R-squared:         </th>  <td>   0.553</td>  \n",
       "</tr>\n",
       "<tr>\n",
       "  <th>Model:</th>                   <td>OLS</td>       <th>  Adj. R-squared:    </th>  <td>   0.553</td>  \n",
       "</tr>\n",
       "<tr>\n",
       "  <th>Method:</th>             <td>Least Squares</td>  <th>  F-statistic:       </th>  <td>   4428.</td>  \n",
       "</tr>\n",
       "<tr>\n",
       "  <th>Date:</th>             <td>Mon, 17 Dec 2018</td> <th>  Prob (F-statistic):</th>   <td>  0.00</td>   \n",
       "</tr>\n",
       "<tr>\n",
       "  <th>Time:</th>                 <td>19:22:28</td>     <th>  Log-Likelihood:    </th> <td>-2.9518e+05</td>\n",
       "</tr>\n",
       "<tr>\n",
       "  <th>No. Observations:</th>      <td> 21451</td>      <th>  AIC:               </th>  <td>5.904e+05</td> \n",
       "</tr>\n",
       "<tr>\n",
       "  <th>Df Residuals:</th>          <td> 21444</td>      <th>  BIC:               </th>  <td>5.904e+05</td> \n",
       "</tr>\n",
       "<tr>\n",
       "  <th>Df Model:</th>              <td>     6</td>      <th>                     </th>      <td> </td>     \n",
       "</tr>\n",
       "<tr>\n",
       "  <th>Covariance Type:</th>      <td>nonrobust</td>    <th>                     </th>      <td> </td>     \n",
       "</tr>\n",
       "</table>\n",
       "<table class=\"simpletable\">\n",
       "<tr>\n",
       "        <td></td>           <th>coef</th>     <th>std err</th>      <th>t</th>      <th>P>|t|</th>  <th>[0.025</th>    <th>0.975]</th>  \n",
       "</tr>\n",
       "<tr>\n",
       "  <th>const</th>         <td>-5.334e+05</td> <td> 1.42e+04</td> <td>  -37.516</td> <td> 0.000</td> <td>-5.61e+05</td> <td>-5.06e+05</td>\n",
       "</tr>\n",
       "<tr>\n",
       "  <th>bedrooms</th>      <td>-3.222e+04</td> <td> 2148.117</td> <td>  -14.999</td> <td> 0.000</td> <td>-3.64e+04</td> <td> -2.8e+04</td>\n",
       "</tr>\n",
       "<tr>\n",
       "  <th>bathrooms</th>     <td> -2.12e+04</td> <td> 3495.213</td> <td>   -6.064</td> <td> 0.000</td> <td> -2.8e+04</td> <td>-1.43e+04</td>\n",
       "</tr>\n",
       "<tr>\n",
       "  <th>sqft_living</th>   <td>  140.9142</td> <td>    2.358</td> <td>   59.750</td> <td> 0.000</td> <td>  136.292</td> <td>  145.537</td>\n",
       "</tr>\n",
       "<tr>\n",
       "  <th>floors</th>        <td>-9160.4865</td> <td> 3882.047</td> <td>   -2.360</td> <td> 0.018</td> <td>-1.68e+04</td> <td>-1551.384</td>\n",
       "</tr>\n",
       "<tr>\n",
       "  <th>grade</th>         <td> 1.104e+05</td> <td> 2261.887</td> <td>   48.802</td> <td> 0.000</td> <td> 1.06e+05</td> <td> 1.15e+05</td>\n",
       "</tr>\n",
       "<tr>\n",
       "  <th>sqft_above</th>    <td>   37.2646</td> <td>    2.282</td> <td>   16.327</td> <td> 0.000</td> <td>   32.791</td> <td>   41.738</td>\n",
       "</tr>\n",
       "<tr>\n",
       "  <th>basement_size</th> <td>  103.6496</td> <td>    2.851</td> <td>   36.350</td> <td> 0.000</td> <td>   98.061</td> <td>  109.239</td>\n",
       "</tr>\n",
       "</table>\n",
       "<table class=\"simpletable\">\n",
       "<tr>\n",
       "  <th>Omnibus:</th>       <td>15576.877</td> <th>  Durbin-Watson:     </th>  <td>   1.974</td> \n",
       "</tr>\n",
       "<tr>\n",
       "  <th>Prob(Omnibus):</th>  <td> 0.000</td>   <th>  Jarque-Bera (JB):  </th> <td>856030.120</td>\n",
       "</tr>\n",
       "<tr>\n",
       "  <th>Skew:</th>           <td> 2.937</td>   <th>  Prob(JB):          </th>  <td>    0.00</td> \n",
       "</tr>\n",
       "<tr>\n",
       "  <th>Kurtosis:</th>       <td>33.385</td>   <th>  Cond. No.          </th>  <td>6.21e+15</td> \n",
       "</tr>\n",
       "</table><br/><br/>Warnings:<br/>[1] Standard Errors assume that the covariance matrix of the errors is correctly specified.<br/>[2] The smallest eigenvalue is 4.99e-21. This might indicate that there are<br/>strong multicollinearity problems or that the design matrix is singular."
      ],
      "text/plain": [
       "<class 'statsmodels.iolib.summary.Summary'>\n",
       "\"\"\"\n",
       "                            OLS Regression Results                            \n",
       "==============================================================================\n",
       "Dep. Variable:                  price   R-squared:                       0.553\n",
       "Model:                            OLS   Adj. R-squared:                  0.553\n",
       "Method:                 Least Squares   F-statistic:                     4428.\n",
       "Date:                Mon, 17 Dec 2018   Prob (F-statistic):               0.00\n",
       "Time:                        19:22:28   Log-Likelihood:            -2.9518e+05\n",
       "No. Observations:               21451   AIC:                         5.904e+05\n",
       "Df Residuals:                   21444   BIC:                         5.904e+05\n",
       "Df Model:                           6                                         \n",
       "Covariance Type:            nonrobust                                         \n",
       "=================================================================================\n",
       "                    coef    std err          t      P>|t|      [0.025      0.975]\n",
       "---------------------------------------------------------------------------------\n",
       "const         -5.334e+05   1.42e+04    -37.516      0.000   -5.61e+05   -5.06e+05\n",
       "bedrooms      -3.222e+04   2148.117    -14.999      0.000   -3.64e+04    -2.8e+04\n",
       "bathrooms      -2.12e+04   3495.213     -6.064      0.000    -2.8e+04   -1.43e+04\n",
       "sqft_living     140.9142      2.358     59.750      0.000     136.292     145.537\n",
       "floors        -9160.4865   3882.047     -2.360      0.018   -1.68e+04   -1551.384\n",
       "grade          1.104e+05   2261.887     48.802      0.000    1.06e+05    1.15e+05\n",
       "sqft_above       37.2646      2.282     16.327      0.000      32.791      41.738\n",
       "basement_size   103.6496      2.851     36.350      0.000      98.061     109.239\n",
       "==============================================================================\n",
       "Omnibus:                    15576.877   Durbin-Watson:                   1.974\n",
       "Prob(Omnibus):                  0.000   Jarque-Bera (JB):           856030.120\n",
       "Skew:                           2.937   Prob(JB):                         0.00\n",
       "Kurtosis:                      33.385   Cond. No.                     6.21e+15\n",
       "==============================================================================\n",
       "\n",
       "Warnings:\n",
       "[1] Standard Errors assume that the covariance matrix of the errors is correctly specified.\n",
       "[2] The smallest eigenvalue is 4.99e-21. This might indicate that there are\n",
       "strong multicollinearity problems or that the design matrix is singular.\n",
       "\"\"\""
      ]
     },
     "execution_count": 31,
     "metadata": {},
     "output_type": "execute_result"
    }
   ],
   "source": [
    "model_no = 'Model 1'\n",
    "\n",
    "X = X_1\n",
    "y = y_1\n",
    "\n",
    "X_train, X_test, y_train, y_test = train_test_split(X, y, test_size = 0.2, random_state=7)\n",
    "\n",
    "linreg.fit(X_train,y_train)\n",
    "yhat_train = linreg.predict(X_train)\n",
    "yhat_test = linreg.predict(X_test)\n",
    "mse_train = np.sum((y_train-yhat_train)**2)/len(y_train)\n",
    "rmse_train = np.sqrt(mse_train)\n",
    "mse_test =np.sum((y_test-yhat_test)**2)/len(y_test)\n",
    "rmse_test = np.sqrt(mse_test)\n",
    "y_int = sm.add_constant(X)\n",
    "model = sm.OLS(y,y_int).fit()\n",
    "\n",
    "print('-------\\n' + model_no + '\\n-------')\n",
    "print('The train mse is ' + str(list(mse_train)[0]))\n",
    "print('The test mse is  ' + str(list(mse_test)[0]))\n",
    "print('\\nThe train rmse is ' + str(list(rmse_train)[0]))\n",
    "print('The test rmse is ' + str(list(rmse_test)[0]))\n",
    "\n",
    "#list((mse_train/mse_test)*100)[0]\n",
    "\n",
    "print('\\nThe R-Squared is ' + str(model.rsquared))\n",
    "model.summary()"
   ]
  },
  {
   "cell_type": "markdown",
   "metadata": {},
   "source": [
    "Comments:\n",
    "\n",
    "This is a first pass that includes too many features, many of which are likely to be correlated together and some of which would be more appropriately used as categorical variables.  The R-Squared is low at just over 0.5.\n"
   ]
  },
  {
   "cell_type": "markdown",
   "metadata": {},
   "source": [
    "## Features to be changed to categorical variables:"
   ]
  },
  {
   "cell_type": "markdown",
   "metadata": {},
   "source": [
    "Floors\n",
    "\n",
    "Basement - yes / no\n",
    "\n",
    "Grade\n",
    "\n",
    "Zipcode (not shown above.  Zipcode bins can be created based on mean house price per zipcode)."
   ]
  },
  {
   "cell_type": "markdown",
   "metadata": {},
   "source": [
    "# <span style=\"color:blue\"> Do any of the continuous variable features display collinearity and if so which ones should be excluded from regression? </span>"
   ]
  },
  {
   "cell_type": "code",
   "execution_count": 32,
   "metadata": {},
   "outputs": [
    {
     "data": {
      "text/html": [
       "<div>\n",
       "<style scoped>\n",
       "    .dataframe tbody tr th:only-of-type {\n",
       "        vertical-align: middle;\n",
       "    }\n",
       "\n",
       "    .dataframe tbody tr th {\n",
       "        vertical-align: top;\n",
       "    }\n",
       "\n",
       "    .dataframe thead th {\n",
       "        text-align: right;\n",
       "    }\n",
       "</style>\n",
       "<table border=\"1\" class=\"dataframe\">\n",
       "  <thead>\n",
       "    <tr style=\"text-align: right;\">\n",
       "      <th></th>\n",
       "      <th>price</th>\n",
       "      <th>bedrooms</th>\n",
       "      <th>bathrooms</th>\n",
       "      <th>sqft_living</th>\n",
       "      <th>grade</th>\n",
       "      <th>sqft_above</th>\n",
       "    </tr>\n",
       "  </thead>\n",
       "  <tbody>\n",
       "    <tr>\n",
       "      <th>price</th>\n",
       "      <td>1.000000</td>\n",
       "      <td>0.320440</td>\n",
       "      <td>0.528358</td>\n",
       "      <td>0.700709</td>\n",
       "      <td>0.677425</td>\n",
       "      <td>0.608423</td>\n",
       "    </tr>\n",
       "    <tr>\n",
       "      <th>bedrooms</th>\n",
       "      <td>0.320440</td>\n",
       "      <td>1.000000</td>\n",
       "      <td>0.514691</td>\n",
       "      <td>0.582756</td>\n",
       "      <td>0.357643</td>\n",
       "      <td>0.480499</td>\n",
       "    </tr>\n",
       "    <tr>\n",
       "      <th>bathrooms</th>\n",
       "      <td>0.528358</td>\n",
       "      <td>0.514691</td>\n",
       "      <td>1.000000</td>\n",
       "      <td>0.754554</td>\n",
       "      <td>0.663866</td>\n",
       "      <td>0.684477</td>\n",
       "    </tr>\n",
       "    <tr>\n",
       "      <th>sqft_living</th>\n",
       "      <td>0.700709</td>\n",
       "      <td>0.582756</td>\n",
       "      <td>0.754554</td>\n",
       "      <td>1.000000</td>\n",
       "      <td>0.760906</td>\n",
       "      <td>0.876120</td>\n",
       "    </tr>\n",
       "    <tr>\n",
       "      <th>grade</th>\n",
       "      <td>0.677425</td>\n",
       "      <td>0.357643</td>\n",
       "      <td>0.663866</td>\n",
       "      <td>0.760906</td>\n",
       "      <td>1.000000</td>\n",
       "      <td>0.754865</td>\n",
       "    </tr>\n",
       "    <tr>\n",
       "      <th>sqft_above</th>\n",
       "      <td>0.608423</td>\n",
       "      <td>0.480499</td>\n",
       "      <td>0.684477</td>\n",
       "      <td>0.876120</td>\n",
       "      <td>0.754865</td>\n",
       "      <td>1.000000</td>\n",
       "    </tr>\n",
       "  </tbody>\n",
       "</table>\n",
       "</div>"
      ],
      "text/plain": [
       "                price  bedrooms  bathrooms  sqft_living     grade  sqft_above\n",
       "price        1.000000  0.320440   0.528358     0.700709  0.677425    0.608423\n",
       "bedrooms     0.320440  1.000000   0.514691     0.582756  0.357643    0.480499\n",
       "bathrooms    0.528358  0.514691   1.000000     0.754554  0.663866    0.684477\n",
       "sqft_living  0.700709  0.582756   0.754554     1.000000  0.760906    0.876120\n",
       "grade        0.677425  0.357643   0.663866     0.760906  1.000000    0.754865\n",
       "sqft_above   0.608423  0.480499   0.684477     0.876120  0.754865    1.000000"
      ]
     },
     "execution_count": 32,
     "metadata": {},
     "output_type": "execute_result"
    }
   ],
   "source": [
    "df_view_corr = df.drop(['id', 'date', 'zipcode', 'lat', 'long', 'sqft_lot', 'yr_built', 'basement_size', 'floors', 'condition'], axis=1)\n",
    "df_view_corr.corr()"
   ]
  },
  {
   "cell_type": "code",
   "execution_count": 33,
   "metadata": {},
   "outputs": [
    {
     "data": {
      "image/png": "[encoded data removed]",
      "text/plain": [
       "<Figure size 648x540 with 2 Axes>"
      ]
     },
     "metadata": {
      "needs_background": "light"
     },
     "output_type": "display_data"
    }
   ],
   "source": [
    "fig = plt.figure(figsize = (9,7.5))\n",
    "ax = plt.subplot(1,1,1)\n",
    "sns.heatmap(df_view_corr.corr(), center=0, ax=ax, square=True);"
   ]
  },
  {
   "cell_type": "markdown",
   "metadata": {},
   "source": [
    "Sqft_living is the feature most highly correlated with price.  It displays strong collinearity with bathrooms, sqft_above and grade, and some collinearity with bedrooms.\n",
    "\n",
    "To avoid multi-collinearity during regression, bathrooms and sqft_above will be excluded and grade will be used to create categorical variables."
   ]
  },
  {
   "cell_type": "markdown",
   "metadata": {},
   "source": [
    "# <span style=color:blue>Are there homes that are significantly outside of the main range of dataset - and if so is it best to exclude them from the analysis?</span>"
   ]
  },
  {
   "cell_type": "markdown",
   "metadata": {},
   "source": [
    "### Grade, Condition and sqft_lot show clear distributions of the dataset into specific ranges.  Those containing very small numbers of houses can be removed."
   ]
  },
  {
   "cell_type": "markdown",
   "metadata": {},
   "source": [
    "Note: Sqft_lot is not correlated with price and will not be used in regression, it is just being used to trim the dataset and exclude properties outside of the main range of the dataset."
   ]
  },
  {
   "cell_type": "code",
   "execution_count": 34,
   "metadata": {},
   "outputs": [
    {
     "data": {
      "image/png": "[encoded data removed]",
      "text/plain": [
       "<Figure size 1008x1440 with 9 Axes>"
      ]
     },
     "metadata": {
      "needs_background": "light"
     },
     "output_type": "display_data"
    }
   ],
   "source": [
    "fig = plt.figure(figsize = (14,20))\n",
    "fig.suptitle('Features to trim dataset', fontsize=16)\n",
    "fig.tight_layout()\n",
    "fig.subplots_adjust(top=0.95)\n",
    "\n",
    "plot_pos = 1\n",
    "\n",
    "for i in ['grade', 'condition']:\n",
    "    ax = plt.subplot(5,2,plot_pos)\n",
    "    ax.hist(df_view[i], bins=20)\n",
    "    ax.set_title(str(i))\n",
    "    ax.set_xlabel(str(i) + ' count / value')\n",
    "    ax.set_ylabel('Count of homes')\n",
    "    plt.subplots_adjust(hspace=0.5)\n",
    "    plot_pos += 1\n",
    "    \n",
    "for i in [500000,250000,50000,30000]:\n",
    "    trim = df[df['sqft_lot']<i]\n",
    "    ax = plt.subplot(5,2,plot_pos)\n",
    "    ax.hist(trim['sqft_lot'], bins = 35)\n",
    "    ax.set_title('Distribution of homes with sqft_lot below ' + str(i))\n",
    "    ax.set_xlabel('Sqft Lot')\n",
    "    ax.set_ylabel('Count of homes')\n",
    "    plot_pos += 1\n",
    "    \n",
    "ax = plt.subplot(5,2,plot_pos)    \n",
    "ax.scatter(df_view[['bedrooms']], df_view.price)\n",
    "ax.set_title('bedrooms')\n",
    "ax.set_xlabel('No of bedrooms')\n",
    "ax.set_ylabel('Price')\n",
    "plot_pos += 1\n",
    "\n",
    "ax = plt.subplot(5,2,plot_pos) \n",
    "ax.hist(df_view['bedrooms'], bins=35)\n",
    "ax.set_title('bedrooms')\n",
    "ax.set_xlabel('No of bedrooms')\n",
    "ax.set_ylabel('Count of homes');\n",
    "plot_pos += 1\n",
    "\n",
    "ax = plt.subplot(5,2,plot_pos) \n",
    "ax.hist(df_view['price'], bins=35)\n",
    "ax.set_title('price')\n",
    "ax.set_xlabel('price')\n",
    "ax.set_ylabel('Count of homes');\n"
   ]
  },
  {
   "cell_type": "markdown",
   "metadata": {},
   "source": [
    "### The following parameters can be used to trim the dataset:\n",
    "    \n",
    "Bedrooms below 8 (remove obvious outlier)<br>\n",
    "Grade between 6 and 11<br>\n",
    "Condition 3 or above<br>\n",
    "sqft_lot below 20000<br>\n",
    "price below $2m"
   ]
  },
  {
   "cell_type": "code",
   "execution_count": 35,
   "metadata": {},
   "outputs": [],
   "source": [
    "df_trim = df[(df['grade']>5) & (df['grade']<12) & (df['condition']>2) & (df['sqft_lot']<20000) & (df['bedrooms']<8) & (df['price']<2000000)].copy()"
   ]
  },
  {
   "cell_type": "code",
   "execution_count": 36,
   "metadata": {},
   "outputs": [
    {
     "name": "stdout",
     "output_type": "stream",
     "text": [
      "6     1833\n",
      "7     8348\n",
      "8     5416\n",
      "9     2122\n",
      "10     770\n",
      "11     196\n",
      "Name: grade, dtype: int64\n",
      "3    12323\n",
      "4     4855\n",
      "5     1507\n",
      "Name: condition, dtype: int64\n",
      "This dataset contains 18685 entries and 16 columns\n"
     ]
    }
   ],
   "source": [
    "print(df_trim.grade.value_counts().sort_index())\n",
    "print(df_trim.condition.value_counts())\n",
    "cod(df_trim)"
   ]
  },
  {
   "cell_type": "markdown",
   "metadata": {},
   "source": [
    "## <span style=color:blue>Are there any duplicate entries in the analysis and if so how should they be dealt with?</span>"
   ]
  },
  {
   "cell_type": "markdown",
   "metadata": {},
   "source": [
    "Each property has a unique ID number in the ID column, and each property should appear only once in the dataset:"
   ]
  },
  {
   "cell_type": "code",
   "execution_count": 37,
   "metadata": {},
   "outputs": [
    {
     "name": "stdout",
     "output_type": "stream",
     "text": [
      "There are 152 houses with the same ID\n"
     ]
    }
   ],
   "source": [
    "#find entries with duplicate IDs\n",
    "id_list = {}\n",
    "for i in df_trim.id:\n",
    "    if id_list.get(i)==None:\n",
    "        id_list[i] = 1\n",
    "    else:\n",
    "        id_list[i] += 1\n",
    "\n",
    "double_ids = []\n",
    "for key, value in id_list.items():\n",
    "    if value > 1:\n",
    "        double_ids.append(key)\n",
    "        \n",
    "print('There are ' + str(len(double_ids)) + ' houses with the same ID')"
   ]
  },
  {
   "cell_type": "code",
   "execution_count": 38,
   "metadata": {},
   "outputs": [],
   "source": [
    "frames = []\n",
    "for id_val in double_ids:\n",
    "    frames.append(df_trim[df_trim.id == id_val])\n",
    "duplicate_entries = pd.concat(frames)"
   ]
  },
  {
   "cell_type": "code",
   "execution_count": 39,
   "metadata": {},
   "outputs": [
    {
     "data": {
      "text/html": [
       "<div>\n",
       "<style scoped>\n",
       "    .dataframe tbody tr th:only-of-type {\n",
       "        vertical-align: middle;\n",
       "    }\n",
       "\n",
       "    .dataframe tbody tr th {\n",
       "        vertical-align: top;\n",
       "    }\n",
       "\n",
       "    .dataframe thead th {\n",
       "        text-align: right;\n",
       "    }\n",
       "</style>\n",
       "<table border=\"1\" class=\"dataframe\">\n",
       "  <thead>\n",
       "    <tr style=\"text-align: right;\">\n",
       "      <th></th>\n",
       "      <th>id</th>\n",
       "      <th>date</th>\n",
       "      <th>price</th>\n",
       "      <th>bedrooms</th>\n",
       "      <th>bathrooms</th>\n",
       "      <th>sqft_living</th>\n",
       "      <th>sqft_lot</th>\n",
       "      <th>floors</th>\n",
       "      <th>condition</th>\n",
       "      <th>grade</th>\n",
       "      <th>sqft_above</th>\n",
       "      <th>yr_built</th>\n",
       "      <th>zipcode</th>\n",
       "      <th>lat</th>\n",
       "      <th>long</th>\n",
       "      <th>basement_size</th>\n",
       "    </tr>\n",
       "  </thead>\n",
       "  <tbody>\n",
       "    <tr>\n",
       "      <th>92</th>\n",
       "      <td>6021501535</td>\n",
       "      <td>7/25/2014</td>\n",
       "      <td>430000.0</td>\n",
       "      <td>3</td>\n",
       "      <td>1.50</td>\n",
       "      <td>1580</td>\n",
       "      <td>5000</td>\n",
       "      <td>1.0</td>\n",
       "      <td>3</td>\n",
       "      <td>8</td>\n",
       "      <td>1290</td>\n",
       "      <td>1939</td>\n",
       "      <td>98117</td>\n",
       "      <td>47.6870</td>\n",
       "      <td>-122.386</td>\n",
       "      <td>290</td>\n",
       "    </tr>\n",
       "    <tr>\n",
       "      <th>93</th>\n",
       "      <td>6021501535</td>\n",
       "      <td>12/23/2014</td>\n",
       "      <td>700000.0</td>\n",
       "      <td>3</td>\n",
       "      <td>1.50</td>\n",
       "      <td>1580</td>\n",
       "      <td>5000</td>\n",
       "      <td>1.0</td>\n",
       "      <td>3</td>\n",
       "      <td>8</td>\n",
       "      <td>1290</td>\n",
       "      <td>1939</td>\n",
       "      <td>98117</td>\n",
       "      <td>47.6870</td>\n",
       "      <td>-122.386</td>\n",
       "      <td>290</td>\n",
       "    </tr>\n",
       "    <tr>\n",
       "      <th>308</th>\n",
       "      <td>4139480200</td>\n",
       "      <td>6/18/2014</td>\n",
       "      <td>1380000.0</td>\n",
       "      <td>4</td>\n",
       "      <td>3.25</td>\n",
       "      <td>4290</td>\n",
       "      <td>12103</td>\n",
       "      <td>1.0</td>\n",
       "      <td>3</td>\n",
       "      <td>11</td>\n",
       "      <td>2690</td>\n",
       "      <td>1997</td>\n",
       "      <td>98006</td>\n",
       "      <td>47.5503</td>\n",
       "      <td>-122.102</td>\n",
       "      <td>1600</td>\n",
       "    </tr>\n",
       "    <tr>\n",
       "      <th>309</th>\n",
       "      <td>4139480200</td>\n",
       "      <td>12/9/2014</td>\n",
       "      <td>1400000.0</td>\n",
       "      <td>4</td>\n",
       "      <td>3.25</td>\n",
       "      <td>4290</td>\n",
       "      <td>12103</td>\n",
       "      <td>1.0</td>\n",
       "      <td>3</td>\n",
       "      <td>11</td>\n",
       "      <td>2690</td>\n",
       "      <td>1997</td>\n",
       "      <td>98006</td>\n",
       "      <td>47.5503</td>\n",
       "      <td>-122.102</td>\n",
       "      <td>1600</td>\n",
       "    </tr>\n",
       "    <tr>\n",
       "      <th>319</th>\n",
       "      <td>7520000520</td>\n",
       "      <td>9/5/2014</td>\n",
       "      <td>232000.0</td>\n",
       "      <td>2</td>\n",
       "      <td>1.00</td>\n",
       "      <td>1240</td>\n",
       "      <td>12092</td>\n",
       "      <td>1.0</td>\n",
       "      <td>3</td>\n",
       "      <td>6</td>\n",
       "      <td>960</td>\n",
       "      <td>1922</td>\n",
       "      <td>98146</td>\n",
       "      <td>47.4957</td>\n",
       "      <td>-122.352</td>\n",
       "      <td>280</td>\n",
       "    </tr>\n",
       "    <tr>\n",
       "      <th>320</th>\n",
       "      <td>7520000520</td>\n",
       "      <td>3/11/2015</td>\n",
       "      <td>240500.0</td>\n",
       "      <td>2</td>\n",
       "      <td>1.00</td>\n",
       "      <td>1240</td>\n",
       "      <td>12092</td>\n",
       "      <td>1.0</td>\n",
       "      <td>3</td>\n",
       "      <td>6</td>\n",
       "      <td>960</td>\n",
       "      <td>1922</td>\n",
       "      <td>98146</td>\n",
       "      <td>47.4957</td>\n",
       "      <td>-122.352</td>\n",
       "      <td>280</td>\n",
       "    </tr>\n",
       "  </tbody>\n",
       "</table>\n",
       "</div>"
      ],
      "text/plain": [
       "             id        date      price  bedrooms  bathrooms  sqft_living  \\\n",
       "92   6021501535   7/25/2014   430000.0         3       1.50         1580   \n",
       "93   6021501535  12/23/2014   700000.0         3       1.50         1580   \n",
       "308  4139480200   6/18/2014  1380000.0         4       3.25         4290   \n",
       "309  4139480200   12/9/2014  1400000.0         4       3.25         4290   \n",
       "319  7520000520    9/5/2014   232000.0         2       1.00         1240   \n",
       "320  7520000520   3/11/2015   240500.0         2       1.00         1240   \n",
       "\n",
       "     sqft_lot  floors  condition  grade  sqft_above  yr_built  zipcode  \\\n",
       "92       5000     1.0          3      8        1290      1939    98117   \n",
       "93       5000     1.0          3      8        1290      1939    98117   \n",
       "308     12103     1.0          3     11        2690      1997    98006   \n",
       "309     12103     1.0          3     11        2690      1997    98006   \n",
       "319     12092     1.0          3      6         960      1922    98146   \n",
       "320     12092     1.0          3      6         960      1922    98146   \n",
       "\n",
       "         lat     long  basement_size  \n",
       "92   47.6870 -122.386            290  \n",
       "93   47.6870 -122.386            290  \n",
       "308  47.5503 -122.102           1600  \n",
       "309  47.5503 -122.102           1600  \n",
       "319  47.4957 -122.352            280  \n",
       "320  47.4957 -122.352            280  "
      ]
     },
     "execution_count": 39,
     "metadata": {},
     "output_type": "execute_result"
    }
   ],
   "source": [
    "duplicate_entries.head(6)"
   ]
  },
  {
   "cell_type": "markdown",
   "metadata": {},
   "source": [
    "Conclusion - these duplicate entries appear to show that house prices are subject to significant variation depending soley on the sale date, irrespective of other factors.  \n",
    "\n",
    "Correspondance with the KCGIS revealed that refurbishment had a significant impact on sale price.  For example property ID 6021501535:\n",
    "\n",
    "The listing from July 2014:\n",
    "\n",
    "https://www.redfin.com/WA/Seattle/8001-23rd-Ave-NW-98117/home/165496/nwmls-596311\n",
    "\n",
    "The listing from December 2014:\n",
    "\n",
    "https://www.redfin.com/WA/Seattle/8001-23rd-Ave-NW-98117/home/165496/nwmls-713942\n",
    "\n",
    "However, it is worth noting that condition rating for this column remained unchanged on the second sale date when the price rose by $27,000.  This calls into question the reliability of the condition feature.\n",
    "\n",
    "These issues can be invesigated separately but in order to analyse the influence of the other features on price, all houses with duplicate entries will be deleted.  \n",
    "\n",
    "Condition can also be disregarded in the analysis going forward."
   ]
  },
  {
   "cell_type": "code",
   "execution_count": 40,
   "metadata": {},
   "outputs": [],
   "source": [
    "id_index = pd.DataFrame(df_trim['id'])\n",
    "id_index.set_index('id', inplace=True)\n",
    "\n",
    "drop_duplicates = id_index.loc[double_ids]"
   ]
  },
  {
   "cell_type": "code",
   "execution_count": 41,
   "metadata": {},
   "outputs": [],
   "source": [
    "df_trim.set_index('id', inplace=True)"
   ]
  },
  {
   "cell_type": "code",
   "execution_count": 42,
   "metadata": {},
   "outputs": [],
   "source": [
    "df_trim.drop(drop_duplicates.index, axis = 0, inplace=True)"
   ]
  },
  {
   "cell_type": "code",
   "execution_count": 43,
   "metadata": {},
   "outputs": [],
   "source": [
    "df_trim.reset_index(inplace=True)"
   ]
  },
  {
   "cell_type": "markdown",
   "metadata": {},
   "source": [
    "## Remove geographical outliers - it is likely that houses a long way from the bay area are influenced by different price factors:"
   ]
  },
  {
   "cell_type": "markdown",
   "metadata": {},
   "source": [
    "<img src=\"King County Housing trim zips_del.png\" width= 40%, height= 40%>"
   ]
  },
  {
   "cell_type": "code",
   "execution_count": 44,
   "metadata": {},
   "outputs": [
    {
     "data": {
      "text/plain": [
       "282"
      ]
     },
     "execution_count": 44,
     "metadata": {},
     "output_type": "execute_result"
    }
   ],
   "source": [
    "df_trim_out_of_town = df_trim.drop(df_trim[(df_trim.zipcode == 98022) | (df_trim.zipcode == 98045)].index)\n",
    "len(df_trim) - len(df_trim_out_of_town)"
   ]
  },
  {
   "cell_type": "code",
   "execution_count": 45,
   "metadata": {},
   "outputs": [],
   "source": [
    "df_trim = df_trim_out_of_town"
   ]
  },
  {
   "cell_type": "code",
   "execution_count": 46,
   "metadata": {},
   "outputs": [],
   "source": [
    "df_trim.reset_index(inplace=True, drop=True)"
   ]
  },
  {
   "cell_type": "code",
   "execution_count": 47,
   "metadata": {},
   "outputs": [
    {
     "data": {
      "text/plain": [
       "68"
      ]
     },
     "execution_count": 47,
     "metadata": {},
     "output_type": "execute_result"
    }
   ],
   "source": [
    "len(df_trim.zipcode.unique())"
   ]
  },
  {
   "cell_type": "code",
   "execution_count": 48,
   "metadata": {},
   "outputs": [
    {
     "name": "stdout",
     "output_type": "stream",
     "text": [
      "This dataset contains 18099 entries and 16 columns\n"
     ]
    },
    {
     "data": {
      "text/html": [
       "<div>\n",
       "<style scoped>\n",
       "    .dataframe tbody tr th:only-of-type {\n",
       "        vertical-align: middle;\n",
       "    }\n",
       "\n",
       "    .dataframe tbody tr th {\n",
       "        vertical-align: top;\n",
       "    }\n",
       "\n",
       "    .dataframe thead th {\n",
       "        text-align: right;\n",
       "    }\n",
       "</style>\n",
       "<table border=\"1\" class=\"dataframe\">\n",
       "  <thead>\n",
       "    <tr style=\"text-align: right;\">\n",
       "      <th></th>\n",
       "      <th>id</th>\n",
       "      <th>date</th>\n",
       "      <th>price</th>\n",
       "      <th>bedrooms</th>\n",
       "      <th>bathrooms</th>\n",
       "      <th>sqft_living</th>\n",
       "      <th>sqft_lot</th>\n",
       "      <th>floors</th>\n",
       "      <th>condition</th>\n",
       "      <th>grade</th>\n",
       "      <th>sqft_above</th>\n",
       "      <th>yr_built</th>\n",
       "      <th>zipcode</th>\n",
       "      <th>lat</th>\n",
       "      <th>long</th>\n",
       "      <th>basement_size</th>\n",
       "    </tr>\n",
       "  </thead>\n",
       "  <tbody>\n",
       "    <tr>\n",
       "      <th>18094</th>\n",
       "      <td>263000018</td>\n",
       "      <td>5/21/2014</td>\n",
       "      <td>360000.0</td>\n",
       "      <td>3</td>\n",
       "      <td>2.50</td>\n",
       "      <td>1530</td>\n",
       "      <td>1131</td>\n",
       "      <td>3.0</td>\n",
       "      <td>3</td>\n",
       "      <td>8</td>\n",
       "      <td>1530</td>\n",
       "      <td>2009</td>\n",
       "      <td>98103</td>\n",
       "      <td>47.6993</td>\n",
       "      <td>-122.346</td>\n",
       "      <td>0</td>\n",
       "    </tr>\n",
       "    <tr>\n",
       "      <th>18095</th>\n",
       "      <td>6600060120</td>\n",
       "      <td>2/23/2015</td>\n",
       "      <td>400000.0</td>\n",
       "      <td>4</td>\n",
       "      <td>2.50</td>\n",
       "      <td>2310</td>\n",
       "      <td>5813</td>\n",
       "      <td>2.0</td>\n",
       "      <td>3</td>\n",
       "      <td>8</td>\n",
       "      <td>2310</td>\n",
       "      <td>2014</td>\n",
       "      <td>98146</td>\n",
       "      <td>47.5107</td>\n",
       "      <td>-122.362</td>\n",
       "      <td>0</td>\n",
       "    </tr>\n",
       "    <tr>\n",
       "      <th>18096</th>\n",
       "      <td>1523300141</td>\n",
       "      <td>6/23/2014</td>\n",
       "      <td>402101.0</td>\n",
       "      <td>2</td>\n",
       "      <td>0.75</td>\n",
       "      <td>1020</td>\n",
       "      <td>1350</td>\n",
       "      <td>2.0</td>\n",
       "      <td>3</td>\n",
       "      <td>7</td>\n",
       "      <td>1020</td>\n",
       "      <td>2009</td>\n",
       "      <td>98144</td>\n",
       "      <td>47.5944</td>\n",
       "      <td>-122.299</td>\n",
       "      <td>0</td>\n",
       "    </tr>\n",
       "    <tr>\n",
       "      <th>18097</th>\n",
       "      <td>291310100</td>\n",
       "      <td>1/16/2015</td>\n",
       "      <td>400000.0</td>\n",
       "      <td>3</td>\n",
       "      <td>2.50</td>\n",
       "      <td>1600</td>\n",
       "      <td>2388</td>\n",
       "      <td>2.0</td>\n",
       "      <td>3</td>\n",
       "      <td>8</td>\n",
       "      <td>1600</td>\n",
       "      <td>2004</td>\n",
       "      <td>98027</td>\n",
       "      <td>47.5345</td>\n",
       "      <td>-122.069</td>\n",
       "      <td>0</td>\n",
       "    </tr>\n",
       "    <tr>\n",
       "      <th>18098</th>\n",
       "      <td>1523300157</td>\n",
       "      <td>10/15/2014</td>\n",
       "      <td>325000.0</td>\n",
       "      <td>2</td>\n",
       "      <td>0.75</td>\n",
       "      <td>1020</td>\n",
       "      <td>1076</td>\n",
       "      <td>2.0</td>\n",
       "      <td>3</td>\n",
       "      <td>7</td>\n",
       "      <td>1020</td>\n",
       "      <td>2008</td>\n",
       "      <td>98144</td>\n",
       "      <td>47.5941</td>\n",
       "      <td>-122.299</td>\n",
       "      <td>0</td>\n",
       "    </tr>\n",
       "  </tbody>\n",
       "</table>\n",
       "</div>"
      ],
      "text/plain": [
       "               id        date     price  bedrooms  bathrooms  sqft_living  \\\n",
       "18094   263000018   5/21/2014  360000.0         3       2.50         1530   \n",
       "18095  6600060120   2/23/2015  400000.0         4       2.50         2310   \n",
       "18096  1523300141   6/23/2014  402101.0         2       0.75         1020   \n",
       "18097   291310100   1/16/2015  400000.0         3       2.50         1600   \n",
       "18098  1523300157  10/15/2014  325000.0         2       0.75         1020   \n",
       "\n",
       "       sqft_lot  floors  condition  grade  sqft_above  yr_built  zipcode  \\\n",
       "18094      1131     3.0          3      8        1530      2009    98103   \n",
       "18095      5813     2.0          3      8        2310      2014    98146   \n",
       "18096      1350     2.0          3      7        1020      2009    98144   \n",
       "18097      2388     2.0          3      8        1600      2004    98027   \n",
       "18098      1076     2.0          3      7        1020      2008    98144   \n",
       "\n",
       "           lat     long  basement_size  \n",
       "18094  47.6993 -122.346              0  \n",
       "18095  47.5107 -122.362              0  \n",
       "18096  47.5944 -122.299              0  \n",
       "18097  47.5345 -122.069              0  \n",
       "18098  47.5941 -122.299              0  "
      ]
     },
     "execution_count": 48,
     "metadata": {},
     "output_type": "execute_result"
    }
   ],
   "source": [
    "cod(df_trim)\n",
    "df_trim.tail()"
   ]
  },
  {
   "cell_type": "markdown",
   "metadata": {},
   "source": [
    "What % of the original dataset is left?"
   ]
  },
  {
   "cell_type": "code",
   "execution_count": 49,
   "metadata": {},
   "outputs": [
    {
     "data": {
      "text/plain": [
       "84.37368887231365"
      ]
     },
     "execution_count": 49,
     "metadata": {},
     "output_type": "execute_result"
    }
   ],
   "source": [
    "(len(df_trim)/len(df)) * 100"
   ]
  },
  {
   "cell_type": "markdown",
   "metadata": {},
   "source": [
    "# Review the data again based on trimmed data:"
   ]
  },
  {
   "cell_type": "code",
   "execution_count": 50,
   "metadata": {},
   "outputs": [],
   "source": [
    "df_view_new = df_trim.drop(['id', 'date', 'zipcode', 'yr_built', 'lat', 'long', 'condition', 'floors', 'basement_size', 'grade', 'sqft_above', 'sqft_lot'], axis=1)"
   ]
  },
  {
   "cell_type": "code",
   "execution_count": 51,
   "metadata": {
    "scrolled": false
   },
   "outputs": [
    {
     "data": {
      "image/png": "[encoded data removed]",
      "text/plain": [
       "<Figure size 1008x3600 with 6 Axes>"
      ]
     },
     "metadata": {
      "needs_background": "light"
     },
     "output_type": "display_data"
    }
   ],
   "source": [
    "#%%capture\n",
    "fig = plt.figure(figsize = (14,50))\n",
    "fig.suptitle('Features vs Price - Trimmed data', fontsize=16)\n",
    "fig.tight_layout()\n",
    "fig.subplots_adjust(top=0.958)\n",
    "\n",
    "plot_pos = 1\n",
    "\n",
    "for i in df_view_new.columns:\n",
    "    if i != 'price':\n",
    "        ax = plt.subplot(13,2,plot_pos)\n",
    "        ax.scatter(df_trim[[i]], df_trim.price)\n",
    "        ax.set_xlabel(str(i) + ' count / value')\n",
    "        ax.set_ylabel('Price')\n",
    "        lm = smf.ols(formula = 'price ~ ' + str(i), data = df).fit()\n",
    "        lm_trim = smf.ols(formula = 'price ~ ' + str(i), data = df_trim).fit()\n",
    "        X_new = pd.DataFrame({str(i): [df_trim[i].min(), df_trim[i].max()]})\n",
    "        preds = lm.predict(X_new)\n",
    "        ax.plot(X_new, preds, c='red', linewidth=2)\n",
    "        rmse = np.sqrt(np.mean(np.array(list(lm.resid))**2))\n",
    "        rmse_trim = np.sqrt(np.mean(np.array(list(lm_trim.resid))**2))\n",
    "        ax.set_title(str(i) + '\\n previous RMSE: ' + str(rmse) + '\\n RMSE_trim: ' + str(rmse_trim))\n",
    "        #ax.set_title('Corr: ' + str(df_trim[['price',i]].corr().iloc[0:1,1:]))\n",
    "        plt.subplots_adjust(hspace=0.5)\n",
    "        plot_pos += 1\n",
    "        ax = plt.subplot(13,2,plot_pos)\n",
    "        ax.hist(df_trim[i], bins=20)\n",
    "        ax.set_title(str(i))\n",
    "        ax.set_xlabel(str(i) + ' count / value')\n",
    "        ax.set_ylabel('Count of homes')\n",
    "        plt.subplots_adjust(hspace=0.5)\n",
    "        plot_pos += 1\n",
    "        \n",
    "#fig.savefig('Features vs Price')"
   ]
  },
  {
   "cell_type": "markdown",
   "metadata": {},
   "source": [
    "# Create categorical variables for Zipcode, grade, basement and floors"
   ]
  },
  {
   "cell_type": "markdown",
   "metadata": {},
   "source": [
    "Visualise zipcodes by mean price:"
   ]
  },
  {
   "cell_type": "code",
   "execution_count": 52,
   "metadata": {},
   "outputs": [
    {
     "data": {
      "image/png": "[encoded data removed]",
      "text/plain": [
       "<Figure size 1152x504 with 1 Axes>"
      ]
     },
     "metadata": {
      "needs_background": "light"
     },
     "output_type": "display_data"
    }
   ],
   "source": [
    "df_trim.groupby('zipcode').mean()[['price']].round().plot.bar(figsize=(16,7), title='Mean house price by Zipcode');"
   ]
  },
  {
   "cell_type": "code",
   "execution_count": 53,
   "metadata": {},
   "outputs": [
    {
     "data": {
      "text/html": [
       "<div>\n",
       "<style scoped>\n",
       "    .dataframe tbody tr th:only-of-type {\n",
       "        vertical-align: middle;\n",
       "    }\n",
       "\n",
       "    .dataframe tbody tr th {\n",
       "        vertical-align: top;\n",
       "    }\n",
       "\n",
       "    .dataframe thead th {\n",
       "        text-align: right;\n",
       "    }\n",
       "</style>\n",
       "<table border=\"1\" class=\"dataframe\">\n",
       "  <thead>\n",
       "    <tr style=\"text-align: right;\">\n",
       "      <th></th>\n",
       "      <th>id</th>\n",
       "      <th>price</th>\n",
       "      <th>bedrooms</th>\n",
       "      <th>bathrooms</th>\n",
       "      <th>sqft_living</th>\n",
       "      <th>sqft_lot</th>\n",
       "      <th>floors</th>\n",
       "      <th>condition</th>\n",
       "      <th>grade</th>\n",
       "      <th>sqft_above</th>\n",
       "      <th>yr_built</th>\n",
       "      <th>lat</th>\n",
       "      <th>long</th>\n",
       "      <th>basement_size</th>\n",
       "    </tr>\n",
       "    <tr>\n",
       "      <th>zipcode</th>\n",
       "      <th></th>\n",
       "      <th></th>\n",
       "      <th></th>\n",
       "      <th></th>\n",
       "      <th></th>\n",
       "      <th></th>\n",
       "      <th></th>\n",
       "      <th></th>\n",
       "      <th></th>\n",
       "      <th></th>\n",
       "      <th></th>\n",
       "      <th></th>\n",
       "      <th></th>\n",
       "      <th></th>\n",
       "    </tr>\n",
       "  </thead>\n",
       "  <tbody>\n",
       "    <tr>\n",
       "      <th>98001</th>\n",
       "      <td>4.691185e+09</td>\n",
       "      <td>2.732948e+05</td>\n",
       "      <td>3.459184</td>\n",
       "      <td>2.076531</td>\n",
       "      <td>1900.306122</td>\n",
       "      <td>9131.068027</td>\n",
       "      <td>1.459184</td>\n",
       "      <td>3.285714</td>\n",
       "      <td>7.316327</td>\n",
       "      <td>1733.367347</td>\n",
       "      <td>1985.129252</td>\n",
       "      <td>47.311252</td>\n",
       "      <td>-122.270544</td>\n",
       "      <td>166.938776</td>\n",
       "    </tr>\n",
       "    <tr>\n",
       "      <th>98002</th>\n",
       "      <td>4.838877e+09</td>\n",
       "      <td>2.390717e+05</td>\n",
       "      <td>3.381215</td>\n",
       "      <td>1.878453</td>\n",
       "      <td>1667.077348</td>\n",
       "      <td>7441.519337</td>\n",
       "      <td>1.353591</td>\n",
       "      <td>3.729282</td>\n",
       "      <td>6.806630</td>\n",
       "      <td>1563.618785</td>\n",
       "      <td>1970.436464</td>\n",
       "      <td>47.309501</td>\n",
       "      <td>-122.213597</td>\n",
       "      <td>103.458564</td>\n",
       "    </tr>\n",
       "    <tr>\n",
       "      <th>98003</th>\n",
       "      <td>4.756655e+09</td>\n",
       "      <td>2.901519e+05</td>\n",
       "      <td>3.351351</td>\n",
       "      <td>2.035714</td>\n",
       "      <td>1900.011583</td>\n",
       "      <td>9316.061776</td>\n",
       "      <td>1.312741</td>\n",
       "      <td>3.378378</td>\n",
       "      <td>7.521236</td>\n",
       "      <td>1641.675676</td>\n",
       "      <td>1977.378378</td>\n",
       "      <td>47.315982</td>\n",
       "      <td>-122.310089</td>\n",
       "      <td>258.335907</td>\n",
       "    </tr>\n",
       "    <tr>\n",
       "      <th>98004</th>\n",
       "      <td>4.199169e+09</td>\n",
       "      <td>1.122314e+06</td>\n",
       "      <td>3.654008</td>\n",
       "      <td>2.331224</td>\n",
       "      <td>2522.827004</td>\n",
       "      <td>10740.299578</td>\n",
       "      <td>1.413502</td>\n",
       "      <td>3.540084</td>\n",
       "      <td>8.299578</td>\n",
       "      <td>2139.409283</td>\n",
       "      <td>1969.400844</td>\n",
       "      <td>47.613465</td>\n",
       "      <td>-122.203333</td>\n",
       "      <td>383.417722</td>\n",
       "    </tr>\n",
       "    <tr>\n",
       "      <th>98005</th>\n",
       "      <td>5.837109e+09</td>\n",
       "      <td>7.275780e+05</td>\n",
       "      <td>3.719008</td>\n",
       "      <td>2.256198</td>\n",
       "      <td>2347.685950</td>\n",
       "      <td>11170.479339</td>\n",
       "      <td>1.177686</td>\n",
       "      <td>3.801653</td>\n",
       "      <td>8.082645</td>\n",
       "      <td>1882.809917</td>\n",
       "      <td>1967.471074</td>\n",
       "      <td>47.602703</td>\n",
       "      <td>-122.169124</td>\n",
       "      <td>464.876033</td>\n",
       "    </tr>\n",
       "  </tbody>\n",
       "</table>\n",
       "</div>"
      ],
      "text/plain": [
       "                   id         price  bedrooms  bathrooms  sqft_living  \\\n",
       "zipcode                                                                 \n",
       "98001    4.691185e+09  2.732948e+05  3.459184   2.076531  1900.306122   \n",
       "98002    4.838877e+09  2.390717e+05  3.381215   1.878453  1667.077348   \n",
       "98003    4.756655e+09  2.901519e+05  3.351351   2.035714  1900.011583   \n",
       "98004    4.199169e+09  1.122314e+06  3.654008   2.331224  2522.827004   \n",
       "98005    5.837109e+09  7.275780e+05  3.719008   2.256198  2347.685950   \n",
       "\n",
       "             sqft_lot    floors  condition     grade   sqft_above  \\\n",
       "zipcode                                                             \n",
       "98001     9131.068027  1.459184   3.285714  7.316327  1733.367347   \n",
       "98002     7441.519337  1.353591   3.729282  6.806630  1563.618785   \n",
       "98003     9316.061776  1.312741   3.378378  7.521236  1641.675676   \n",
       "98004    10740.299578  1.413502   3.540084  8.299578  2139.409283   \n",
       "98005    11170.479339  1.177686   3.801653  8.082645  1882.809917   \n",
       "\n",
       "            yr_built        lat        long  basement_size  \n",
       "zipcode                                                     \n",
       "98001    1985.129252  47.311252 -122.270544     166.938776  \n",
       "98002    1970.436464  47.309501 -122.213597     103.458564  \n",
       "98003    1977.378378  47.315982 -122.310089     258.335907  \n",
       "98004    1969.400844  47.613465 -122.203333     383.417722  \n",
       "98005    1967.471074  47.602703 -122.169124     464.876033  "
      ]
     },
     "execution_count": 53,
     "metadata": {},
     "output_type": "execute_result"
    }
   ],
   "source": [
    "#create dataframe of mean houses prices by zipcode\n",
    "zip_mean_price = df_trim.groupby('zipcode').mean()\n",
    "zip_mean_price.head()"
   ]
  },
  {
   "cell_type": "markdown",
   "metadata": {},
   "source": [
    "remove the higher outlier zipcodes (where mean price is over $1m):"
   ]
  },
  {
   "cell_type": "code",
   "execution_count": 54,
   "metadata": {},
   "outputs": [],
   "source": [
    "zip_mean_price_olo = zip_mean_price[zip_mean_price['price']<1000000]"
   ]
  },
  {
   "cell_type": "markdown",
   "metadata": {},
   "source": [
    "create a list of mean prices of zipcodes, not including the outliers"
   ]
  },
  {
   "cell_type": "code",
   "execution_count": 55,
   "metadata": {},
   "outputs": [],
   "source": [
    "mean_prices_olo = list(zip_mean_price_olo['price'])"
   ]
  },
  {
   "cell_type": "markdown",
   "metadata": {},
   "source": [
    "create a look-up table that includes each zipcode only once:"
   ]
  },
  {
   "cell_type": "code",
   "execution_count": 56,
   "metadata": {},
   "outputs": [],
   "source": [
    "findzipcode = df_trim.groupby('zipcode').mean()[['price']]\n",
    "findzipcode.reset_index(inplace = True)"
   ]
  },
  {
   "cell_type": "code",
   "execution_count": 57,
   "metadata": {},
   "outputs": [],
   "source": [
    "#function that takes in a list of zipcodes and df, and returns the total number of homes in all zipcodes from list\n",
    "\n",
    "def count_of_homes(zips_in_bin, df):\n",
    "    #print(zips_in_bin.sort_values('price'))\n",
    "    count_of_homes = 0\n",
    "    for i in zips_in_bin.zipcode:\n",
    "        for zipcode in df.zipcode:\n",
    "            if i == zipcode:\n",
    "                count_of_homes += 1\n",
    "        output = count_of_homes\n",
    "    return output"
   ]
  },
  {
   "cell_type": "code",
   "execution_count": 58,
   "metadata": {},
   "outputs": [],
   "source": [
    "%%capture\n",
    "\n",
    "#function creates histogram with n number of zipcode bins\n",
    "\n",
    "def zipcodebins(list_of_mean_zip_prices, n):\n",
    "    fig = plt.figure(figsize = (15,7))\n",
    "    axes = plt.subplot(1,1,1)\n",
    "    axes.set_title('Distribution of zipcodes by mean house price')\n",
    "    axes.set_xlabel('Mean house price')\n",
    "    axes.set_ylabel('Count of zipcodes')\n",
    "    zipcode_count, bins, null2 = axes.hist(list_of_mean_zip_prices, bins=n)\n",
    "    bin_no = 1\n",
    "    total_no_zipcodes = 0\n",
    "    total_no_houses = 0\n",
    "    frames = []\n",
    "    for i in zipcode_count:\n",
    "        zips_in_bin = findzipcode[(findzipcode['price']>=bins[bin_no-1]) & (findzipcode['price']<=bins[bin_no])]\n",
    "        coh = count_of_homes(zips_in_bin, df_trim)\n",
    "        print('There are ' + str(int(i)) + ' Zipcodes in bin number ' + str(bin_no) + ' and ' + str(coh) + ' houses')                       \n",
    "        total_no_zipcodes += i\n",
    "        total_no_houses += coh\n",
    "        bin_no += 1\n",
    "        frames.append(zips_in_bin)\n",
    "    print('Total count of zipcodes: ' + str(total_no_zipcodes))\n",
    "    print('Total count of houses: ' + str(total_no_houses))\n",
    "    print('Count of houses excluded from df_trim dataset (outliers): ' + str(len(df_trim) - total_no_houses))\n",
    "    ziplists = pd.concat(frames)\n",
    "    return axes, bins, zipcode_count, ziplists.sort_values('price').reset_index(drop=True)"
   ]
  },
  {
   "cell_type": "code",
   "execution_count": 59,
   "metadata": {},
   "outputs": [
    {
     "name": "stdout",
     "output_type": "stream",
     "text": [
      "There are 34 Zipcodes in bin number 1 and 8478 houses\n",
      "There are 21 Zipcodes in bin number 2 and 6809 houses\n",
      "There are 10 Zipcodes in bin number 3 and 2317 houses\n",
      "Total count of zipcodes: 65.0\n",
      "Total count of houses: 17604\n",
      "Count of houses excluded from df_trim dataset (outliers): 495\n"
     ]
    },
    {
     "data": {
      "image/png": "[encoded data removed]",
      "text/plain": [
       "<Figure size 1080x504 with 1 Axes>"
      ]
     },
     "metadata": {
      "needs_background": "light"
     },
     "output_type": "display_data"
    }
   ],
   "source": [
    "#choose how many zipcode categories to create by selecting n number of bins for a histogram\n",
    "n = 3\n",
    "a, b, c, d = zipcodebins(mean_prices_olo, n)"
   ]
  },
  {
   "cell_type": "code",
   "execution_count": 60,
   "metadata": {},
   "outputs": [
    {
     "data": {
      "text/plain": [
       "[239072.0, 476254.0, 713437.0, 950620.0]"
      ]
     },
     "execution_count": 60,
     "metadata": {},
     "output_type": "execute_result"
    }
   ],
   "source": [
    "bin_dividors = []\n",
    "for i in b:\n",
    "    bin_dividors.append(round(i, 0))\n",
    "    \n",
    "bin_dividors"
   ]
  },
  {
   "cell_type": "code",
   "execution_count": 61,
   "metadata": {},
   "outputs": [],
   "source": [
    "#manually create n number of variables \n",
    "##(last number should be n -1)\n",
    "\n",
    "slice_a = int(c[0])\n",
    "slice_b = (int(c[0] + int(c[1])))\n",
    "slice_c = int(c[2])\n",
    "\n",
    "zip_category_a = d[:slice_a]\n",
    "zip_category_b = d[slice_a:slice_b]\n",
    "zip_category_c = d[slice_b:(slice_b + slice_c)]"
   ]
  },
  {
   "cell_type": "markdown",
   "metadata": {},
   "source": [
    "# Create a zipcode category column in df_trim:"
   ]
  },
  {
   "cell_type": "code",
   "execution_count": 62,
   "metadata": {},
   "outputs": [],
   "source": [
    "#A dictionary with zipcodes as the key values is required for each bin\n",
    "\n",
    "list_a = list(zip_category_a.zipcode)\n",
    "dict_a = dict(enumerate(list_a))\n",
    "res_a = dict((v,k) for k,v in dict_a.items())\n",
    "\n",
    "list_b = list(zip_category_b.zipcode)\n",
    "dict_b = dict(enumerate(list_b))\n",
    "res_b = dict((v,k) for k,v in dict_b.items())\n",
    "\n",
    "list_c = list(zip_category_c.zipcode)\n",
    "dict_c = dict(enumerate(list_c))\n",
    "res_c = dict((v,k) for k,v in dict_c.items())"
   ]
  },
  {
   "cell_type": "code",
   "execution_count": 63,
   "metadata": {},
   "outputs": [],
   "source": [
    "#A new list will be created that will be a column for zipcode bins.\n",
    "\n",
    "zipcode_bin_list = []\n",
    "\n",
    "for i in df_trim.zipcode:\n",
    "    if res_a.get(i)!=None:\n",
    "        zipcode_bin_list.append('A')\n",
    "    elif res_b.get(i)!=None:\n",
    "        zipcode_bin_list.append('B')\n",
    "    elif res_c.get(i)!=None:\n",
    "        zipcode_bin_list.append('C')\n",
    "    else:\n",
    "        #These zipcodes were the outliers removed when creating the zipcode bins\n",
    "        zipcode_bin_list.append('OL')\n",
    "\n",
    "zipcode_bin_col = {'zipcode_bins': zipcode_bin_list}\n",
    "\n",
    "zip_df = pd.DataFrame(zipcode_bin_col)"
   ]
  },
  {
   "cell_type": "code",
   "execution_count": 64,
   "metadata": {},
   "outputs": [
    {
     "data": {
      "text/plain": [
       "A     8478\n",
       "B     6809\n",
       "C     2317\n",
       "OL     495\n",
       "Name: zipcode_bins, dtype: int64"
      ]
     },
     "execution_count": 64,
     "metadata": {},
     "output_type": "execute_result"
    }
   ],
   "source": [
    "zip_df.zipcode_bins.value_counts()"
   ]
  },
  {
   "cell_type": "code",
   "execution_count": 65,
   "metadata": {},
   "outputs": [
    {
     "name": "stdout",
     "output_type": "stream",
     "text": [
      "This dataset contains 18099 entries and 1 columns\n"
     ]
    }
   ],
   "source": [
    "cod(zip_df)"
   ]
  },
  {
   "cell_type": "markdown",
   "metadata": {},
   "source": [
    "## Create dummy variables for zipcode_bins"
   ]
  },
  {
   "cell_type": "code",
   "execution_count": 66,
   "metadata": {},
   "outputs": [],
   "source": [
    "zipcode_dummies = pd.get_dummies(zip_df[\"zipcode_bins\"], prefix = 'zip_bin', drop_first = True)"
   ]
  },
  {
   "cell_type": "code",
   "execution_count": 67,
   "metadata": {},
   "outputs": [
    {
     "data": {
      "text/html": [
       "<div>\n",
       "<style scoped>\n",
       "    .dataframe tbody tr th:only-of-type {\n",
       "        vertical-align: middle;\n",
       "    }\n",
       "\n",
       "    .dataframe tbody tr th {\n",
       "        vertical-align: top;\n",
       "    }\n",
       "\n",
       "    .dataframe thead th {\n",
       "        text-align: right;\n",
       "    }\n",
       "</style>\n",
       "<table border=\"1\" class=\"dataframe\">\n",
       "  <thead>\n",
       "    <tr style=\"text-align: right;\">\n",
       "      <th></th>\n",
       "      <th>zip_bin_B</th>\n",
       "      <th>zip_bin_C</th>\n",
       "      <th>zip_bin_OL</th>\n",
       "    </tr>\n",
       "  </thead>\n",
       "  <tbody>\n",
       "    <tr>\n",
       "      <th>0</th>\n",
       "      <td>0</td>\n",
       "      <td>0</td>\n",
       "      <td>0</td>\n",
       "    </tr>\n",
       "    <tr>\n",
       "      <th>1</th>\n",
       "      <td>0</td>\n",
       "      <td>0</td>\n",
       "      <td>0</td>\n",
       "    </tr>\n",
       "    <tr>\n",
       "      <th>2</th>\n",
       "      <td>0</td>\n",
       "      <td>0</td>\n",
       "      <td>0</td>\n",
       "    </tr>\n",
       "    <tr>\n",
       "      <th>3</th>\n",
       "      <td>1</td>\n",
       "      <td>0</td>\n",
       "      <td>0</td>\n",
       "    </tr>\n",
       "    <tr>\n",
       "      <th>4</th>\n",
       "      <td>1</td>\n",
       "      <td>0</td>\n",
       "      <td>0</td>\n",
       "    </tr>\n",
       "  </tbody>\n",
       "</table>\n",
       "</div>"
      ],
      "text/plain": [
       "   zip_bin_B  zip_bin_C  zip_bin_OL\n",
       "0          0          0           0\n",
       "1          0          0           0\n",
       "2          0          0           0\n",
       "3          1          0           0\n",
       "4          1          0           0"
      ]
     },
     "execution_count": 67,
     "metadata": {},
     "output_type": "execute_result"
    }
   ],
   "source": [
    "zipcode_dummies.head()"
   ]
  },
  {
   "cell_type": "markdown",
   "metadata": {},
   "source": [
    "# df_dumm is a new dataframe that will include dummy variables:"
   ]
  },
  {
   "cell_type": "code",
   "execution_count": 68,
   "metadata": {},
   "outputs": [],
   "source": [
    "df_dumm = pd.concat([df_trim, zip_df, zipcode_dummies], axis=1)"
   ]
  },
  {
   "cell_type": "code",
   "execution_count": 69,
   "metadata": {},
   "outputs": [
    {
     "data": {
      "text/html": [
       "<div>\n",
       "<style scoped>\n",
       "    .dataframe tbody tr th:only-of-type {\n",
       "        vertical-align: middle;\n",
       "    }\n",
       "\n",
       "    .dataframe tbody tr th {\n",
       "        vertical-align: top;\n",
       "    }\n",
       "\n",
       "    .dataframe thead th {\n",
       "        text-align: right;\n",
       "    }\n",
       "</style>\n",
       "<table border=\"1\" class=\"dataframe\">\n",
       "  <thead>\n",
       "    <tr style=\"text-align: right;\">\n",
       "      <th></th>\n",
       "      <th>id</th>\n",
       "      <th>date</th>\n",
       "      <th>price</th>\n",
       "      <th>bedrooms</th>\n",
       "      <th>bathrooms</th>\n",
       "      <th>sqft_living</th>\n",
       "      <th>sqft_lot</th>\n",
       "      <th>floors</th>\n",
       "      <th>condition</th>\n",
       "      <th>grade</th>\n",
       "      <th>sqft_above</th>\n",
       "      <th>yr_built</th>\n",
       "      <th>zipcode</th>\n",
       "      <th>lat</th>\n",
       "      <th>long</th>\n",
       "      <th>basement_size</th>\n",
       "      <th>zipcode_bins</th>\n",
       "      <th>zip_bin_B</th>\n",
       "      <th>zip_bin_C</th>\n",
       "      <th>zip_bin_OL</th>\n",
       "    </tr>\n",
       "  </thead>\n",
       "  <tbody>\n",
       "    <tr>\n",
       "      <th>0</th>\n",
       "      <td>7129300520</td>\n",
       "      <td>10/13/2014</td>\n",
       "      <td>221900.0</td>\n",
       "      <td>3</td>\n",
       "      <td>1.00</td>\n",
       "      <td>1180</td>\n",
       "      <td>5650</td>\n",
       "      <td>1.0</td>\n",
       "      <td>3</td>\n",
       "      <td>7</td>\n",
       "      <td>1180</td>\n",
       "      <td>1955</td>\n",
       "      <td>98178</td>\n",
       "      <td>47.5112</td>\n",
       "      <td>-122.257</td>\n",
       "      <td>0</td>\n",
       "      <td>A</td>\n",
       "      <td>0</td>\n",
       "      <td>0</td>\n",
       "      <td>0</td>\n",
       "    </tr>\n",
       "    <tr>\n",
       "      <th>1</th>\n",
       "      <td>6414100192</td>\n",
       "      <td>12/9/2014</td>\n",
       "      <td>538000.0</td>\n",
       "      <td>3</td>\n",
       "      <td>2.25</td>\n",
       "      <td>2570</td>\n",
       "      <td>7242</td>\n",
       "      <td>2.0</td>\n",
       "      <td>3</td>\n",
       "      <td>7</td>\n",
       "      <td>2170</td>\n",
       "      <td>1951</td>\n",
       "      <td>98125</td>\n",
       "      <td>47.7210</td>\n",
       "      <td>-122.319</td>\n",
       "      <td>400</td>\n",
       "      <td>A</td>\n",
       "      <td>0</td>\n",
       "      <td>0</td>\n",
       "      <td>0</td>\n",
       "    </tr>\n",
       "    <tr>\n",
       "      <th>2</th>\n",
       "      <td>5631500400</td>\n",
       "      <td>2/25/2015</td>\n",
       "      <td>180000.0</td>\n",
       "      <td>2</td>\n",
       "      <td>1.00</td>\n",
       "      <td>770</td>\n",
       "      <td>10000</td>\n",
       "      <td>1.0</td>\n",
       "      <td>3</td>\n",
       "      <td>6</td>\n",
       "      <td>770</td>\n",
       "      <td>1933</td>\n",
       "      <td>98028</td>\n",
       "      <td>47.7379</td>\n",
       "      <td>-122.233</td>\n",
       "      <td>0</td>\n",
       "      <td>A</td>\n",
       "      <td>0</td>\n",
       "      <td>0</td>\n",
       "      <td>0</td>\n",
       "    </tr>\n",
       "    <tr>\n",
       "      <th>3</th>\n",
       "      <td>2487200875</td>\n",
       "      <td>12/9/2014</td>\n",
       "      <td>604000.0</td>\n",
       "      <td>4</td>\n",
       "      <td>3.00</td>\n",
       "      <td>1960</td>\n",
       "      <td>5000</td>\n",
       "      <td>1.0</td>\n",
       "      <td>5</td>\n",
       "      <td>7</td>\n",
       "      <td>1050</td>\n",
       "      <td>1965</td>\n",
       "      <td>98136</td>\n",
       "      <td>47.5208</td>\n",
       "      <td>-122.393</td>\n",
       "      <td>910</td>\n",
       "      <td>B</td>\n",
       "      <td>1</td>\n",
       "      <td>0</td>\n",
       "      <td>0</td>\n",
       "    </tr>\n",
       "    <tr>\n",
       "      <th>4</th>\n",
       "      <td>1954400510</td>\n",
       "      <td>2/18/2015</td>\n",
       "      <td>510000.0</td>\n",
       "      <td>3</td>\n",
       "      <td>2.00</td>\n",
       "      <td>1680</td>\n",
       "      <td>8080</td>\n",
       "      <td>1.0</td>\n",
       "      <td>3</td>\n",
       "      <td>8</td>\n",
       "      <td>1680</td>\n",
       "      <td>1987</td>\n",
       "      <td>98074</td>\n",
       "      <td>47.6168</td>\n",
       "      <td>-122.045</td>\n",
       "      <td>0</td>\n",
       "      <td>B</td>\n",
       "      <td>1</td>\n",
       "      <td>0</td>\n",
       "      <td>0</td>\n",
       "    </tr>\n",
       "  </tbody>\n",
       "</table>\n",
       "</div>"
      ],
      "text/plain": [
       "           id        date     price  bedrooms  bathrooms  sqft_living  \\\n",
       "0  7129300520  10/13/2014  221900.0         3       1.00         1180   \n",
       "1  6414100192   12/9/2014  538000.0         3       2.25         2570   \n",
       "2  5631500400   2/25/2015  180000.0         2       1.00          770   \n",
       "3  2487200875   12/9/2014  604000.0         4       3.00         1960   \n",
       "4  1954400510   2/18/2015  510000.0         3       2.00         1680   \n",
       "\n",
       "   sqft_lot  floors  condition  grade  sqft_above  yr_built  zipcode      lat  \\\n",
       "0      5650     1.0          3      7        1180      1955    98178  47.5112   \n",
       "1      7242     2.0          3      7        2170      1951    98125  47.7210   \n",
       "2     10000     1.0          3      6         770      1933    98028  47.7379   \n",
       "3      5000     1.0          5      7        1050      1965    98136  47.5208   \n",
       "4      8080     1.0          3      8        1680      1987    98074  47.6168   \n",
       "\n",
       "      long  basement_size zipcode_bins  zip_bin_B  zip_bin_C  zip_bin_OL  \n",
       "0 -122.257              0            A          0          0           0  \n",
       "1 -122.319            400            A          0          0           0  \n",
       "2 -122.233              0            A          0          0           0  \n",
       "3 -122.393            910            B          1          0           0  \n",
       "4 -122.045              0            B          1          0           0  "
      ]
     },
     "execution_count": 69,
     "metadata": {},
     "output_type": "execute_result"
    }
   ],
   "source": [
    "df_dumm.head()"
   ]
  },
  {
   "cell_type": "code",
   "execution_count": 70,
   "metadata": {},
   "outputs": [],
   "source": [
    "#df_dumm = pd.concat([df_trim, zipcode_dummies], axis=1)"
   ]
  },
  {
   "cell_type": "code",
   "execution_count": 71,
   "metadata": {},
   "outputs": [
    {
     "name": "stdout",
     "output_type": "stream",
     "text": [
      "This dataset contains 18099 entries and 20 columns\n"
     ]
    }
   ],
   "source": [
    "cod(df_dumm)"
   ]
  },
  {
   "cell_type": "code",
   "execution_count": 72,
   "metadata": {},
   "outputs": [
    {
     "data": {
      "text/html": [
       "<div>\n",
       "<style scoped>\n",
       "    .dataframe tbody tr th:only-of-type {\n",
       "        vertical-align: middle;\n",
       "    }\n",
       "\n",
       "    .dataframe tbody tr th {\n",
       "        vertical-align: top;\n",
       "    }\n",
       "\n",
       "    .dataframe thead th {\n",
       "        text-align: right;\n",
       "    }\n",
       "</style>\n",
       "<table border=\"1\" class=\"dataframe\">\n",
       "  <thead>\n",
       "    <tr style=\"text-align: right;\">\n",
       "      <th></th>\n",
       "      <th>id</th>\n",
       "      <th>date</th>\n",
       "      <th>price</th>\n",
       "      <th>bedrooms</th>\n",
       "      <th>bathrooms</th>\n",
       "      <th>sqft_living</th>\n",
       "      <th>sqft_lot</th>\n",
       "      <th>floors</th>\n",
       "      <th>condition</th>\n",
       "      <th>grade</th>\n",
       "      <th>sqft_above</th>\n",
       "      <th>yr_built</th>\n",
       "      <th>zipcode</th>\n",
       "      <th>lat</th>\n",
       "      <th>long</th>\n",
       "      <th>basement_size</th>\n",
       "      <th>zipcode_bins</th>\n",
       "      <th>zip_bin_B</th>\n",
       "      <th>zip_bin_C</th>\n",
       "      <th>zip_bin_OL</th>\n",
       "    </tr>\n",
       "  </thead>\n",
       "  <tbody>\n",
       "    <tr>\n",
       "      <th>0</th>\n",
       "      <td>7129300520</td>\n",
       "      <td>10/13/2014</td>\n",
       "      <td>221900.0</td>\n",
       "      <td>3</td>\n",
       "      <td>1.00</td>\n",
       "      <td>1180</td>\n",
       "      <td>5650</td>\n",
       "      <td>1.0</td>\n",
       "      <td>3</td>\n",
       "      <td>7</td>\n",
       "      <td>1180</td>\n",
       "      <td>1955</td>\n",
       "      <td>98178</td>\n",
       "      <td>47.5112</td>\n",
       "      <td>-122.257</td>\n",
       "      <td>0</td>\n",
       "      <td>A</td>\n",
       "      <td>0</td>\n",
       "      <td>0</td>\n",
       "      <td>0</td>\n",
       "    </tr>\n",
       "    <tr>\n",
       "      <th>1</th>\n",
       "      <td>6414100192</td>\n",
       "      <td>12/9/2014</td>\n",
       "      <td>538000.0</td>\n",
       "      <td>3</td>\n",
       "      <td>2.25</td>\n",
       "      <td>2570</td>\n",
       "      <td>7242</td>\n",
       "      <td>2.0</td>\n",
       "      <td>3</td>\n",
       "      <td>7</td>\n",
       "      <td>2170</td>\n",
       "      <td>1951</td>\n",
       "      <td>98125</td>\n",
       "      <td>47.7210</td>\n",
       "      <td>-122.319</td>\n",
       "      <td>400</td>\n",
       "      <td>A</td>\n",
       "      <td>0</td>\n",
       "      <td>0</td>\n",
       "      <td>0</td>\n",
       "    </tr>\n",
       "    <tr>\n",
       "      <th>2</th>\n",
       "      <td>5631500400</td>\n",
       "      <td>2/25/2015</td>\n",
       "      <td>180000.0</td>\n",
       "      <td>2</td>\n",
       "      <td>1.00</td>\n",
       "      <td>770</td>\n",
       "      <td>10000</td>\n",
       "      <td>1.0</td>\n",
       "      <td>3</td>\n",
       "      <td>6</td>\n",
       "      <td>770</td>\n",
       "      <td>1933</td>\n",
       "      <td>98028</td>\n",
       "      <td>47.7379</td>\n",
       "      <td>-122.233</td>\n",
       "      <td>0</td>\n",
       "      <td>A</td>\n",
       "      <td>0</td>\n",
       "      <td>0</td>\n",
       "      <td>0</td>\n",
       "    </tr>\n",
       "    <tr>\n",
       "      <th>3</th>\n",
       "      <td>2487200875</td>\n",
       "      <td>12/9/2014</td>\n",
       "      <td>604000.0</td>\n",
       "      <td>4</td>\n",
       "      <td>3.00</td>\n",
       "      <td>1960</td>\n",
       "      <td>5000</td>\n",
       "      <td>1.0</td>\n",
       "      <td>5</td>\n",
       "      <td>7</td>\n",
       "      <td>1050</td>\n",
       "      <td>1965</td>\n",
       "      <td>98136</td>\n",
       "      <td>47.5208</td>\n",
       "      <td>-122.393</td>\n",
       "      <td>910</td>\n",
       "      <td>B</td>\n",
       "      <td>1</td>\n",
       "      <td>0</td>\n",
       "      <td>0</td>\n",
       "    </tr>\n",
       "    <tr>\n",
       "      <th>4</th>\n",
       "      <td>1954400510</td>\n",
       "      <td>2/18/2015</td>\n",
       "      <td>510000.0</td>\n",
       "      <td>3</td>\n",
       "      <td>2.00</td>\n",
       "      <td>1680</td>\n",
       "      <td>8080</td>\n",
       "      <td>1.0</td>\n",
       "      <td>3</td>\n",
       "      <td>8</td>\n",
       "      <td>1680</td>\n",
       "      <td>1987</td>\n",
       "      <td>98074</td>\n",
       "      <td>47.6168</td>\n",
       "      <td>-122.045</td>\n",
       "      <td>0</td>\n",
       "      <td>B</td>\n",
       "      <td>1</td>\n",
       "      <td>0</td>\n",
       "      <td>0</td>\n",
       "    </tr>\n",
       "  </tbody>\n",
       "</table>\n",
       "</div>"
      ],
      "text/plain": [
       "           id        date     price  bedrooms  bathrooms  sqft_living  \\\n",
       "0  7129300520  10/13/2014  221900.0         3       1.00         1180   \n",
       "1  6414100192   12/9/2014  538000.0         3       2.25         2570   \n",
       "2  5631500400   2/25/2015  180000.0         2       1.00          770   \n",
       "3  2487200875   12/9/2014  604000.0         4       3.00         1960   \n",
       "4  1954400510   2/18/2015  510000.0         3       2.00         1680   \n",
       "\n",
       "   sqft_lot  floors  condition  grade  sqft_above  yr_built  zipcode      lat  \\\n",
       "0      5650     1.0          3      7        1180      1955    98178  47.5112   \n",
       "1      7242     2.0          3      7        2170      1951    98125  47.7210   \n",
       "2     10000     1.0          3      6         770      1933    98028  47.7379   \n",
       "3      5000     1.0          5      7        1050      1965    98136  47.5208   \n",
       "4      8080     1.0          3      8        1680      1987    98074  47.6168   \n",
       "\n",
       "      long  basement_size zipcode_bins  zip_bin_B  zip_bin_C  zip_bin_OL  \n",
       "0 -122.257              0            A          0          0           0  \n",
       "1 -122.319            400            A          0          0           0  \n",
       "2 -122.233              0            A          0          0           0  \n",
       "3 -122.393            910            B          1          0           0  \n",
       "4 -122.045              0            B          1          0           0  "
      ]
     },
     "execution_count": 72,
     "metadata": {},
     "output_type": "execute_result"
    }
   ],
   "source": [
    "df_dumm.head()"
   ]
  },
  {
   "cell_type": "markdown",
   "metadata": {},
   "source": [
    "## Create Grade Bins"
   ]
  },
  {
   "cell_type": "code",
   "execution_count": 73,
   "metadata": {},
   "outputs": [],
   "source": [
    "df_dumm['grade_bins'] = np.where((df_dumm['grade'] == 6) | (df_dumm['grade'] == 7), 'A', df_dumm['grade'])"
   ]
  },
  {
   "cell_type": "code",
   "execution_count": 74,
   "metadata": {},
   "outputs": [],
   "source": [
    "df_dumm['grade_bins'] = np.where((df_dumm['grade'] == 8) | (df_dumm['grade'] ==9), 'B', df_dumm['grade_bins'])"
   ]
  },
  {
   "cell_type": "code",
   "execution_count": 75,
   "metadata": {},
   "outputs": [],
   "source": [
    "df_dumm['grade_bins'] = np.where((df_dumm['grade'] == 10) | (df_dumm['grade'] ==11), 'C', df_dumm['grade_bins'])"
   ]
  },
  {
   "cell_type": "code",
   "execution_count": 76,
   "metadata": {},
   "outputs": [],
   "source": [
    "grade_dummies = pd.get_dummies(df_dumm[\"grade_bins\"], prefix = 'grade_bin', drop_first = True)"
   ]
  },
  {
   "cell_type": "code",
   "execution_count": 77,
   "metadata": {},
   "outputs": [],
   "source": [
    "df_dumm = pd.concat([df_dumm, grade_dummies], axis=1)"
   ]
  },
  {
   "cell_type": "code",
   "execution_count": 78,
   "metadata": {},
   "outputs": [],
   "source": [
    "#df_dumm.drop('grade_bins', axis=1, inplace=True)"
   ]
  },
  {
   "cell_type": "code",
   "execution_count": 79,
   "metadata": {},
   "outputs": [
    {
     "data": {
      "text/html": [
       "<div>\n",
       "<style scoped>\n",
       "    .dataframe tbody tr th:only-of-type {\n",
       "        vertical-align: middle;\n",
       "    }\n",
       "\n",
       "    .dataframe tbody tr th {\n",
       "        vertical-align: top;\n",
       "    }\n",
       "\n",
       "    .dataframe thead th {\n",
       "        text-align: right;\n",
       "    }\n",
       "</style>\n",
       "<table border=\"1\" class=\"dataframe\">\n",
       "  <thead>\n",
       "    <tr style=\"text-align: right;\">\n",
       "      <th></th>\n",
       "      <th>id</th>\n",
       "      <th>date</th>\n",
       "      <th>price</th>\n",
       "      <th>bedrooms</th>\n",
       "      <th>bathrooms</th>\n",
       "      <th>sqft_living</th>\n",
       "      <th>sqft_lot</th>\n",
       "      <th>floors</th>\n",
       "      <th>condition</th>\n",
       "      <th>grade</th>\n",
       "      <th>...</th>\n",
       "      <th>lat</th>\n",
       "      <th>long</th>\n",
       "      <th>basement_size</th>\n",
       "      <th>zipcode_bins</th>\n",
       "      <th>zip_bin_B</th>\n",
       "      <th>zip_bin_C</th>\n",
       "      <th>zip_bin_OL</th>\n",
       "      <th>grade_bins</th>\n",
       "      <th>grade_bin_B</th>\n",
       "      <th>grade_bin_C</th>\n",
       "    </tr>\n",
       "  </thead>\n",
       "  <tbody>\n",
       "    <tr>\n",
       "      <th>0</th>\n",
       "      <td>7129300520</td>\n",
       "      <td>10/13/2014</td>\n",
       "      <td>221900.0</td>\n",
       "      <td>3</td>\n",
       "      <td>1.00</td>\n",
       "      <td>1180</td>\n",
       "      <td>5650</td>\n",
       "      <td>1.0</td>\n",
       "      <td>3</td>\n",
       "      <td>7</td>\n",
       "      <td>...</td>\n",
       "      <td>47.5112</td>\n",
       "      <td>-122.257</td>\n",
       "      <td>0</td>\n",
       "      <td>A</td>\n",
       "      <td>0</td>\n",
       "      <td>0</td>\n",
       "      <td>0</td>\n",
       "      <td>A</td>\n",
       "      <td>0</td>\n",
       "      <td>0</td>\n",
       "    </tr>\n",
       "    <tr>\n",
       "      <th>1</th>\n",
       "      <td>6414100192</td>\n",
       "      <td>12/9/2014</td>\n",
       "      <td>538000.0</td>\n",
       "      <td>3</td>\n",
       "      <td>2.25</td>\n",
       "      <td>2570</td>\n",
       "      <td>7242</td>\n",
       "      <td>2.0</td>\n",
       "      <td>3</td>\n",
       "      <td>7</td>\n",
       "      <td>...</td>\n",
       "      <td>47.7210</td>\n",
       "      <td>-122.319</td>\n",
       "      <td>400</td>\n",
       "      <td>A</td>\n",
       "      <td>0</td>\n",
       "      <td>0</td>\n",
       "      <td>0</td>\n",
       "      <td>A</td>\n",
       "      <td>0</td>\n",
       "      <td>0</td>\n",
       "    </tr>\n",
       "    <tr>\n",
       "      <th>2</th>\n",
       "      <td>5631500400</td>\n",
       "      <td>2/25/2015</td>\n",
       "      <td>180000.0</td>\n",
       "      <td>2</td>\n",
       "      <td>1.00</td>\n",
       "      <td>770</td>\n",
       "      <td>10000</td>\n",
       "      <td>1.0</td>\n",
       "      <td>3</td>\n",
       "      <td>6</td>\n",
       "      <td>...</td>\n",
       "      <td>47.7379</td>\n",
       "      <td>-122.233</td>\n",
       "      <td>0</td>\n",
       "      <td>A</td>\n",
       "      <td>0</td>\n",
       "      <td>0</td>\n",
       "      <td>0</td>\n",
       "      <td>A</td>\n",
       "      <td>0</td>\n",
       "      <td>0</td>\n",
       "    </tr>\n",
       "    <tr>\n",
       "      <th>3</th>\n",
       "      <td>2487200875</td>\n",
       "      <td>12/9/2014</td>\n",
       "      <td>604000.0</td>\n",
       "      <td>4</td>\n",
       "      <td>3.00</td>\n",
       "      <td>1960</td>\n",
       "      <td>5000</td>\n",
       "      <td>1.0</td>\n",
       "      <td>5</td>\n",
       "      <td>7</td>\n",
       "      <td>...</td>\n",
       "      <td>47.5208</td>\n",
       "      <td>-122.393</td>\n",
       "      <td>910</td>\n",
       "      <td>B</td>\n",
       "      <td>1</td>\n",
       "      <td>0</td>\n",
       "      <td>0</td>\n",
       "      <td>A</td>\n",
       "      <td>0</td>\n",
       "      <td>0</td>\n",
       "    </tr>\n",
       "    <tr>\n",
       "      <th>4</th>\n",
       "      <td>1954400510</td>\n",
       "      <td>2/18/2015</td>\n",
       "      <td>510000.0</td>\n",
       "      <td>3</td>\n",
       "      <td>2.00</td>\n",
       "      <td>1680</td>\n",
       "      <td>8080</td>\n",
       "      <td>1.0</td>\n",
       "      <td>3</td>\n",
       "      <td>8</td>\n",
       "      <td>...</td>\n",
       "      <td>47.6168</td>\n",
       "      <td>-122.045</td>\n",
       "      <td>0</td>\n",
       "      <td>B</td>\n",
       "      <td>1</td>\n",
       "      <td>0</td>\n",
       "      <td>0</td>\n",
       "      <td>B</td>\n",
       "      <td>1</td>\n",
       "      <td>0</td>\n",
       "    </tr>\n",
       "  </tbody>\n",
       "</table>\n",
       "<p>5 rows × 23 columns</p>\n",
       "</div>"
      ],
      "text/plain": [
       "           id        date     price  bedrooms  bathrooms  sqft_living  \\\n",
       "0  7129300520  10/13/2014  221900.0         3       1.00         1180   \n",
       "1  6414100192   12/9/2014  538000.0         3       2.25         2570   \n",
       "2  5631500400   2/25/2015  180000.0         2       1.00          770   \n",
       "3  2487200875   12/9/2014  604000.0         4       3.00         1960   \n",
       "4  1954400510   2/18/2015  510000.0         3       2.00         1680   \n",
       "\n",
       "   sqft_lot  floors  condition  grade     ...           lat     long  \\\n",
       "0      5650     1.0          3      7     ...       47.5112 -122.257   \n",
       "1      7242     2.0          3      7     ...       47.7210 -122.319   \n",
       "2     10000     1.0          3      6     ...       47.7379 -122.233   \n",
       "3      5000     1.0          5      7     ...       47.5208 -122.393   \n",
       "4      8080     1.0          3      8     ...       47.6168 -122.045   \n",
       "\n",
       "   basement_size  zipcode_bins  zip_bin_B  zip_bin_C zip_bin_OL  grade_bins  \\\n",
       "0              0             A          0          0          0           A   \n",
       "1            400             A          0          0          0           A   \n",
       "2              0             A          0          0          0           A   \n",
       "3            910             B          1          0          0           A   \n",
       "4              0             B          1          0          0           B   \n",
       "\n",
       "   grade_bin_B  grade_bin_C  \n",
       "0            0            0  \n",
       "1            0            0  \n",
       "2            0            0  \n",
       "3            0            0  \n",
       "4            1            0  \n",
       "\n",
       "[5 rows x 23 columns]"
      ]
     },
     "execution_count": 79,
     "metadata": {},
     "output_type": "execute_result"
    }
   ],
   "source": [
    "df_dumm.head()"
   ]
  },
  {
   "cell_type": "code",
   "execution_count": 80,
   "metadata": {},
   "outputs": [
    {
     "data": {
      "text/plain": [
       "A    9751\n",
       "B    7392\n",
       "C     956\n",
       "Name: grade_bins, dtype: int64"
      ]
     },
     "execution_count": 80,
     "metadata": {},
     "output_type": "execute_result"
    }
   ],
   "source": [
    "df_dumm.grade_bins.value_counts()"
   ]
  },
  {
   "cell_type": "markdown",
   "metadata": {},
   "source": [
    "## Create categorical variable for basement yes / no"
   ]
  },
  {
   "cell_type": "code",
   "execution_count": 81,
   "metadata": {},
   "outputs": [],
   "source": [
    "df_dumm['basement_status'] = np.where((df_dumm['basement_size'] == 0), 'no', 'yes')"
   ]
  },
  {
   "cell_type": "code",
   "execution_count": 82,
   "metadata": {},
   "outputs": [
    {
     "data": {
      "text/plain": [
       "no     10802\n",
       "yes     7297\n",
       "Name: basement_status, dtype: int64"
      ]
     },
     "execution_count": 82,
     "metadata": {},
     "output_type": "execute_result"
    }
   ],
   "source": [
    "df_dumm.basement_status.value_counts()"
   ]
  },
  {
   "cell_type": "code",
   "execution_count": 83,
   "metadata": {},
   "outputs": [
    {
     "data": {
      "image/png": "[encoded data removed]",
      "text/plain": [
       "<Figure size 432x288 with 1 Axes>"
      ]
     },
     "metadata": {
      "needs_background": "light"
     },
     "output_type": "display_data"
    }
   ],
   "source": [
    "ax = df_dumm.groupby(['basement_status']).mean()[['price']].plot(kind='bar');\n",
    "ax.set_ylabel('Mean House Price');"
   ]
  },
  {
   "cell_type": "code",
   "execution_count": 84,
   "metadata": {},
   "outputs": [],
   "source": [
    "bsmt_dummies = pd.get_dummies(df_dumm[\"basement_status\"], prefix = 'has_basement', drop_first = True)"
   ]
  },
  {
   "cell_type": "code",
   "execution_count": 85,
   "metadata": {},
   "outputs": [],
   "source": [
    "df_dumm = pd.concat([df_dumm, bsmt_dummies], axis=1)"
   ]
  },
  {
   "cell_type": "code",
   "execution_count": 86,
   "metadata": {},
   "outputs": [],
   "source": [
    "df_dumm.drop('basement_status', axis=1, inplace=True)"
   ]
  },
  {
   "cell_type": "code",
   "execution_count": 87,
   "metadata": {},
   "outputs": [
    {
     "name": "stdout",
     "output_type": "stream",
     "text": [
      "This dataset contains 18099 entries and 24 columns\n"
     ]
    },
    {
     "data": {
      "text/html": [
       "<div>\n",
       "<style scoped>\n",
       "    .dataframe tbody tr th:only-of-type {\n",
       "        vertical-align: middle;\n",
       "    }\n",
       "\n",
       "    .dataframe tbody tr th {\n",
       "        vertical-align: top;\n",
       "    }\n",
       "\n",
       "    .dataframe thead th {\n",
       "        text-align: right;\n",
       "    }\n",
       "</style>\n",
       "<table border=\"1\" class=\"dataframe\">\n",
       "  <thead>\n",
       "    <tr style=\"text-align: right;\">\n",
       "      <th></th>\n",
       "      <th>id</th>\n",
       "      <th>date</th>\n",
       "      <th>price</th>\n",
       "      <th>bedrooms</th>\n",
       "      <th>bathrooms</th>\n",
       "      <th>sqft_living</th>\n",
       "      <th>sqft_lot</th>\n",
       "      <th>floors</th>\n",
       "      <th>condition</th>\n",
       "      <th>grade</th>\n",
       "      <th>...</th>\n",
       "      <th>long</th>\n",
       "      <th>basement_size</th>\n",
       "      <th>zipcode_bins</th>\n",
       "      <th>zip_bin_B</th>\n",
       "      <th>zip_bin_C</th>\n",
       "      <th>zip_bin_OL</th>\n",
       "      <th>grade_bins</th>\n",
       "      <th>grade_bin_B</th>\n",
       "      <th>grade_bin_C</th>\n",
       "      <th>has_basement_yes</th>\n",
       "    </tr>\n",
       "  </thead>\n",
       "  <tbody>\n",
       "    <tr>\n",
       "      <th>18094</th>\n",
       "      <td>263000018</td>\n",
       "      <td>5/21/2014</td>\n",
       "      <td>360000.0</td>\n",
       "      <td>3</td>\n",
       "      <td>2.50</td>\n",
       "      <td>1530</td>\n",
       "      <td>1131</td>\n",
       "      <td>3.0</td>\n",
       "      <td>3</td>\n",
       "      <td>8</td>\n",
       "      <td>...</td>\n",
       "      <td>-122.346</td>\n",
       "      <td>0</td>\n",
       "      <td>B</td>\n",
       "      <td>1</td>\n",
       "      <td>0</td>\n",
       "      <td>0</td>\n",
       "      <td>B</td>\n",
       "      <td>1</td>\n",
       "      <td>0</td>\n",
       "      <td>0</td>\n",
       "    </tr>\n",
       "    <tr>\n",
       "      <th>18095</th>\n",
       "      <td>6600060120</td>\n",
       "      <td>2/23/2015</td>\n",
       "      <td>400000.0</td>\n",
       "      <td>4</td>\n",
       "      <td>2.50</td>\n",
       "      <td>2310</td>\n",
       "      <td>5813</td>\n",
       "      <td>2.0</td>\n",
       "      <td>3</td>\n",
       "      <td>8</td>\n",
       "      <td>...</td>\n",
       "      <td>-122.362</td>\n",
       "      <td>0</td>\n",
       "      <td>A</td>\n",
       "      <td>0</td>\n",
       "      <td>0</td>\n",
       "      <td>0</td>\n",
       "      <td>B</td>\n",
       "      <td>1</td>\n",
       "      <td>0</td>\n",
       "      <td>0</td>\n",
       "    </tr>\n",
       "    <tr>\n",
       "      <th>18096</th>\n",
       "      <td>1523300141</td>\n",
       "      <td>6/23/2014</td>\n",
       "      <td>402101.0</td>\n",
       "      <td>2</td>\n",
       "      <td>0.75</td>\n",
       "      <td>1020</td>\n",
       "      <td>1350</td>\n",
       "      <td>2.0</td>\n",
       "      <td>3</td>\n",
       "      <td>7</td>\n",
       "      <td>...</td>\n",
       "      <td>-122.299</td>\n",
       "      <td>0</td>\n",
       "      <td>B</td>\n",
       "      <td>1</td>\n",
       "      <td>0</td>\n",
       "      <td>0</td>\n",
       "      <td>A</td>\n",
       "      <td>0</td>\n",
       "      <td>0</td>\n",
       "      <td>0</td>\n",
       "    </tr>\n",
       "    <tr>\n",
       "      <th>18097</th>\n",
       "      <td>291310100</td>\n",
       "      <td>1/16/2015</td>\n",
       "      <td>400000.0</td>\n",
       "      <td>3</td>\n",
       "      <td>2.50</td>\n",
       "      <td>1600</td>\n",
       "      <td>2388</td>\n",
       "      <td>2.0</td>\n",
       "      <td>3</td>\n",
       "      <td>8</td>\n",
       "      <td>...</td>\n",
       "      <td>-122.069</td>\n",
       "      <td>0</td>\n",
       "      <td>B</td>\n",
       "      <td>1</td>\n",
       "      <td>0</td>\n",
       "      <td>0</td>\n",
       "      <td>B</td>\n",
       "      <td>1</td>\n",
       "      <td>0</td>\n",
       "      <td>0</td>\n",
       "    </tr>\n",
       "    <tr>\n",
       "      <th>18098</th>\n",
       "      <td>1523300157</td>\n",
       "      <td>10/15/2014</td>\n",
       "      <td>325000.0</td>\n",
       "      <td>2</td>\n",
       "      <td>0.75</td>\n",
       "      <td>1020</td>\n",
       "      <td>1076</td>\n",
       "      <td>2.0</td>\n",
       "      <td>3</td>\n",
       "      <td>7</td>\n",
       "      <td>...</td>\n",
       "      <td>-122.299</td>\n",
       "      <td>0</td>\n",
       "      <td>B</td>\n",
       "      <td>1</td>\n",
       "      <td>0</td>\n",
       "      <td>0</td>\n",
       "      <td>A</td>\n",
       "      <td>0</td>\n",
       "      <td>0</td>\n",
       "      <td>0</td>\n",
       "    </tr>\n",
       "  </tbody>\n",
       "</table>\n",
       "<p>5 rows × 24 columns</p>\n",
       "</div>"
      ],
      "text/plain": [
       "               id        date     price  bedrooms  bathrooms  sqft_living  \\\n",
       "18094   263000018   5/21/2014  360000.0         3       2.50         1530   \n",
       "18095  6600060120   2/23/2015  400000.0         4       2.50         2310   \n",
       "18096  1523300141   6/23/2014  402101.0         2       0.75         1020   \n",
       "18097   291310100   1/16/2015  400000.0         3       2.50         1600   \n",
       "18098  1523300157  10/15/2014  325000.0         2       0.75         1020   \n",
       "\n",
       "       sqft_lot  floors  condition  grade        ...            long  \\\n",
       "18094      1131     3.0          3      8        ...        -122.346   \n",
       "18095      5813     2.0          3      8        ...        -122.362   \n",
       "18096      1350     2.0          3      7        ...        -122.299   \n",
       "18097      2388     2.0          3      8        ...        -122.069   \n",
       "18098      1076     2.0          3      7        ...        -122.299   \n",
       "\n",
       "       basement_size  zipcode_bins  zip_bin_B  zip_bin_C  zip_bin_OL  \\\n",
       "18094              0             B          1          0           0   \n",
       "18095              0             A          0          0           0   \n",
       "18096              0             B          1          0           0   \n",
       "18097              0             B          1          0           0   \n",
       "18098              0             B          1          0           0   \n",
       "\n",
       "      grade_bins  grade_bin_B  grade_bin_C  has_basement_yes  \n",
       "18094          B            1            0                 0  \n",
       "18095          B            1            0                 0  \n",
       "18096          A            0            0                 0  \n",
       "18097          B            1            0                 0  \n",
       "18098          A            0            0                 0  \n",
       "\n",
       "[5 rows x 24 columns]"
      ]
     },
     "execution_count": 87,
     "metadata": {},
     "output_type": "execute_result"
    }
   ],
   "source": [
    "cod(df_dumm)\n",
    "df_dumm.tail()"
   ]
  },
  {
   "cell_type": "markdown",
   "metadata": {},
   "source": [
    "# Create dummy variables for floors:"
   ]
  },
  {
   "cell_type": "code",
   "execution_count": 88,
   "metadata": {},
   "outputs": [
    {
     "data": {
      "image/png": "[encoded data removed]",
      "text/plain": [
       "<Figure size 432x288 with 1 Axes>"
      ]
     },
     "metadata": {
      "needs_background": "light"
     },
     "output_type": "display_data"
    }
   ],
   "source": [
    "df_dumm.groupby(['floors']).mean()[['price']].plot(kind='bar');"
   ]
  },
  {
   "cell_type": "code",
   "execution_count": 89,
   "metadata": {},
   "outputs": [],
   "source": [
    "#df_dumm['floors'] = df_dumm['floors'].astype('category')"
   ]
  },
  {
   "cell_type": "code",
   "execution_count": 90,
   "metadata": {},
   "outputs": [],
   "source": [
    "floors_dummies = pd.get_dummies(df_dumm[\"floors\"], prefix = 'floors', drop_first = True)"
   ]
  },
  {
   "cell_type": "code",
   "execution_count": 91,
   "metadata": {},
   "outputs": [],
   "source": [
    "df_dumm = pd.concat([df_dumm, floors_dummies], axis=1)"
   ]
  },
  {
   "cell_type": "code",
   "execution_count": 92,
   "metadata": {},
   "outputs": [],
   "source": [
    "#the float values in the floors dummies column names can be problematic\n",
    "df_dumm.rename(inplace=True, columns={\n",
    "                                \"floors_1.5\": \"floors1_5\",\n",
    "                                \"floors_2.0\": \"floors2\",\n",
    "                                \"floors_2.5\": \"floors2_5\",\n",
    "                                \"floors_3.0\": \"floors3\",\n",
    "                                \"floors_3.5\": \"floors3_5\"\n",
    "                               })"
   ]
  },
  {
   "cell_type": "code",
   "execution_count": 93,
   "metadata": {},
   "outputs": [],
   "source": [
    "#df_dumm.drop('floors', axis= 1, inplace=True)"
   ]
  },
  {
   "cell_type": "code",
   "execution_count": 94,
   "metadata": {},
   "outputs": [
    {
     "data": {
      "text/html": [
       "<div>\n",
       "<style scoped>\n",
       "    .dataframe tbody tr th:only-of-type {\n",
       "        vertical-align: middle;\n",
       "    }\n",
       "\n",
       "    .dataframe tbody tr th {\n",
       "        vertical-align: top;\n",
       "    }\n",
       "\n",
       "    .dataframe thead th {\n",
       "        text-align: right;\n",
       "    }\n",
       "</style>\n",
       "<table border=\"1\" class=\"dataframe\">\n",
       "  <thead>\n",
       "    <tr style=\"text-align: right;\">\n",
       "      <th></th>\n",
       "      <th>id</th>\n",
       "      <th>date</th>\n",
       "      <th>price</th>\n",
       "      <th>bedrooms</th>\n",
       "      <th>bathrooms</th>\n",
       "      <th>sqft_living</th>\n",
       "      <th>sqft_lot</th>\n",
       "      <th>floors</th>\n",
       "      <th>condition</th>\n",
       "      <th>grade</th>\n",
       "      <th>...</th>\n",
       "      <th>zip_bin_OL</th>\n",
       "      <th>grade_bins</th>\n",
       "      <th>grade_bin_B</th>\n",
       "      <th>grade_bin_C</th>\n",
       "      <th>has_basement_yes</th>\n",
       "      <th>floors1_5</th>\n",
       "      <th>floors2</th>\n",
       "      <th>floors2_5</th>\n",
       "      <th>floors3</th>\n",
       "      <th>floors3_5</th>\n",
       "    </tr>\n",
       "  </thead>\n",
       "  <tbody>\n",
       "    <tr>\n",
       "      <th>0</th>\n",
       "      <td>7129300520</td>\n",
       "      <td>10/13/2014</td>\n",
       "      <td>221900.0</td>\n",
       "      <td>3</td>\n",
       "      <td>1.00</td>\n",
       "      <td>1180</td>\n",
       "      <td>5650</td>\n",
       "      <td>1.0</td>\n",
       "      <td>3</td>\n",
       "      <td>7</td>\n",
       "      <td>...</td>\n",
       "      <td>0</td>\n",
       "      <td>A</td>\n",
       "      <td>0</td>\n",
       "      <td>0</td>\n",
       "      <td>0</td>\n",
       "      <td>0</td>\n",
       "      <td>0</td>\n",
       "      <td>0</td>\n",
       "      <td>0</td>\n",
       "      <td>0</td>\n",
       "    </tr>\n",
       "    <tr>\n",
       "      <th>1</th>\n",
       "      <td>6414100192</td>\n",
       "      <td>12/9/2014</td>\n",
       "      <td>538000.0</td>\n",
       "      <td>3</td>\n",
       "      <td>2.25</td>\n",
       "      <td>2570</td>\n",
       "      <td>7242</td>\n",
       "      <td>2.0</td>\n",
       "      <td>3</td>\n",
       "      <td>7</td>\n",
       "      <td>...</td>\n",
       "      <td>0</td>\n",
       "      <td>A</td>\n",
       "      <td>0</td>\n",
       "      <td>0</td>\n",
       "      <td>1</td>\n",
       "      <td>0</td>\n",
       "      <td>1</td>\n",
       "      <td>0</td>\n",
       "      <td>0</td>\n",
       "      <td>0</td>\n",
       "    </tr>\n",
       "    <tr>\n",
       "      <th>2</th>\n",
       "      <td>5631500400</td>\n",
       "      <td>2/25/2015</td>\n",
       "      <td>180000.0</td>\n",
       "      <td>2</td>\n",
       "      <td>1.00</td>\n",
       "      <td>770</td>\n",
       "      <td>10000</td>\n",
       "      <td>1.0</td>\n",
       "      <td>3</td>\n",
       "      <td>6</td>\n",
       "      <td>...</td>\n",
       "      <td>0</td>\n",
       "      <td>A</td>\n",
       "      <td>0</td>\n",
       "      <td>0</td>\n",
       "      <td>0</td>\n",
       "      <td>0</td>\n",
       "      <td>0</td>\n",
       "      <td>0</td>\n",
       "      <td>0</td>\n",
       "      <td>0</td>\n",
       "    </tr>\n",
       "    <tr>\n",
       "      <th>3</th>\n",
       "      <td>2487200875</td>\n",
       "      <td>12/9/2014</td>\n",
       "      <td>604000.0</td>\n",
       "      <td>4</td>\n",
       "      <td>3.00</td>\n",
       "      <td>1960</td>\n",
       "      <td>5000</td>\n",
       "      <td>1.0</td>\n",
       "      <td>5</td>\n",
       "      <td>7</td>\n",
       "      <td>...</td>\n",
       "      <td>0</td>\n",
       "      <td>A</td>\n",
       "      <td>0</td>\n",
       "      <td>0</td>\n",
       "      <td>1</td>\n",
       "      <td>0</td>\n",
       "      <td>0</td>\n",
       "      <td>0</td>\n",
       "      <td>0</td>\n",
       "      <td>0</td>\n",
       "    </tr>\n",
       "    <tr>\n",
       "      <th>4</th>\n",
       "      <td>1954400510</td>\n",
       "      <td>2/18/2015</td>\n",
       "      <td>510000.0</td>\n",
       "      <td>3</td>\n",
       "      <td>2.00</td>\n",
       "      <td>1680</td>\n",
       "      <td>8080</td>\n",
       "      <td>1.0</td>\n",
       "      <td>3</td>\n",
       "      <td>8</td>\n",
       "      <td>...</td>\n",
       "      <td>0</td>\n",
       "      <td>B</td>\n",
       "      <td>1</td>\n",
       "      <td>0</td>\n",
       "      <td>0</td>\n",
       "      <td>0</td>\n",
       "      <td>0</td>\n",
       "      <td>0</td>\n",
       "      <td>0</td>\n",
       "      <td>0</td>\n",
       "    </tr>\n",
       "  </tbody>\n",
       "</table>\n",
       "<p>5 rows × 29 columns</p>\n",
       "</div>"
      ],
      "text/plain": [
       "           id        date     price  bedrooms  bathrooms  sqft_living  \\\n",
       "0  7129300520  10/13/2014  221900.0         3       1.00         1180   \n",
       "1  6414100192   12/9/2014  538000.0         3       2.25         2570   \n",
       "2  5631500400   2/25/2015  180000.0         2       1.00          770   \n",
       "3  2487200875   12/9/2014  604000.0         4       3.00         1960   \n",
       "4  1954400510   2/18/2015  510000.0         3       2.00         1680   \n",
       "\n",
       "   sqft_lot  floors  condition  grade    ...      zip_bin_OL  grade_bins  \\\n",
       "0      5650     1.0          3      7    ...               0           A   \n",
       "1      7242     2.0          3      7    ...               0           A   \n",
       "2     10000     1.0          3      6    ...               0           A   \n",
       "3      5000     1.0          5      7    ...               0           A   \n",
       "4      8080     1.0          3      8    ...               0           B   \n",
       "\n",
       "   grade_bin_B  grade_bin_C  has_basement_yes  floors1_5 floors2  floors2_5  \\\n",
       "0            0            0                 0          0       0          0   \n",
       "1            0            0                 1          0       1          0   \n",
       "2            0            0                 0          0       0          0   \n",
       "3            0            0                 1          0       0          0   \n",
       "4            1            0                 0          0       0          0   \n",
       "\n",
       "   floors3  floors3_5  \n",
       "0        0          0  \n",
       "1        0          0  \n",
       "2        0          0  \n",
       "3        0          0  \n",
       "4        0          0  \n",
       "\n",
       "[5 rows x 29 columns]"
      ]
     },
     "execution_count": 94,
     "metadata": {},
     "output_type": "execute_result"
    }
   ],
   "source": [
    "df_dumm.head()"
   ]
  },
  {
   "cell_type": "code",
   "execution_count": 95,
   "metadata": {},
   "outputs": [
    {
     "data": {
      "text/plain": [
       "Index(['id', 'date', 'price', 'bedrooms', 'bathrooms', 'sqft_living',\n",
       "       'sqft_lot', 'floors', 'condition', 'grade', 'sqft_above', 'yr_built',\n",
       "       'zipcode', 'lat', 'long', 'basement_size', 'zipcode_bins', 'zip_bin_B',\n",
       "       'zip_bin_C', 'zip_bin_OL', 'grade_bins', 'grade_bin_B', 'grade_bin_C',\n",
       "       'has_basement_yes', 'floors1_5', 'floors2', 'floors2_5', 'floors3',\n",
       "       'floors3_5'],\n",
       "      dtype='object')"
      ]
     },
     "execution_count": 95,
     "metadata": {},
     "output_type": "execute_result"
    }
   ],
   "source": [
    "df_dumm.columns"
   ]
  },
  {
   "cell_type": "code",
   "execution_count": 96,
   "metadata": {},
   "outputs": [
    {
     "data": {
      "text/plain": [
       "7392"
      ]
     },
     "execution_count": 96,
     "metadata": {},
     "output_type": "execute_result"
    }
   ],
   "source": [
    "len(df_dumm[(df_dumm['grade_bin_C'] == 0) & (df_dumm['grade_bin_B'] == 1)])"
   ]
  },
  {
   "cell_type": "code",
   "execution_count": 97,
   "metadata": {},
   "outputs": [
    {
     "data": {
      "text/html": [
       "<div>\n",
       "<style scoped>\n",
       "    .dataframe tbody tr th:only-of-type {\n",
       "        vertical-align: middle;\n",
       "    }\n",
       "\n",
       "    .dataframe tbody tr th {\n",
       "        vertical-align: top;\n",
       "    }\n",
       "\n",
       "    .dataframe thead th {\n",
       "        text-align: right;\n",
       "    }\n",
       "</style>\n",
       "<table border=\"1\" class=\"dataframe\">\n",
       "  <thead>\n",
       "    <tr style=\"text-align: right;\">\n",
       "      <th></th>\n",
       "      <th>id</th>\n",
       "      <th>date</th>\n",
       "      <th>price</th>\n",
       "      <th>bedrooms</th>\n",
       "      <th>bathrooms</th>\n",
       "      <th>sqft_living</th>\n",
       "      <th>sqft_lot</th>\n",
       "      <th>floors</th>\n",
       "      <th>condition</th>\n",
       "      <th>grade</th>\n",
       "      <th>...</th>\n",
       "      <th>zip_bin_OL</th>\n",
       "      <th>grade_bins</th>\n",
       "      <th>grade_bin_B</th>\n",
       "      <th>grade_bin_C</th>\n",
       "      <th>has_basement_yes</th>\n",
       "      <th>floors1_5</th>\n",
       "      <th>floors2</th>\n",
       "      <th>floors2_5</th>\n",
       "      <th>floors3</th>\n",
       "      <th>floors3_5</th>\n",
       "    </tr>\n",
       "  </thead>\n",
       "  <tbody>\n",
       "    <tr>\n",
       "      <th>0</th>\n",
       "      <td>7129300520</td>\n",
       "      <td>10/13/2014</td>\n",
       "      <td>221900.0</td>\n",
       "      <td>3</td>\n",
       "      <td>1.00</td>\n",
       "      <td>1180</td>\n",
       "      <td>5650</td>\n",
       "      <td>1.0</td>\n",
       "      <td>3</td>\n",
       "      <td>7</td>\n",
       "      <td>...</td>\n",
       "      <td>0</td>\n",
       "      <td>A</td>\n",
       "      <td>0</td>\n",
       "      <td>0</td>\n",
       "      <td>0</td>\n",
       "      <td>0</td>\n",
       "      <td>0</td>\n",
       "      <td>0</td>\n",
       "      <td>0</td>\n",
       "      <td>0</td>\n",
       "    </tr>\n",
       "    <tr>\n",
       "      <th>1</th>\n",
       "      <td>6414100192</td>\n",
       "      <td>12/9/2014</td>\n",
       "      <td>538000.0</td>\n",
       "      <td>3</td>\n",
       "      <td>2.25</td>\n",
       "      <td>2570</td>\n",
       "      <td>7242</td>\n",
       "      <td>2.0</td>\n",
       "      <td>3</td>\n",
       "      <td>7</td>\n",
       "      <td>...</td>\n",
       "      <td>0</td>\n",
       "      <td>A</td>\n",
       "      <td>0</td>\n",
       "      <td>0</td>\n",
       "      <td>1</td>\n",
       "      <td>0</td>\n",
       "      <td>1</td>\n",
       "      <td>0</td>\n",
       "      <td>0</td>\n",
       "      <td>0</td>\n",
       "    </tr>\n",
       "    <tr>\n",
       "      <th>2</th>\n",
       "      <td>5631500400</td>\n",
       "      <td>2/25/2015</td>\n",
       "      <td>180000.0</td>\n",
       "      <td>2</td>\n",
       "      <td>1.00</td>\n",
       "      <td>770</td>\n",
       "      <td>10000</td>\n",
       "      <td>1.0</td>\n",
       "      <td>3</td>\n",
       "      <td>6</td>\n",
       "      <td>...</td>\n",
       "      <td>0</td>\n",
       "      <td>A</td>\n",
       "      <td>0</td>\n",
       "      <td>0</td>\n",
       "      <td>0</td>\n",
       "      <td>0</td>\n",
       "      <td>0</td>\n",
       "      <td>0</td>\n",
       "      <td>0</td>\n",
       "      <td>0</td>\n",
       "    </tr>\n",
       "    <tr>\n",
       "      <th>3</th>\n",
       "      <td>2487200875</td>\n",
       "      <td>12/9/2014</td>\n",
       "      <td>604000.0</td>\n",
       "      <td>4</td>\n",
       "      <td>3.00</td>\n",
       "      <td>1960</td>\n",
       "      <td>5000</td>\n",
       "      <td>1.0</td>\n",
       "      <td>5</td>\n",
       "      <td>7</td>\n",
       "      <td>...</td>\n",
       "      <td>0</td>\n",
       "      <td>A</td>\n",
       "      <td>0</td>\n",
       "      <td>0</td>\n",
       "      <td>1</td>\n",
       "      <td>0</td>\n",
       "      <td>0</td>\n",
       "      <td>0</td>\n",
       "      <td>0</td>\n",
       "      <td>0</td>\n",
       "    </tr>\n",
       "    <tr>\n",
       "      <th>4</th>\n",
       "      <td>1954400510</td>\n",
       "      <td>2/18/2015</td>\n",
       "      <td>510000.0</td>\n",
       "      <td>3</td>\n",
       "      <td>2.00</td>\n",
       "      <td>1680</td>\n",
       "      <td>8080</td>\n",
       "      <td>1.0</td>\n",
       "      <td>3</td>\n",
       "      <td>8</td>\n",
       "      <td>...</td>\n",
       "      <td>0</td>\n",
       "      <td>B</td>\n",
       "      <td>1</td>\n",
       "      <td>0</td>\n",
       "      <td>0</td>\n",
       "      <td>0</td>\n",
       "      <td>0</td>\n",
       "      <td>0</td>\n",
       "      <td>0</td>\n",
       "      <td>0</td>\n",
       "    </tr>\n",
       "  </tbody>\n",
       "</table>\n",
       "<p>5 rows × 29 columns</p>\n",
       "</div>"
      ],
      "text/plain": [
       "           id        date     price  bedrooms  bathrooms  sqft_living  \\\n",
       "0  7129300520  10/13/2014  221900.0         3       1.00         1180   \n",
       "1  6414100192   12/9/2014  538000.0         3       2.25         2570   \n",
       "2  5631500400   2/25/2015  180000.0         2       1.00          770   \n",
       "3  2487200875   12/9/2014  604000.0         4       3.00         1960   \n",
       "4  1954400510   2/18/2015  510000.0         3       2.00         1680   \n",
       "\n",
       "   sqft_lot  floors  condition  grade    ...      zip_bin_OL  grade_bins  \\\n",
       "0      5650     1.0          3      7    ...               0           A   \n",
       "1      7242     2.0          3      7    ...               0           A   \n",
       "2     10000     1.0          3      6    ...               0           A   \n",
       "3      5000     1.0          5      7    ...               0           A   \n",
       "4      8080     1.0          3      8    ...               0           B   \n",
       "\n",
       "   grade_bin_B  grade_bin_C  has_basement_yes  floors1_5 floors2  floors2_5  \\\n",
       "0            0            0                 0          0       0          0   \n",
       "1            0            0                 1          0       1          0   \n",
       "2            0            0                 0          0       0          0   \n",
       "3            0            0                 1          0       0          0   \n",
       "4            1            0                 0          0       0          0   \n",
       "\n",
       "   floors3  floors3_5  \n",
       "0        0          0  \n",
       "1        0          0  \n",
       "2        0          0  \n",
       "3        0          0  \n",
       "4        0          0  \n",
       "\n",
       "[5 rows x 29 columns]"
      ]
     },
     "execution_count": 97,
     "metadata": {},
     "output_type": "execute_result"
    }
   ],
   "source": [
    "df_dumm.head()"
   ]
  },
  {
   "cell_type": "markdown",
   "metadata": {},
   "source": [
    "# Model 2:"
   ]
  },
  {
   "cell_type": "code",
   "execution_count": 98,
   "metadata": {},
   "outputs": [],
   "source": [
    "model_2 = df_dumm[['price', 'bedrooms', 'sqft_living', 'zip_bin_B', 'zip_bin_C', 'zip_bin_OL',\n",
    "       'grade_bin_B', 'grade_bin_C', 'has_basement_yes', 'floors1_5',\n",
    "       'floors2', 'floors2_5', 'floors3', 'floors3_5']]\n",
    "#.iloc[:,:3]"
   ]
  },
  {
   "cell_type": "code",
   "execution_count": 99,
   "metadata": {},
   "outputs": [],
   "source": [
    "y_2 = model_2[['price']]\n",
    "X_2 = model_2.drop(['price'], axis = 1)"
   ]
  },
  {
   "cell_type": "code",
   "execution_count": 100,
   "metadata": {},
   "outputs": [
    {
     "name": "stdout",
     "output_type": "stream",
     "text": [
      "-------\n",
      "Model 2\n",
      "-------\n",
      "The train mse is 19276098125.32847\n",
      "The test mse is  19411459018.351704\n",
      "\n",
      "The train rmse is 138838.38851459083\n",
      "The test rmse is 139325.01217782722\n",
      "\n",
      "The R-Squared is 0.7360577533599861\n"
     ]
    },
    {
     "data": {
      "text/html": [
       "<table class=\"simpletable\">\n",
       "<caption>OLS Regression Results</caption>\n",
       "<tr>\n",
       "  <th>Dep. Variable:</th>          <td>price</td>      <th>  R-squared:         </th>  <td>   0.736</td>  \n",
       "</tr>\n",
       "<tr>\n",
       "  <th>Model:</th>                   <td>OLS</td>       <th>  Adj. R-squared:    </th>  <td>   0.736</td>  \n",
       "</tr>\n",
       "<tr>\n",
       "  <th>Method:</th>             <td>Least Squares</td>  <th>  F-statistic:       </th>  <td>   3880.</td>  \n",
       "</tr>\n",
       "<tr>\n",
       "  <th>Date:</th>             <td>Mon, 17 Dec 2018</td> <th>  Prob (F-statistic):</th>   <td>  0.00</td>   \n",
       "</tr>\n",
       "<tr>\n",
       "  <th>Time:</th>                 <td>19:22:38</td>     <th>  Log-Likelihood:    </th> <td>-2.4000e+05</td>\n",
       "</tr>\n",
       "<tr>\n",
       "  <th>No. Observations:</th>      <td> 18099</td>      <th>  AIC:               </th>  <td>4.800e+05</td> \n",
       "</tr>\n",
       "<tr>\n",
       "  <th>Df Residuals:</th>          <td> 18085</td>      <th>  BIC:               </th>  <td>4.801e+05</td> \n",
       "</tr>\n",
       "<tr>\n",
       "  <th>Df Model:</th>              <td>    13</td>      <th>                     </th>      <td> </td>     \n",
       "</tr>\n",
       "<tr>\n",
       "  <th>Covariance Type:</th>      <td>nonrobust</td>    <th>                     </th>      <td> </td>     \n",
       "</tr>\n",
       "</table>\n",
       "<table class=\"simpletable\">\n",
       "<tr>\n",
       "          <td></td>            <th>coef</th>     <th>std err</th>      <th>t</th>      <th>P>|t|</th>  <th>[0.025</th>    <th>0.975]</th>  \n",
       "</tr>\n",
       "<tr>\n",
       "  <th>const</th>            <td> 1.039e+05</td> <td> 4336.135</td> <td>   23.964</td> <td> 0.000</td> <td> 9.54e+04</td> <td> 1.12e+05</td>\n",
       "</tr>\n",
       "<tr>\n",
       "  <th>bedrooms</th>         <td>-2.133e+04</td> <td> 1559.166</td> <td>  -13.677</td> <td> 0.000</td> <td>-2.44e+04</td> <td>-1.83e+04</td>\n",
       "</tr>\n",
       "<tr>\n",
       "  <th>sqft_living</th>      <td>  153.2962</td> <td>    2.304</td> <td>   66.527</td> <td> 0.000</td> <td>  148.780</td> <td>  157.813</td>\n",
       "</tr>\n",
       "<tr>\n",
       "  <th>zip_bin_B</th>        <td> 1.765e+05</td> <td> 2347.812</td> <td>   75.183</td> <td> 0.000</td> <td> 1.72e+05</td> <td> 1.81e+05</td>\n",
       "</tr>\n",
       "<tr>\n",
       "  <th>zip_bin_C</th>        <td>  3.11e+05</td> <td> 3445.708</td> <td>   90.259</td> <td> 0.000</td> <td> 3.04e+05</td> <td> 3.18e+05</td>\n",
       "</tr>\n",
       "<tr>\n",
       "  <th>zip_bin_OL</th>       <td> 5.669e+05</td> <td> 6612.515</td> <td>   85.734</td> <td> 0.000</td> <td> 5.54e+05</td> <td>  5.8e+05</td>\n",
       "</tr>\n",
       "<tr>\n",
       "  <th>grade_bin_B</th>      <td> 5.476e+04</td> <td> 2738.501</td> <td>   19.995</td> <td> 0.000</td> <td> 4.94e+04</td> <td> 6.01e+04</td>\n",
       "</tr>\n",
       "<tr>\n",
       "  <th>grade_bin_C</th>      <td> 2.216e+05</td> <td> 6226.450</td> <td>   35.583</td> <td> 0.000</td> <td> 2.09e+05</td> <td> 2.34e+05</td>\n",
       "</tr>\n",
       "<tr>\n",
       "  <th>has_basement_yes</th> <td>  2.84e+04</td> <td> 2389.974</td> <td>   11.883</td> <td> 0.000</td> <td> 2.37e+04</td> <td> 3.31e+04</td>\n",
       "</tr>\n",
       "<tr>\n",
       "  <th>floors1_5</th>        <td> 7.462e+04</td> <td> 3885.487</td> <td>   19.206</td> <td> 0.000</td> <td>  6.7e+04</td> <td> 8.22e+04</td>\n",
       "</tr>\n",
       "<tr>\n",
       "  <th>floors2</th>          <td>-9599.6137</td> <td> 2811.901</td> <td>   -3.414</td> <td> 0.001</td> <td>-1.51e+04</td> <td>-4088.021</td>\n",
       "</tr>\n",
       "<tr>\n",
       "  <th>floors2_5</th>        <td> 9.281e+04</td> <td> 1.27e+04</td> <td>    7.294</td> <td> 0.000</td> <td> 6.79e+04</td> <td> 1.18e+05</td>\n",
       "</tr>\n",
       "<tr>\n",
       "  <th>floors3</th>          <td> 2.136e+04</td> <td> 6230.155</td> <td>    3.428</td> <td> 0.001</td> <td> 9147.369</td> <td> 3.36e+04</td>\n",
       "</tr>\n",
       "<tr>\n",
       "  <th>floors3_5</th>        <td> 1205.8649</td> <td> 5.68e+04</td> <td>    0.021</td> <td> 0.983</td> <td> -1.1e+05</td> <td> 1.13e+05</td>\n",
       "</tr>\n",
       "</table>\n",
       "<table class=\"simpletable\">\n",
       "<tr>\n",
       "  <th>Omnibus:</th>       <td>5567.049</td> <th>  Durbin-Watson:     </th> <td>   1.985</td> \n",
       "</tr>\n",
       "<tr>\n",
       "  <th>Prob(Omnibus):</th>  <td> 0.000</td>  <th>  Jarque-Bera (JB):  </th> <td>32597.099</td>\n",
       "</tr>\n",
       "<tr>\n",
       "  <th>Skew:</th>           <td> 1.353</td>  <th>  Prob(JB):          </th> <td>    0.00</td> \n",
       "</tr>\n",
       "<tr>\n",
       "  <th>Kurtosis:</th>       <td> 8.992</td>  <th>  Cond. No.          </th> <td>1.18e+05</td> \n",
       "</tr>\n",
       "</table><br/><br/>Warnings:<br/>[1] Standard Errors assume that the covariance matrix of the errors is correctly specified.<br/>[2] The condition number is large, 1.18e+05. This might indicate that there are<br/>strong multicollinearity or other numerical problems."
      ],
      "text/plain": [
       "<class 'statsmodels.iolib.summary.Summary'>\n",
       "\"\"\"\n",
       "                            OLS Regression Results                            \n",
       "==============================================================================\n",
       "Dep. Variable:                  price   R-squared:                       0.736\n",
       "Model:                            OLS   Adj. R-squared:                  0.736\n",
       "Method:                 Least Squares   F-statistic:                     3880.\n",
       "Date:                Mon, 17 Dec 2018   Prob (F-statistic):               0.00\n",
       "Time:                        19:22:38   Log-Likelihood:            -2.4000e+05\n",
       "No. Observations:               18099   AIC:                         4.800e+05\n",
       "Df Residuals:                   18085   BIC:                         4.801e+05\n",
       "Df Model:                          13                                         \n",
       "Covariance Type:            nonrobust                                         \n",
       "====================================================================================\n",
       "                       coef    std err          t      P>|t|      [0.025      0.975]\n",
       "------------------------------------------------------------------------------------\n",
       "const             1.039e+05   4336.135     23.964      0.000    9.54e+04    1.12e+05\n",
       "bedrooms         -2.133e+04   1559.166    -13.677      0.000   -2.44e+04   -1.83e+04\n",
       "sqft_living        153.2962      2.304     66.527      0.000     148.780     157.813\n",
       "zip_bin_B         1.765e+05   2347.812     75.183      0.000    1.72e+05    1.81e+05\n",
       "zip_bin_C          3.11e+05   3445.708     90.259      0.000    3.04e+05    3.18e+05\n",
       "zip_bin_OL        5.669e+05   6612.515     85.734      0.000    5.54e+05     5.8e+05\n",
       "grade_bin_B       5.476e+04   2738.501     19.995      0.000    4.94e+04    6.01e+04\n",
       "grade_bin_C       2.216e+05   6226.450     35.583      0.000    2.09e+05    2.34e+05\n",
       "has_basement_yes   2.84e+04   2389.974     11.883      0.000    2.37e+04    3.31e+04\n",
       "floors1_5         7.462e+04   3885.487     19.206      0.000     6.7e+04    8.22e+04\n",
       "floors2          -9599.6137   2811.901     -3.414      0.001   -1.51e+04   -4088.021\n",
       "floors2_5         9.281e+04   1.27e+04      7.294      0.000    6.79e+04    1.18e+05\n",
       "floors3           2.136e+04   6230.155      3.428      0.001    9147.369    3.36e+04\n",
       "floors3_5         1205.8649   5.68e+04      0.021      0.983    -1.1e+05    1.13e+05\n",
       "==============================================================================\n",
       "Omnibus:                     5567.049   Durbin-Watson:                   1.985\n",
       "Prob(Omnibus):                  0.000   Jarque-Bera (JB):            32597.099\n",
       "Skew:                           1.353   Prob(JB):                         0.00\n",
       "Kurtosis:                       8.992   Cond. No.                     1.18e+05\n",
       "==============================================================================\n",
       "\n",
       "Warnings:\n",
       "[1] Standard Errors assume that the covariance matrix of the errors is correctly specified.\n",
       "[2] The condition number is large, 1.18e+05. This might indicate that there are\n",
       "strong multicollinearity or other numerical problems.\n",
       "\"\"\""
      ]
     },
     "execution_count": 100,
     "metadata": {},
     "output_type": "execute_result"
    }
   ],
   "source": [
    "model_no = 'Model 2'\n",
    "\n",
    "X = X_2\n",
    "y = y_2\n",
    "\n",
    "X_train, X_test, y_train, y_test = train_test_split(X, y, test_size = 0.2, random_state=7)\n",
    "\n",
    "linreg.fit(X_train,y_train)\n",
    "yhat_train = linreg.predict(X_train)\n",
    "yhat_test = linreg.predict(X_test)\n",
    "mse_train = np.sum((y_train-yhat_train)**2)/len(y_train)\n",
    "rmse_train = np.sqrt(mse_train)\n",
    "mse_test =np.sum((y_test-yhat_test)**2)/len(y_test)\n",
    "rmse_test = np.sqrt(mse_test)\n",
    "y_int = sm.add_constant(X)\n",
    "model = sm.OLS(y,y_int).fit()\n",
    "\n",
    "print('-------\\n' + model_no + '\\n-------')\n",
    "print('The train mse is ' + str(list(mse_train)[0]))\n",
    "print('The test mse is  ' + str(list(mse_test)[0]))\n",
    "print('\\nThe train rmse is ' + str(list(rmse_train)[0]))\n",
    "print('The test rmse is ' + str(list(rmse_test)[0]))\n",
    "\n",
    "#list((mse_train/mse_test)*100)[0]\n",
    "\n",
    "print('\\nThe R-Squared is ' + str(model.rsquared))\n",
    "model.summary()"
   ]
  },
  {
   "cell_type": "markdown",
   "metadata": {},
   "source": [
    "### The MSE of Model 2 is significantly lower than before, and R-squared is over 70%"
   ]
  },
  {
   "cell_type": "markdown",
   "metadata": {},
   "source": [
    "## Do the residuals of the model follow a normal distribution?"
   ]
  },
  {
   "cell_type": "code",
   "execution_count": 101,
   "metadata": {},
   "outputs": [
    {
     "data": {
      "image/png": "[encoded data removed]",
      "text/plain": [
       "<Figure size 432x288 with 1 Axes>"
      ]
     },
     "metadata": {
      "needs_background": "light"
     },
     "output_type": "display_data"
    }
   ],
   "source": [
    "plt.hist(list(model.resid), bins=40);"
   ]
  },
  {
   "cell_type": "markdown",
   "metadata": {},
   "source": [
    "# Feature Selection with RFE"
   ]
  },
  {
   "cell_type": "code",
   "execution_count": 102,
   "metadata": {},
   "outputs": [
    {
     "name": "stdout",
     "output_type": "stream",
     "text": [
      "Index(['zip_bin_B', 'zip_bin_C', 'zip_bin_OL', 'grade_bin_B', 'grade_bin_C'], dtype='object')\n",
      "price    0.627865\n",
      "dtype: float64\n",
      "price    0.627598\n",
      "dtype: float64\n",
      "Index(['zip_bin_B', 'zip_bin_C', 'zip_bin_OL', 'grade_bin_B', 'grade_bin_C',\n",
      "       'floors2_5'],\n",
      "      dtype='object')\n",
      "price    0.62925\n",
      "dtype: float64\n",
      "price    0.628984\n",
      "dtype: float64\n",
      "Index(['zip_bin_B', 'zip_bin_C', 'zip_bin_OL', 'grade_bin_B', 'grade_bin_C',\n",
      "       'floors1_5', 'floors2_5'],\n",
      "      dtype='object')\n",
      "price    0.635848\n",
      "dtype: float64\n",
      "price    0.635586\n",
      "dtype: float64\n"
     ]
    }
   ],
   "source": [
    "r_list = []\n",
    "adj_r_list = []\n",
    "\n",
    "for n in [5,6,7]: #list of n best features to select\n",
    "    select_n = RFE(linreg, n_features_to_select = n)\n",
    "    select_n = select_n.fit(X, np.ravel(y))\n",
    "    selected_columns = X.columns[select_n.support_ ]\n",
    "    print(selected_columns)\n",
    "    linreg.fit(X[selected_columns],y)\n",
    "    yhat = linreg.predict(X[selected_columns])\n",
    "    SS_Residual = np.sum((y-yhat)**2)\n",
    "    SS_Total = np.sum((y-np.mean(y))**2)\n",
    "    r_squared = 1 - (float(SS_Residual))/SS_Total\n",
    "    print(r_squared)\n",
    "    adjusted_r_squared = 1 - (1-r_squared)*(len(y)-1)/(len(y)-X.shape[1]-1)\n",
    "    print(adjusted_r_squared)\n",
    "r_list.append(r_squared)\n",
    "adj_r_list.append(adjusted_r_squared)\n"
   ]
  },
  {
   "cell_type": "markdown",
   "metadata": {},
   "source": [
    "# Step-wise selection with p-values  (1-11-12 4/6)"
   ]
  },
  {
   "cell_type": "code",
   "execution_count": 103,
   "metadata": {},
   "outputs": [],
   "source": [
    "import statsmodels.api as sm"
   ]
  },
  {
   "cell_type": "code",
   "execution_count": 104,
   "metadata": {},
   "outputs": [],
   "source": [
    "def stepwise_selection(X, y, \n",
    "                       initial_list=[], \n",
    "                       threshold_in=0.01, \n",
    "                       threshold_out = 0.05, \n",
    "                       verbose=True):\n",
    "    included = list(initial_list)\n",
    "    while True:\n",
    "        changed=False\n",
    "        # forward step\n",
    "        excluded = list(set(X.columns)-set(included))\n",
    "        new_pval = pd.Series(index=excluded)\n",
    "        for new_column in excluded:\n",
    "            model = sm.OLS(y, sm.add_constant(pd.DataFrame(X[included+[new_column]]))).fit()\n",
    "            new_pval[new_column] = model.pvalues[new_column]\n",
    "        best_pval = new_pval.min()\n",
    "        if best_pval < threshold_in:\n",
    "            best_feature = new_pval.idxmin()\n",
    "            included.append(best_feature)\n",
    "            changed=True\n",
    "            if verbose:\n",
    "                print('Add  {:30} with p-value {:.6}'.format(best_feature, best_pval))\n",
    "\n",
    "        # backward step\n",
    "        model = sm.OLS(y, sm.add_constant(pd.DataFrame(X[included]))).fit()\n",
    "        # use all coefs except intercept\n",
    "        pvalues = model.pvalues.iloc[1:]\n",
    "        worst_pval = pvalues.max() # null if pvalues is empty\n",
    "        if worst_pval > threshold_out:\n",
    "            changed=True\n",
    "            worst_feature = pvalues.argmax()\n",
    "            included.remove(worst_feature)\n",
    "            if verbose:\n",
    "                print('Drop {:30} with p-value {:.6}'.format(worst_feature, worst_pval))\n",
    "        if not changed:\n",
    "            break\n",
    "    return included"
   ]
  },
  {
   "cell_type": "code",
   "execution_count": 105,
   "metadata": {},
   "outputs": [
    {
     "name": "stdout",
     "output_type": "stream",
     "text": [
      "Add  grade_bin_C                    with p-value 0.0\n",
      "Add  sqft_living                    with p-value 0.0\n",
      "Add  zip_bin_OL                     with p-value 0.0\n",
      "Add  zip_bin_B                      with p-value 0.0\n",
      "Add  zip_bin_C                      with p-value 0.0\n",
      "Add  grade_bin_B                    with p-value 5.4448e-73\n",
      "Add  floors1_5                      with p-value 2.61662e-77\n",
      "Add  has_basement_yes               with p-value 4.97162e-44\n",
      "Add  bedrooms                       with p-value 8.6495e-42\n",
      "Add  floors2_5                      with p-value 7.46599e-15\n",
      "Add  floors3                        with p-value 8.88528e-06\n",
      "Add  floors2                        with p-value 0.000636069\n",
      "resulting features:\n",
      "['grade_bin_C', 'sqft_living', 'zip_bin_OL', 'zip_bin_B', 'zip_bin_C', 'grade_bin_B', 'floors1_5', 'has_basement_yes', 'bedrooms', 'floors2_5', 'floors3', 'floors2']\n"
     ]
    }
   ],
   "source": [
    "result = stepwise_selection(X, y, verbose = True)\n",
    "print('resulting features:')\n",
    "print(result)"
   ]
  },
  {
   "cell_type": "markdown",
   "metadata": {},
   "source": [
    "# Final Model:"
   ]
  },
  {
   "cell_type": "code",
   "execution_count": 106,
   "metadata": {},
   "outputs": [
    {
     "data": {
      "text/html": [
       "<div>\n",
       "<style scoped>\n",
       "    .dataframe tbody tr th:only-of-type {\n",
       "        vertical-align: middle;\n",
       "    }\n",
       "\n",
       "    .dataframe tbody tr th {\n",
       "        vertical-align: top;\n",
       "    }\n",
       "\n",
       "    .dataframe thead th {\n",
       "        text-align: right;\n",
       "    }\n",
       "</style>\n",
       "<table border=\"1\" class=\"dataframe\">\n",
       "  <thead>\n",
       "    <tr style=\"text-align: right;\">\n",
       "      <th></th>\n",
       "      <th>price</th>\n",
       "      <th>sqft_living</th>\n",
       "      <th>zip_bin_B</th>\n",
       "      <th>zip_bin_C</th>\n",
       "      <th>zip_bin_OL</th>\n",
       "      <th>grade_bin_B</th>\n",
       "      <th>grade_bin_C</th>\n",
       "    </tr>\n",
       "  </thead>\n",
       "  <tbody>\n",
       "    <tr>\n",
       "      <th>0</th>\n",
       "      <td>221900.0</td>\n",
       "      <td>1180</td>\n",
       "      <td>0</td>\n",
       "      <td>0</td>\n",
       "      <td>0</td>\n",
       "      <td>0</td>\n",
       "      <td>0</td>\n",
       "    </tr>\n",
       "    <tr>\n",
       "      <th>1</th>\n",
       "      <td>538000.0</td>\n",
       "      <td>2570</td>\n",
       "      <td>0</td>\n",
       "      <td>0</td>\n",
       "      <td>0</td>\n",
       "      <td>0</td>\n",
       "      <td>0</td>\n",
       "    </tr>\n",
       "    <tr>\n",
       "      <th>2</th>\n",
       "      <td>180000.0</td>\n",
       "      <td>770</td>\n",
       "      <td>0</td>\n",
       "      <td>0</td>\n",
       "      <td>0</td>\n",
       "      <td>0</td>\n",
       "      <td>0</td>\n",
       "    </tr>\n",
       "    <tr>\n",
       "      <th>3</th>\n",
       "      <td>604000.0</td>\n",
       "      <td>1960</td>\n",
       "      <td>1</td>\n",
       "      <td>0</td>\n",
       "      <td>0</td>\n",
       "      <td>0</td>\n",
       "      <td>0</td>\n",
       "    </tr>\n",
       "    <tr>\n",
       "      <th>4</th>\n",
       "      <td>510000.0</td>\n",
       "      <td>1680</td>\n",
       "      <td>1</td>\n",
       "      <td>0</td>\n",
       "      <td>0</td>\n",
       "      <td>1</td>\n",
       "      <td>0</td>\n",
       "    </tr>\n",
       "  </tbody>\n",
       "</table>\n",
       "</div>"
      ],
      "text/plain": [
       "      price  sqft_living  zip_bin_B  zip_bin_C  zip_bin_OL  grade_bin_B  \\\n",
       "0  221900.0         1180          0          0           0            0   \n",
       "1  538000.0         2570          0          0           0            0   \n",
       "2  180000.0          770          0          0           0            0   \n",
       "3  604000.0         1960          1          0           0            0   \n",
       "4  510000.0         1680          1          0           0            1   \n",
       "\n",
       "   grade_bin_C  \n",
       "0            0  \n",
       "1            0  \n",
       "2            0  \n",
       "3            0  \n",
       "4            0  "
      ]
     },
     "execution_count": 106,
     "metadata": {},
     "output_type": "execute_result"
    }
   ],
   "source": [
    "kcd_final = df_dumm[['price','sqft_living', 'zip_bin_B', 'zip_bin_C', 'zip_bin_OL', 'grade_bin_B', 'grade_bin_C']]\n",
    "kcd_final.head()"
   ]
  },
  {
   "cell_type": "markdown",
   "metadata": {},
   "source": [
    "# k-fold cross-validation"
   ]
  },
  {
   "cell_type": "code",
   "execution_count": 107,
   "metadata": {},
   "outputs": [],
   "source": [
    "y_final = kcd_final[['price']]\n",
    "X_final = kcd_final.drop(['price'], axis = 1)"
   ]
  },
  {
   "cell_type": "code",
   "execution_count": 108,
   "metadata": {},
   "outputs": [],
   "source": [
    "def kfolds(data, k):\n",
    "    #Force data as pandas dataframe\n",
    "    data = pd.DataFrame(data)\n",
    "    num_observations = len(data)\n",
    "    fold_size = num_observations//k\n",
    "    leftovers = num_observations%k\n",
    "    folds = []\n",
    "    start_obs = 0\n",
    "    for fold_n in range(1,k+1):\n",
    "        if fold_n <= leftovers:\n",
    "            #Fold Size will be 1 larger to account for leftovers\n",
    "            fold =  data.iloc[start_obs : start_obs+fold_size+1] \n",
    "            folds.append(fold)\n",
    "            start_obs +=  fold_size + 1\n",
    "        else:\n",
    "            fold =  data.iloc[start_obs : start_obs+fold_size] \n",
    "            folds.append(fold)\n",
    "            start_obs +=  fold_size\n",
    "            \n",
    "    return folds "
   ]
  },
  {
   "cell_type": "code",
   "execution_count": 109,
   "metadata": {},
   "outputs": [
    {
     "name": "stdout",
     "output_type": "stream",
     "text": [
      "The average test MSE is 20249082440.7239\n",
      "The average train MSE is 20184989495.05013\n",
      "The avg test MSE as a percentage of avg train MSE is 100.31752776333865\n"
     ]
    },
    {
     "data": {
      "text/html": [
       "<div>\n",
       "<style scoped>\n",
       "    .dataframe tbody tr th:only-of-type {\n",
       "        vertical-align: middle;\n",
       "    }\n",
       "\n",
       "    .dataframe tbody tr th {\n",
       "        vertical-align: top;\n",
       "    }\n",
       "\n",
       "    .dataframe thead th {\n",
       "        text-align: right;\n",
       "    }\n",
       "</style>\n",
       "<table border=\"1\" class=\"dataframe\">\n",
       "  <thead>\n",
       "    <tr style=\"text-align: right;\">\n",
       "      <th></th>\n",
       "      <th>MSE: train</th>\n",
       "      <th>MSE: test</th>\n",
       "    </tr>\n",
       "  </thead>\n",
       "  <tbody>\n",
       "    <tr>\n",
       "      <th>0</th>\n",
       "      <td>2.041962e+10</td>\n",
       "      <td>1.813962e+10</td>\n",
       "    </tr>\n",
       "    <tr>\n",
       "      <th>1</th>\n",
       "      <td>1.997116e+10</td>\n",
       "      <td>2.216363e+10</td>\n",
       "    </tr>\n",
       "    <tr>\n",
       "      <th>2</th>\n",
       "      <td>2.026160e+10</td>\n",
       "      <td>1.954324e+10</td>\n",
       "    </tr>\n",
       "    <tr>\n",
       "      <th>3</th>\n",
       "      <td>2.033592e+10</td>\n",
       "      <td>1.886965e+10</td>\n",
       "    </tr>\n",
       "    <tr>\n",
       "      <th>4</th>\n",
       "      <td>2.022343e+10</td>\n",
       "      <td>1.988326e+10</td>\n",
       "    </tr>\n",
       "    <tr>\n",
       "      <th>5</th>\n",
       "      <td>2.000466e+10</td>\n",
       "      <td>2.185582e+10</td>\n",
       "    </tr>\n",
       "    <tr>\n",
       "      <th>6</th>\n",
       "      <td>2.008355e+10</td>\n",
       "      <td>2.116825e+10</td>\n",
       "    </tr>\n",
       "    <tr>\n",
       "      <th>7</th>\n",
       "      <td>1.990209e+10</td>\n",
       "      <td>2.276450e+10</td>\n",
       "    </tr>\n",
       "    <tr>\n",
       "      <th>8</th>\n",
       "      <td>2.034042e+10</td>\n",
       "      <td>1.882895e+10</td>\n",
       "    </tr>\n",
       "    <tr>\n",
       "      <th>9</th>\n",
       "      <td>2.030743e+10</td>\n",
       "      <td>1.927391e+10</td>\n",
       "    </tr>\n",
       "  </tbody>\n",
       "</table>\n",
       "</div>"
      ],
      "text/plain": [
       "     MSE: train     MSE: test\n",
       "0  2.041962e+10  1.813962e+10\n",
       "1  1.997116e+10  2.216363e+10\n",
       "2  2.026160e+10  1.954324e+10\n",
       "3  2.033592e+10  1.886965e+10\n",
       "4  2.022343e+10  1.988326e+10\n",
       "5  2.000466e+10  2.185582e+10\n",
       "6  2.008355e+10  2.116825e+10\n",
       "7  1.990209e+10  2.276450e+10\n",
       "8  2.034042e+10  1.882895e+10\n",
       "9  2.030743e+10  1.927391e+10"
      ]
     },
     "execution_count": 109,
     "metadata": {},
     "output_type": "execute_result"
    }
   ],
   "source": [
    "X = X_final\n",
    "y = y_final\n",
    "\n",
    "kcd_k_fold_data = pd.concat([X.reset_index(drop=True), y], axis=1)\n",
    "\n",
    "k=10\n",
    "\n",
    "kcd_k_folds = kfolds(kcd_k_fold_data, k)\n",
    "\n",
    "test_errs = []\n",
    "train_errs = []\n",
    "\n",
    "for n in range(k):\n",
    "    # Split in train and test for the fold\n",
    "    train = pd.concat([fold for i, fold in enumerate(kcd_k_folds) if i!=n])\n",
    "    test = kcd_k_folds[n]\n",
    "    # Fit a linear regression model\n",
    "    linreg.fit(train[X.columns], train[y.columns])\n",
    "    #Evaluate Train and Test Errors\n",
    "    y_hat_train = linreg.predict(train[X.columns])\n",
    "    y_hat_test = linreg.predict(test[X.columns])\n",
    "    train_residuals = y_hat_train - train[y.columns]\n",
    "    test_residuals = y_hat_test - test[y.columns]\n",
    "    train_errs.append(np.mean(train_residuals.astype(float)**2))\n",
    "    test_errs.append(np.mean(test_residuals.astype(float)**2))\n",
    "#print(train_errs)\n",
    "#print(test_errs)\n",
    "\n",
    "output_train_errs = pd.DataFrame(train_errs).rename(columns={'price': 'MSE: train'})\n",
    "output_test_errs = pd.DataFrame(test_errs).rename(columns={'price': 'MSE: test'})\n",
    "train_test_errs = pd.concat([output_train_errs, output_test_errs], axis = 1)\n",
    "avg_test_err = sum(test_errs)/k\n",
    "avg_train_err = sum(train_errs)/k\n",
    "\n",
    "print('The average test MSE is ' + str(list(avg_test_err)[0]))\n",
    "print('The average train MSE is ' + str(list(avg_train_err)[0]))\n",
    "print('The avg test MSE as a percentage of avg train MSE is ' + str(list(((avg_test_err/avg_train_err)*100))[0]))\n",
    "train_test_errs"
   ]
  },
  {
   "cell_type": "markdown",
   "metadata": {},
   "source": [
    "# Run StatsModels on the final model"
   ]
  },
  {
   "cell_type": "code",
   "execution_count": 110,
   "metadata": {},
   "outputs": [
    {
     "name": "stdout",
     "output_type": "stream",
     "text": [
      "-------\n",
      "Final Model\n",
      "-------\n",
      "The train mse is 20194892193.4349\n",
      "The test mse is  20177186749.6311\n",
      "\n",
      "The train rmse is 142108.73369865378\n",
      "The test rmse is 142046.42462811622\n",
      "\n",
      "The R-Squared is 0.7238885771309159\n"
     ]
    },
    {
     "data": {
      "text/html": [
       "<table class=\"simpletable\">\n",
       "<caption>OLS Regression Results</caption>\n",
       "<tr>\n",
       "  <th>Dep. Variable:</th>          <td>price</td>      <th>  R-squared:         </th>  <td>   0.724</td>  \n",
       "</tr>\n",
       "<tr>\n",
       "  <th>Model:</th>                   <td>OLS</td>       <th>  Adj. R-squared:    </th>  <td>   0.724</td>  \n",
       "</tr>\n",
       "<tr>\n",
       "  <th>Method:</th>             <td>Least Squares</td>  <th>  F-statistic:       </th>  <td>   7905.</td>  \n",
       "</tr>\n",
       "<tr>\n",
       "  <th>Date:</th>             <td>Mon, 17 Dec 2018</td> <th>  Prob (F-statistic):</th>   <td>  0.00</td>   \n",
       "</tr>\n",
       "<tr>\n",
       "  <th>Time:</th>                 <td>19:22:44</td>     <th>  Log-Likelihood:    </th> <td>-2.4041e+05</td>\n",
       "</tr>\n",
       "<tr>\n",
       "  <th>No. Observations:</th>      <td> 18099</td>      <th>  AIC:               </th>  <td>4.808e+05</td> \n",
       "</tr>\n",
       "<tr>\n",
       "  <th>Df Residuals:</th>          <td> 18092</td>      <th>  BIC:               </th>  <td>4.809e+05</td> \n",
       "</tr>\n",
       "<tr>\n",
       "  <th>Df Model:</th>              <td>     6</td>      <th>                     </th>      <td> </td>     \n",
       "</tr>\n",
       "<tr>\n",
       "  <th>Covariance Type:</th>      <td>nonrobust</td>    <th>                     </th>      <td> </td>     \n",
       "</tr>\n",
       "</table>\n",
       "<table class=\"simpletable\">\n",
       "<tr>\n",
       "       <td></td>          <th>coef</th>     <th>std err</th>      <th>t</th>      <th>P>|t|</th>  <th>[0.025</th>    <th>0.975]</th>  \n",
       "</tr>\n",
       "<tr>\n",
       "  <th>const</th>       <td> 7.193e+04</td> <td> 3265.782</td> <td>   22.027</td> <td> 0.000</td> <td> 6.55e+04</td> <td> 7.83e+04</td>\n",
       "</tr>\n",
       "<tr>\n",
       "  <th>sqft_living</th> <td>  140.0707</td> <td>    1.766</td> <td>   79.321</td> <td> 0.000</td> <td>  136.609</td> <td>  143.532</td>\n",
       "</tr>\n",
       "<tr>\n",
       "  <th>zip_bin_B</th>   <td> 1.866e+05</td> <td> 2358.698</td> <td>   79.118</td> <td> 0.000</td> <td> 1.82e+05</td> <td> 1.91e+05</td>\n",
       "</tr>\n",
       "<tr>\n",
       "  <th>zip_bin_C</th>   <td> 3.262e+05</td> <td> 3475.751</td> <td>   93.848</td> <td> 0.000</td> <td> 3.19e+05</td> <td> 3.33e+05</td>\n",
       "</tr>\n",
       "<tr>\n",
       "  <th>zip_bin_OL</th>  <td> 5.728e+05</td> <td> 6729.060</td> <td>   85.121</td> <td> 0.000</td> <td>  5.6e+05</td> <td> 5.86e+05</td>\n",
       "</tr>\n",
       "<tr>\n",
       "  <th>grade_bin_B</th> <td> 4.727e+04</td> <td> 2604.087</td> <td>   18.153</td> <td> 0.000</td> <td> 4.22e+04</td> <td> 5.24e+04</td>\n",
       "</tr>\n",
       "<tr>\n",
       "  <th>grade_bin_C</th> <td>  2.13e+05</td> <td> 6060.340</td> <td>   35.144</td> <td> 0.000</td> <td> 2.01e+05</td> <td> 2.25e+05</td>\n",
       "</tr>\n",
       "</table>\n",
       "<table class=\"simpletable\">\n",
       "<tr>\n",
       "  <th>Omnibus:</th>       <td>5670.469</td> <th>  Durbin-Watson:     </th> <td>   1.980</td> \n",
       "</tr>\n",
       "<tr>\n",
       "  <th>Prob(Omnibus):</th>  <td> 0.000</td>  <th>  Jarque-Bera (JB):  </th> <td>31474.606</td>\n",
       "</tr>\n",
       "<tr>\n",
       "  <th>Skew:</th>           <td> 1.399</td>  <th>  Prob(JB):          </th> <td>    0.00</td> \n",
       "</tr>\n",
       "<tr>\n",
       "  <th>Kurtosis:</th>       <td> 8.823</td>  <th>  Cond. No.          </th> <td>1.43e+04</td> \n",
       "</tr>\n",
       "</table><br/><br/>Warnings:<br/>[1] Standard Errors assume that the covariance matrix of the errors is correctly specified.<br/>[2] The condition number is large, 1.43e+04. This might indicate that there are<br/>strong multicollinearity or other numerical problems."
      ],
      "text/plain": [
       "<class 'statsmodels.iolib.summary.Summary'>\n",
       "\"\"\"\n",
       "                            OLS Regression Results                            \n",
       "==============================================================================\n",
       "Dep. Variable:                  price   R-squared:                       0.724\n",
       "Model:                            OLS   Adj. R-squared:                  0.724\n",
       "Method:                 Least Squares   F-statistic:                     7905.\n",
       "Date:                Mon, 17 Dec 2018   Prob (F-statistic):               0.00\n",
       "Time:                        19:22:44   Log-Likelihood:            -2.4041e+05\n",
       "No. Observations:               18099   AIC:                         4.808e+05\n",
       "Df Residuals:                   18092   BIC:                         4.809e+05\n",
       "Df Model:                           6                                         \n",
       "Covariance Type:            nonrobust                                         \n",
       "===============================================================================\n",
       "                  coef    std err          t      P>|t|      [0.025      0.975]\n",
       "-------------------------------------------------------------------------------\n",
       "const        7.193e+04   3265.782     22.027      0.000    6.55e+04    7.83e+04\n",
       "sqft_living   140.0707      1.766     79.321      0.000     136.609     143.532\n",
       "zip_bin_B    1.866e+05   2358.698     79.118      0.000    1.82e+05    1.91e+05\n",
       "zip_bin_C    3.262e+05   3475.751     93.848      0.000    3.19e+05    3.33e+05\n",
       "zip_bin_OL   5.728e+05   6729.060     85.121      0.000     5.6e+05    5.86e+05\n",
       "grade_bin_B  4.727e+04   2604.087     18.153      0.000    4.22e+04    5.24e+04\n",
       "grade_bin_C   2.13e+05   6060.340     35.144      0.000    2.01e+05    2.25e+05\n",
       "==============================================================================\n",
       "Omnibus:                     5670.469   Durbin-Watson:                   1.980\n",
       "Prob(Omnibus):                  0.000   Jarque-Bera (JB):            31474.606\n",
       "Skew:                           1.399   Prob(JB):                         0.00\n",
       "Kurtosis:                       8.823   Cond. No.                     1.43e+04\n",
       "==============================================================================\n",
       "\n",
       "Warnings:\n",
       "[1] Standard Errors assume that the covariance matrix of the errors is correctly specified.\n",
       "[2] The condition number is large, 1.43e+04. This might indicate that there are\n",
       "strong multicollinearity or other numerical problems.\n",
       "\"\"\""
      ]
     },
     "execution_count": 110,
     "metadata": {},
     "output_type": "execute_result"
    }
   ],
   "source": [
    "model_no = 'Final Model'\n",
    "\n",
    "X = X_final\n",
    "y = y_final\n",
    "\n",
    "X_train, X_test, y_train, y_test = train_test_split(X, y, test_size = 0.2, random_state=7)\n",
    "\n",
    "linreg.fit(X_train,y_train)\n",
    "yhat_train = linreg.predict(X_train)\n",
    "yhat_test = linreg.predict(X_test)\n",
    "mse_train = np.sum((y_train-yhat_train)**2)/len(y_train)\n",
    "rmse_train = np.sqrt(mse_train)\n",
    "mse_test =np.sum((y_test-yhat_test)**2)/len(y_test)\n",
    "rmse_test = np.sqrt(mse_test)\n",
    "y_int = sm.add_constant(X)\n",
    "model = sm.OLS(y,y_int).fit()\n",
    "\n",
    "print('-------\\n' + model_no + '\\n-------')\n",
    "print('The train mse is ' + str(list(mse_train)[0]))\n",
    "print('The test mse is  ' + str(list(mse_test)[0]))\n",
    "print('\\nThe train rmse is ' + str(list(rmse_train)[0]))\n",
    "print('The test rmse is ' + str(list(rmse_test)[0]))\n",
    "\n",
    "#list((mse_train/mse_test)*100)[0]\n",
    "\n",
    "print('\\nThe R-Squared is ' + str(model.rsquared))\n",
    "model.summary()"
   ]
  },
  {
   "cell_type": "markdown",
   "metadata": {},
   "source": [
    "## Residuals"
   ]
  },
  {
   "cell_type": "code",
   "execution_count": 111,
   "metadata": {},
   "outputs": [
    {
     "data": {
      "image/png": "[encoded data removed]",
      "text/plain": [
       "<Figure size 432x288 with 1 Axes>"
      ]
     },
     "metadata": {
      "needs_background": "light"
     },
     "output_type": "display_data"
    }
   ],
   "source": [
    "plt.hist(list(model.resid), bins=40);"
   ]
  },
  {
   "cell_type": "markdown",
   "metadata": {},
   "source": [
    "### Final model summary\n",
    "The final model uses grade categories, zipcode categories and sqft_living to predict house prices with an accuracy of over 70% (according the R-Squared value of the model).  All of these features have p-values either equal to or almost equal to 0. The features were chosen based on RFE / Step-wise selection findings as well as an intuitive sense of what would be useful as real-world tool to predict house-prices (that would make sense to non-technical stakeholders).\n",
    "\n",
    "The model is based on a dataset that has been trimmed to represent a more typical range of houses - so it cannot be be used to predict houses that fall outside of that range (for example, prices above $2million).  In addition it is worth noting that this dataset of around 20k houses is only about 2.5 percent of the total number of housing units in King County, so there is no guarantee as to the reliability of this particular sample.\n",
    "\n",
    "Nevertheless the model provides a useful and relatively robust starting point for predicting house prices in King County.\n",
    "\n",
    "### Explanation of coefficients\n",
    "sqft_living: 140.0707. <br> \n",
    "This is the only continuous variable used in the model.  For each additional square-foot added to the living space of a property, its price will go up by $140.\n",
    "\n",
    "zip_bin_B: 186616.408222 <br>\n",
    "This is a coefficient derived from creating zipcode categories based on the mean house prices in each zipcode.  It is assumed that if a house is not in zip_bin_B, C or OL (outliers), then it is in zip_bin_A - and the associated value of house prices in that zip_bin is incorporated into the intercept value of 71934.196.  If a house does belong to a zip code in zip_bin_B, however, then its price will increase by $186616.\n",
    "\n",
    "grade_bin_C: 212985.2102 <br>\n",
    "Similar to the zip_bins, the grade bins provide coefficients based on creating three grade categories.  It is assumed that if a house is not in grade_bin_B or C, then it is in grade_bin_A - and the associated value of house prices in that grade_bin is again incorporated into the intercept value.  For houses in grade_bin_C, the price will be $212985 higher.  It is worth noting that although grade_bin_C has the highest coefficient of the grade categories, it is still lower than the two highest zipcode categories."
   ]
  },
  {
   "cell_type": "markdown",
   "metadata": {},
   "source": [
    "# Get the coefficients for the final model and make predictions:"
   ]
  },
  {
   "cell_type": "code",
   "execution_count": 112,
   "metadata": {},
   "outputs": [],
   "source": [
    "linreg.fit(X,y);"
   ]
  },
  {
   "cell_type": "code",
   "execution_count": 113,
   "metadata": {},
   "outputs": [
    {
     "data": {
      "text/html": [
       "<div>\n",
       "<style scoped>\n",
       "    .dataframe tbody tr th:only-of-type {\n",
       "        vertical-align: middle;\n",
       "    }\n",
       "\n",
       "    .dataframe tbody tr th {\n",
       "        vertical-align: top;\n",
       "    }\n",
       "\n",
       "    .dataframe thead th {\n",
       "        text-align: right;\n",
       "    }\n",
       "</style>\n",
       "<table border=\"1\" class=\"dataframe\">\n",
       "  <thead>\n",
       "    <tr style=\"text-align: right;\">\n",
       "      <th></th>\n",
       "      <th>sqft_living</th>\n",
       "      <th>zip_bin_B</th>\n",
       "      <th>zip_bin_C</th>\n",
       "      <th>zip_bin_OL</th>\n",
       "      <th>grade_bin_B</th>\n",
       "      <th>grade_bin_C</th>\n",
       "    </tr>\n",
       "  </thead>\n",
       "  <tbody>\n",
       "    <tr>\n",
       "      <th>Coefficients</th>\n",
       "      <td>140.070659</td>\n",
       "      <td>186616.408222</td>\n",
       "      <td>326191.0546</td>\n",
       "      <td>572782.770165</td>\n",
       "      <td>47270.872986</td>\n",
       "      <td>212985.210242</td>\n",
       "    </tr>\n",
       "  </tbody>\n",
       "</table>\n",
       "</div>"
      ],
      "text/plain": [
       "              sqft_living      zip_bin_B    zip_bin_C     zip_bin_OL  \\\n",
       "Coefficients   140.070659  186616.408222  326191.0546  572782.770165   \n",
       "\n",
       "               grade_bin_B    grade_bin_C  \n",
       "Coefficients  47270.872986  212985.210242  "
      ]
     },
     "execution_count": 113,
     "metadata": {},
     "output_type": "execute_result"
    }
   ],
   "source": [
    "data = {'Coefficients': list(linreg.coef_[0])}\n",
    "\n",
    "prediction_df = pd.DataFrame.from_dict(data, orient='index', columns=list(X.columns))\n",
    "prediction_df"
   ]
  },
  {
   "cell_type": "code",
   "execution_count": 114,
   "metadata": {},
   "outputs": [
    {
     "name": "stdout",
     "output_type": "stream",
     "text": [
      "The intercept is 71934.19633409119\n"
     ]
    }
   ],
   "source": [
    "print('The intercept is ' + str(list(linreg.intercept_)[0]))"
   ]
  },
  {
   "cell_type": "code",
   "execution_count": 115,
   "metadata": {},
   "outputs": [],
   "source": [
    "def price_prediction_func(any_df, df_idx):\n",
    "    zip_bin_B = 0\n",
    "    zip_bin_C = 0\n",
    "    zip_bin_OL = 0\n",
    "    grade_bin_B = 0\n",
    "    grade_bin_C = 0\n",
    "    if list(any_df[df_idx:df_idx+1]['zip_bin_B'])[0] == 1:\n",
    "        zip_bin_B = 1\n",
    "    elif list(any_df[df_idx:df_idx+1]['zip_bin_C'])[0] == 1:\n",
    "        zip_bin_C = 1\n",
    "    elif list(any_df[df_idx:df_idx+1]['zip_bin_OL'])[0] == 1:\n",
    "        zip_bin_OL = 1\n",
    "\n",
    "    if (zip_bin_B == 0) & (zip_bin_C == 0) & (zip_bin_OL == 0):\n",
    "        zip_cat = 'A'\n",
    "    elif (zip_bin_B == 1) & (zip_bin_C == 0) & (zip_bin_OL == 0):\n",
    "        zip_cat = 'B'\n",
    "    elif (zip_bin_B == 0) & (zip_bin_C == 1) & (zip_bin_OL == 0):\n",
    "        zip_cat = 'C'\n",
    "    elif (zip_bin_B == 0) & (zip_bin_C == 0) & (zip_bin_OL == 1):\n",
    "        zip_cat = 'D'\n",
    "    \n",
    "    if list(any_df[df_idx:df_idx+1]['grade_bin_B'])[0] == 1:\n",
    "        grade_cat = 'B'\n",
    "    elif list(any_df[df_idx:df_idx+1]['grade_bin_C'])[0] == 1:\n",
    "        grade_cat = 'C'\n",
    "    else:\n",
    "        grade_cat = 'A'\n",
    "    \n",
    "    index = list(any_df[df_idx:df_idx+1]['index'])[0]\n",
    "    sqft = list(any_df[df_idx:df_idx+1]['sqft_living'])[0]\n",
    "    sale_price = (int(list(any_df[df_idx:df_idx+1]['price'])[0]))\n",
    "    kc_id = list(any_df[df_idx:df_idx+1]['id'])[0]\n",
    "    \n",
    "    \n",
    "#    if zip_cat == 'A':\n",
    "    results = []\n",
    "    grade_A_result = ((sqft*prediction_df.sqft_living[0]) + \n",
    "                          (zip_bin_B*prediction_df.zip_bin_B[0]) + \n",
    "                          (zip_bin_C*prediction_df.zip_bin_C[0]) + \n",
    "                          (zip_bin_OL*prediction_df.zip_bin_OL[0]) + \n",
    "                          (grade_bin_B*prediction_df.grade_bin_B[0]) +\n",
    "                          (grade_bin_C*prediction_df.grade_bin_C[0]) +                    \n",
    "                          list(linreg.intercept_)[0])\n",
    "    results.append(int(round(grade_A_result,0)))\n",
    "    grade_bin_B = 1\n",
    "    grade_B_result = ((sqft*prediction_df.sqft_living[0]) + \n",
    "                          (zip_bin_B*prediction_df.zip_bin_B[0]) + \n",
    "                          (zip_bin_C*prediction_df.zip_bin_C[0]) + \n",
    "                          (zip_bin_OL*prediction_df.zip_bin_OL[0]) + \n",
    "                          (grade_bin_B*prediction_df.grade_bin_B[0]) +\n",
    "                          (grade_bin_C*prediction_df.grade_bin_C[0]) +                    \n",
    "                          list(linreg.intercept_)[0])\n",
    "    results.append(int(round(grade_B_result)))\n",
    "    grade_bin_B = 0\n",
    "    grade_bin_C = 1\n",
    "    grade_C_result = ((sqft*prediction_df.sqft_living[0]) + \n",
    "                          (zip_bin_B*prediction_df.zip_bin_B[0]) + \n",
    "                          (zip_bin_C*prediction_df.zip_bin_C[0]) + \n",
    "                          (zip_bin_OL*prediction_df.zip_bin_OL[0]) + \n",
    "                          (grade_bin_B*prediction_df.grade_bin_B[0]) +\n",
    "                          (grade_bin_C*prediction_df.grade_bin_C[0]) +                    \n",
    "                          list(linreg.intercept_)[0])\n",
    "    results.append(int(round(grade_C_result, 0)))\n",
    "    \n",
    "    cols = ['index', 'id', 'sqft_living', 'sale_price', 'zip_cat', 'grade_cat', 'pred_price_grade_A', 'pred_price_grade_B', 'pred_price_grade_C']\n",
    "    results = [[index, kc_id, sqft, sale_price, zip_cat, grade_cat, results[0], results[1], results[2]]]\n",
    "    output = pd.DataFrame(results, columns = cols)\n",
    "    return output"
   ]
  },
  {
   "cell_type": "code",
   "execution_count": 116,
   "metadata": {},
   "outputs": [],
   "source": [
    "def dataframe_predict(df_to_predict):\n",
    "    to_concat = []\n",
    "    for i in list(range(len(df_to_predict))):\n",
    "        to_concat.append(price_prediction_func(df_to_predict, i))\n",
    "    output = pd.concat(to_concat)\n",
    "    output.reset_index(inplace=True, drop=True)\n",
    "    return output"
   ]
  },
  {
   "cell_type": "code",
   "execution_count": 117,
   "metadata": {},
   "outputs": [],
   "source": [
    "df_pred_frac = df_dumm.sample(frac=0.0007, random_state=1345)\n",
    "df_pred_frac.reset_index(inplace=True)"
   ]
  },
  {
   "cell_type": "code",
   "execution_count": 118,
   "metadata": {},
   "outputs": [
    {
     "data": {
      "text/html": [
       "<div>\n",
       "<style scoped>\n",
       "    .dataframe tbody tr th:only-of-type {\n",
       "        vertical-align: middle;\n",
       "    }\n",
       "\n",
       "    .dataframe tbody tr th {\n",
       "        vertical-align: top;\n",
       "    }\n",
       "\n",
       "    .dataframe thead th {\n",
       "        text-align: right;\n",
       "    }\n",
       "</style>\n",
       "<table border=\"1\" class=\"dataframe\">\n",
       "  <thead>\n",
       "    <tr style=\"text-align: right;\">\n",
       "      <th></th>\n",
       "      <th>index</th>\n",
       "      <th>id</th>\n",
       "      <th>sqft_living</th>\n",
       "      <th>sale_price</th>\n",
       "      <th>zip_cat</th>\n",
       "      <th>grade_cat</th>\n",
       "      <th>pred_price_grade_A</th>\n",
       "      <th>pred_price_grade_B</th>\n",
       "      <th>pred_price_grade_C</th>\n",
       "    </tr>\n",
       "  </thead>\n",
       "  <tbody>\n",
       "    <tr>\n",
       "      <th>0</th>\n",
       "      <td>16317</td>\n",
       "      <td>9492500140</td>\n",
       "      <td>3010</td>\n",
       "      <td>839950</td>\n",
       "      <td>C</td>\n",
       "      <td>B</td>\n",
       "      <td>819738</td>\n",
       "      <td>867009</td>\n",
       "      <td>1032723</td>\n",
       "    </tr>\n",
       "    <tr>\n",
       "      <th>1</th>\n",
       "      <td>7896</td>\n",
       "      <td>7970800100</td>\n",
       "      <td>1982</td>\n",
       "      <td>283200</td>\n",
       "      <td>A</td>\n",
       "      <td>B</td>\n",
       "      <td>349554</td>\n",
       "      <td>396825</td>\n",
       "      <td>562539</td>\n",
       "    </tr>\n",
       "    <tr>\n",
       "      <th>2</th>\n",
       "      <td>12806</td>\n",
       "      <td>1087900050</td>\n",
       "      <td>2000</td>\n",
       "      <td>560000</td>\n",
       "      <td>C</td>\n",
       "      <td>A</td>\n",
       "      <td>678267</td>\n",
       "      <td>725537</td>\n",
       "      <td>891252</td>\n",
       "    </tr>\n",
       "    <tr>\n",
       "      <th>3</th>\n",
       "      <td>15031</td>\n",
       "      <td>3332000061</td>\n",
       "      <td>2020</td>\n",
       "      <td>552500</td>\n",
       "      <td>A</td>\n",
       "      <td>A</td>\n",
       "      <td>354877</td>\n",
       "      <td>402148</td>\n",
       "      <td>567862</td>\n",
       "    </tr>\n",
       "    <tr>\n",
       "      <th>4</th>\n",
       "      <td>6734</td>\n",
       "      <td>3971700937</td>\n",
       "      <td>1260</td>\n",
       "      <td>270000</td>\n",
       "      <td>A</td>\n",
       "      <td>A</td>\n",
       "      <td>248423</td>\n",
       "      <td>295694</td>\n",
       "      <td>461408</td>\n",
       "    </tr>\n",
       "    <tr>\n",
       "      <th>5</th>\n",
       "      <td>442</td>\n",
       "      <td>7800800160</td>\n",
       "      <td>2120</td>\n",
       "      <td>375000</td>\n",
       "      <td>A</td>\n",
       "      <td>B</td>\n",
       "      <td>368884</td>\n",
       "      <td>416155</td>\n",
       "      <td>581869</td>\n",
       "    </tr>\n",
       "    <tr>\n",
       "      <th>6</th>\n",
       "      <td>13477</td>\n",
       "      <td>9346900170</td>\n",
       "      <td>2330</td>\n",
       "      <td>615000</td>\n",
       "      <td>C</td>\n",
       "      <td>B</td>\n",
       "      <td>724490</td>\n",
       "      <td>771761</td>\n",
       "      <td>937475</td>\n",
       "    </tr>\n",
       "    <tr>\n",
       "      <th>7</th>\n",
       "      <td>2164</td>\n",
       "      <td>179003055</td>\n",
       "      <td>1200</td>\n",
       "      <td>210000</td>\n",
       "      <td>A</td>\n",
       "      <td>A</td>\n",
       "      <td>240019</td>\n",
       "      <td>287290</td>\n",
       "      <td>453004</td>\n",
       "    </tr>\n",
       "    <tr>\n",
       "      <th>8</th>\n",
       "      <td>8618</td>\n",
       "      <td>9346920260</td>\n",
       "      <td>2500</td>\n",
       "      <td>646000</td>\n",
       "      <td>C</td>\n",
       "      <td>B</td>\n",
       "      <td>748302</td>\n",
       "      <td>795573</td>\n",
       "      <td>961287</td>\n",
       "    </tr>\n",
       "    <tr>\n",
       "      <th>9</th>\n",
       "      <td>16454</td>\n",
       "      <td>5126300060</td>\n",
       "      <td>2610</td>\n",
       "      <td>515000</td>\n",
       "      <td>B</td>\n",
       "      <td>B</td>\n",
       "      <td>624135</td>\n",
       "      <td>671406</td>\n",
       "      <td>837120</td>\n",
       "    </tr>\n",
       "    <tr>\n",
       "      <th>10</th>\n",
       "      <td>10595</td>\n",
       "      <td>5425700150</td>\n",
       "      <td>1580</td>\n",
       "      <td>787500</td>\n",
       "      <td>D</td>\n",
       "      <td>A</td>\n",
       "      <td>866029</td>\n",
       "      <td>913299</td>\n",
       "      <td>1079014</td>\n",
       "    </tr>\n",
       "    <tr>\n",
       "      <th>11</th>\n",
       "      <td>17725</td>\n",
       "      <td>3845100670</td>\n",
       "      <td>3274</td>\n",
       "      <td>478830</td>\n",
       "      <td>A</td>\n",
       "      <td>B</td>\n",
       "      <td>530526</td>\n",
       "      <td>577796</td>\n",
       "      <td>743511</td>\n",
       "    </tr>\n",
       "    <tr>\n",
       "      <th>12</th>\n",
       "      <td>4633</td>\n",
       "      <td>7852010290</td>\n",
       "      <td>3340</td>\n",
       "      <td>720000</td>\n",
       "      <td>B</td>\n",
       "      <td>C</td>\n",
       "      <td>726387</td>\n",
       "      <td>773657</td>\n",
       "      <td>939372</td>\n",
       "    </tr>\n",
       "  </tbody>\n",
       "</table>\n",
       "</div>"
      ],
      "text/plain": [
       "    index          id  sqft_living  sale_price zip_cat grade_cat  \\\n",
       "0   16317  9492500140         3010      839950       C         B   \n",
       "1    7896  7970800100         1982      283200       A         B   \n",
       "2   12806  1087900050         2000      560000       C         A   \n",
       "3   15031  3332000061         2020      552500       A         A   \n",
       "4    6734  3971700937         1260      270000       A         A   \n",
       "5     442  7800800160         2120      375000       A         B   \n",
       "6   13477  9346900170         2330      615000       C         B   \n",
       "7    2164   179003055         1200      210000       A         A   \n",
       "8    8618  9346920260         2500      646000       C         B   \n",
       "9   16454  5126300060         2610      515000       B         B   \n",
       "10  10595  5425700150         1580      787500       D         A   \n",
       "11  17725  3845100670         3274      478830       A         B   \n",
       "12   4633  7852010290         3340      720000       B         C   \n",
       "\n",
       "    pred_price_grade_A  pred_price_grade_B  pred_price_grade_C  \n",
       "0               819738              867009             1032723  \n",
       "1               349554              396825              562539  \n",
       "2               678267              725537              891252  \n",
       "3               354877              402148              567862  \n",
       "4               248423              295694              461408  \n",
       "5               368884              416155              581869  \n",
       "6               724490              771761              937475  \n",
       "7               240019              287290              453004  \n",
       "8               748302              795573              961287  \n",
       "9               624135              671406              837120  \n",
       "10              866029              913299             1079014  \n",
       "11              530526              577796              743511  \n",
       "12              726387              773657              939372  "
      ]
     },
     "execution_count": 118,
     "metadata": {},
     "output_type": "execute_result"
    }
   ],
   "source": [
    "dataframe_predict(df_pred_frac)"
   ]
  },
  {
   "cell_type": "markdown",
   "metadata": {},
   "source": [
    "# APPENDIX"
   ]
  },
  {
   "cell_type": "markdown",
   "metadata": {},
   "source": [
    "## How do the features look when grade is the target?"
   ]
  },
  {
   "cell_type": "code",
   "execution_count": 119,
   "metadata": {},
   "outputs": [],
   "source": [
    "df_view_grade = df.drop(['id', 'date', 'zipcode', 'lat', 'long'], axis=1)"
   ]
  },
  {
   "cell_type": "code",
   "execution_count": 120,
   "metadata": {
    "scrolled": false
   },
   "outputs": [
    {
     "data": {
      "image/png": "[encoded data removed]",
      "text/plain": [
       "<Figure size 1008x3744 with 18 Axes>"
      ]
     },
     "metadata": {
      "needs_background": "light"
     },
     "output_type": "display_data"
    }
   ],
   "source": [
    "#%%capture\n",
    "fig = plt.figure(figsize = (14,52))\n",
    "fig.suptitle('Grade vs Price as Target', fontsize=16)\n",
    "fig.tight_layout()\n",
    "fig.subplots_adjust(top=0.95)\n",
    "\n",
    "plot_pos = 1\n",
    "\n",
    "for i in df_view_grade.columns:\n",
    "    if (i != 'grade') & (i != 'price'):\n",
    "        ax = plt.subplot(13,2,plot_pos)\n",
    "        ax.scatter(df[[i]], df.grade)\n",
    "        ax.set_xlabel(str(i) + ' count / value')\n",
    "        ax.set_ylabel('Grade')\n",
    "        #lm = smf.ols(formula = 'grade ~ ' + str(i), data = df).fit()\n",
    "        #X_new = pd.DataFrame({str(i): [df[i].min(), df[i].max()]})\n",
    "        #preds = lm.predict(X_new)\n",
    "        #ax.plot(X_new, preds, c='red', linewidth=2)\n",
    "        #ax.set_title('Corr: ' + str(df[['grade',i]].corr().iloc[0:1,1:]))\n",
    "        ax.set_title(str(i))\n",
    "        plt.subplots_adjust(hspace=0.5)\n",
    "        plot_pos += 1\n",
    "        ax = plt.subplot(13,2,plot_pos)\n",
    "        ax.scatter(df[[i]], df.price)\n",
    "        ax.set_xlabel(str(i) + ' count / value')\n",
    "        ax.set_ylabel('Price')\n",
    "        lm = smf.ols(formula = 'price ~ ' + str(i), data = df).fit()\n",
    "        X_new = pd.DataFrame({str(i): [df[i].min(), df[i].max()]})\n",
    "        preds = lm.predict(X_new)\n",
    "        ax.plot(X_new, preds, c='red', linewidth=2)\n",
    "        ax.set_title('Corr: ' + str(df[['price',i]].corr().iloc[0:1,1:]))\n",
    "        plt.subplots_adjust(hspace=0.5)\n",
    "        plot_pos += 1\n",
    "        \n",
    "#fig.savefig('Grade vs Price as target')"
   ]
  }
 ],
 "metadata": {
  "kernelspec": {
   "display_name": "learn-env",
   "language": "python",
   "name": "learn-env"
  },
  "language_info": {
   "codemirror_mode": {
    "name": "ipython",
    "version": 3
   },
   "file_extension": ".py",
   "mimetype": "text/x-python",
   "name": "python",
   "nbconvert_exporter": "python",
   "pygments_lexer": "ipython3",
   "version": "3.7.0"
  }
 },
 "nbformat": 4,
 "nbformat_minor": 2
}
